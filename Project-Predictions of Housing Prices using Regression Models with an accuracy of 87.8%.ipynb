{
 "cells": [
  {
   "cell_type": "markdown",
   "metadata": {},
   "source": [
    "# Problem Statement: The data contains the Selling Prices of different houses bases on different characteristics/attributes like area,no.of rooms,no.of bathrooms,etc"
   ]
  },
  {
   "cell_type": "markdown",
   "metadata": {},
   "source": [
    "# At times, the property dealers appreciate the prices bases on the demand and hence there is rise in prices in real estates.so, in order to cope with this problems so that it is beneficial for the customers, we must have a model in place which should tell us the ideal prices of the house based on its characteristics."
   ]
  },
  {
   "cell_type": "markdown",
   "metadata": {},
   "source": [
    "# The objective of the study is to predict the ideal prices of the houses based on their characteristics using Regression algorithms.\n"
   ]
  },
  {
   "cell_type": "markdown",
   "metadata": {},
   "source": [
    "# Author : M.A.Azam"
   ]
  },
  {
   "cell_type": "code",
   "execution_count": 1,
   "metadata": {},
   "outputs": [],
   "source": [
    "#Importing basic libraries\n",
    "import numpy as np\n",
    "import pandas as pd\n",
    "import matplotlib.pyplot as plt\n",
    "import warnings\n",
    "warnings.filterwarnings(action='ignore')"
   ]
  },
  {
   "cell_type": "code",
   "execution_count": 2,
   "metadata": {},
   "outputs": [
    {
     "data": {
      "text/html": [
       "<div>\n",
       "<style scoped>\n",
       "    .dataframe tbody tr th:only-of-type {\n",
       "        vertical-align: middle;\n",
       "    }\n",
       "\n",
       "    .dataframe tbody tr th {\n",
       "        vertical-align: top;\n",
       "    }\n",
       "\n",
       "    .dataframe thead th {\n",
       "        text-align: right;\n",
       "    }\n",
       "</style>\n",
       "<table border=\"1\" class=\"dataframe\">\n",
       "  <thead>\n",
       "    <tr style=\"text-align: right;\">\n",
       "      <th></th>\n",
       "      <th>ID</th>\n",
       "      <th>Date House was Sold</th>\n",
       "      <th>Sale Price</th>\n",
       "      <th>No of Bedrooms</th>\n",
       "      <th>No of Bathrooms</th>\n",
       "      <th>Flat Area (in Sqft)</th>\n",
       "      <th>Lot Area (in Sqft)</th>\n",
       "      <th>No of Floors</th>\n",
       "      <th>Waterfront View</th>\n",
       "      <th>No of Times Visited</th>\n",
       "      <th>...</th>\n",
       "      <th>Overall Grade</th>\n",
       "      <th>Area of the House from Basement (in Sqft)</th>\n",
       "      <th>Basement Area (in Sqft)</th>\n",
       "      <th>Age of House (in Years)</th>\n",
       "      <th>Renovated Year</th>\n",
       "      <th>Zipcode</th>\n",
       "      <th>Latitude</th>\n",
       "      <th>Longitude</th>\n",
       "      <th>Living Area after Renovation (in Sqft)</th>\n",
       "      <th>Lot Area after Renovation (in Sqft)</th>\n",
       "    </tr>\n",
       "  </thead>\n",
       "  <tbody>\n",
       "    <tr>\n",
       "      <th>0</th>\n",
       "      <td>7129300520</td>\n",
       "      <td>14-Oct-17</td>\n",
       "      <td>221900.0</td>\n",
       "      <td>3</td>\n",
       "      <td>1.00</td>\n",
       "      <td>1180.0</td>\n",
       "      <td>5650.0</td>\n",
       "      <td>1.0</td>\n",
       "      <td>No</td>\n",
       "      <td>None</td>\n",
       "      <td>...</td>\n",
       "      <td>7</td>\n",
       "      <td>1180.0</td>\n",
       "      <td>0</td>\n",
       "      <td>63</td>\n",
       "      <td>0</td>\n",
       "      <td>98178.0</td>\n",
       "      <td>47.5112</td>\n",
       "      <td>-122.257</td>\n",
       "      <td>1340.0</td>\n",
       "      <td>5650</td>\n",
       "    </tr>\n",
       "    <tr>\n",
       "      <th>1</th>\n",
       "      <td>6414100192</td>\n",
       "      <td>14-Dec-17</td>\n",
       "      <td>538000.0</td>\n",
       "      <td>3</td>\n",
       "      <td>2.25</td>\n",
       "      <td>2570.0</td>\n",
       "      <td>7242.0</td>\n",
       "      <td>2.0</td>\n",
       "      <td>No</td>\n",
       "      <td>None</td>\n",
       "      <td>...</td>\n",
       "      <td>7</td>\n",
       "      <td>2170.0</td>\n",
       "      <td>400</td>\n",
       "      <td>67</td>\n",
       "      <td>1991</td>\n",
       "      <td>98125.0</td>\n",
       "      <td>47.7210</td>\n",
       "      <td>-122.319</td>\n",
       "      <td>1690.0</td>\n",
       "      <td>7639</td>\n",
       "    </tr>\n",
       "    <tr>\n",
       "      <th>2</th>\n",
       "      <td>5631500400</td>\n",
       "      <td>15-Feb-16</td>\n",
       "      <td>180000.0</td>\n",
       "      <td>2</td>\n",
       "      <td>1.00</td>\n",
       "      <td>770.0</td>\n",
       "      <td>10000.0</td>\n",
       "      <td>1.0</td>\n",
       "      <td>No</td>\n",
       "      <td>None</td>\n",
       "      <td>...</td>\n",
       "      <td>6</td>\n",
       "      <td>770.0</td>\n",
       "      <td>0</td>\n",
       "      <td>85</td>\n",
       "      <td>0</td>\n",
       "      <td>98028.0</td>\n",
       "      <td>47.7379</td>\n",
       "      <td>-122.233</td>\n",
       "      <td>2720.0</td>\n",
       "      <td>8062</td>\n",
       "    </tr>\n",
       "    <tr>\n",
       "      <th>3</th>\n",
       "      <td>2487200875</td>\n",
       "      <td>14-Dec-17</td>\n",
       "      <td>604000.0</td>\n",
       "      <td>4</td>\n",
       "      <td>3.00</td>\n",
       "      <td>1960.0</td>\n",
       "      <td>5000.0</td>\n",
       "      <td>1.0</td>\n",
       "      <td>No</td>\n",
       "      <td>None</td>\n",
       "      <td>...</td>\n",
       "      <td>7</td>\n",
       "      <td>1050.0</td>\n",
       "      <td>910</td>\n",
       "      <td>53</td>\n",
       "      <td>0</td>\n",
       "      <td>98136.0</td>\n",
       "      <td>47.5208</td>\n",
       "      <td>-122.393</td>\n",
       "      <td>1360.0</td>\n",
       "      <td>5000</td>\n",
       "    </tr>\n",
       "    <tr>\n",
       "      <th>4</th>\n",
       "      <td>1954400510</td>\n",
       "      <td>15-Feb-16</td>\n",
       "      <td>510000.0</td>\n",
       "      <td>3</td>\n",
       "      <td>2.00</td>\n",
       "      <td>1680.0</td>\n",
       "      <td>8080.0</td>\n",
       "      <td>1.0</td>\n",
       "      <td>No</td>\n",
       "      <td>None</td>\n",
       "      <td>...</td>\n",
       "      <td>8</td>\n",
       "      <td>1680.0</td>\n",
       "      <td>0</td>\n",
       "      <td>31</td>\n",
       "      <td>0</td>\n",
       "      <td>98074.0</td>\n",
       "      <td>47.6168</td>\n",
       "      <td>-122.045</td>\n",
       "      <td>1800.0</td>\n",
       "      <td>7503</td>\n",
       "    </tr>\n",
       "  </tbody>\n",
       "</table>\n",
       "<p>5 rows × 21 columns</p>\n",
       "</div>"
      ],
      "text/plain": [
       "           ID Date House was Sold  Sale Price  No of Bedrooms  \\\n",
       "0  7129300520           14-Oct-17    221900.0               3   \n",
       "1  6414100192           14-Dec-17    538000.0               3   \n",
       "2  5631500400           15-Feb-16    180000.0               2   \n",
       "3  2487200875           14-Dec-17    604000.0               4   \n",
       "4  1954400510           15-Feb-16    510000.0               3   \n",
       "\n",
       "   No of Bathrooms  Flat Area (in Sqft)  Lot Area (in Sqft)  No of Floors  \\\n",
       "0             1.00               1180.0              5650.0           1.0   \n",
       "1             2.25               2570.0              7242.0           2.0   \n",
       "2             1.00                770.0             10000.0           1.0   \n",
       "3             3.00               1960.0              5000.0           1.0   \n",
       "4             2.00               1680.0              8080.0           1.0   \n",
       "\n",
       "  Waterfront View No of Times Visited  ... Overall Grade  \\\n",
       "0              No                None  ...             7   \n",
       "1              No                None  ...             7   \n",
       "2              No                None  ...             6   \n",
       "3              No                None  ...             7   \n",
       "4              No                None  ...             8   \n",
       "\n",
       "   Area of the House from Basement (in Sqft)  Basement Area (in Sqft)  \\\n",
       "0                                     1180.0                        0   \n",
       "1                                     2170.0                      400   \n",
       "2                                      770.0                        0   \n",
       "3                                     1050.0                      910   \n",
       "4                                     1680.0                        0   \n",
       "\n",
       "   Age of House (in Years)  Renovated Year  Zipcode  Latitude  Longitude  \\\n",
       "0                       63               0  98178.0   47.5112   -122.257   \n",
       "1                       67            1991  98125.0   47.7210   -122.319   \n",
       "2                       85               0  98028.0   47.7379   -122.233   \n",
       "3                       53               0  98136.0   47.5208   -122.393   \n",
       "4                       31               0  98074.0   47.6168   -122.045   \n",
       "\n",
       "   Living Area after Renovation (in Sqft)  Lot Area after Renovation (in Sqft)  \n",
       "0                                  1340.0                                 5650  \n",
       "1                                  1690.0                                 7639  \n",
       "2                                  2720.0                                 8062  \n",
       "3                                  1360.0                                 5000  \n",
       "4                                  1800.0                                 7503  \n",
       "\n",
       "[5 rows x 21 columns]"
      ]
     },
     "execution_count": 2,
     "metadata": {},
     "output_type": "execute_result"
    }
   ],
   "source": [
    "#Importing data\n",
    "Housing_Prices=pd.read_csv('1. Regression - Module - (Housing Prices).csv')\n",
    "Housing_Prices.head()"
   ]
  },
  {
   "cell_type": "code",
   "execution_count": 3,
   "metadata": {},
   "outputs": [
    {
     "data": {
      "text/plain": [
       "(21613, 21)"
      ]
     },
     "execution_count": 3,
     "metadata": {},
     "output_type": "execute_result"
    }
   ],
   "source": [
    "Housing_Prices.shape #21613 rows and 21 columns"
   ]
  },
  {
   "cell_type": "code",
   "execution_count": 4,
   "metadata": {},
   "outputs": [
    {
     "data": {
      "text/html": [
       "<div>\n",
       "<style scoped>\n",
       "    .dataframe tbody tr th:only-of-type {\n",
       "        vertical-align: middle;\n",
       "    }\n",
       "\n",
       "    .dataframe tbody tr th {\n",
       "        vertical-align: top;\n",
       "    }\n",
       "\n",
       "    .dataframe thead th {\n",
       "        text-align: right;\n",
       "    }\n",
       "</style>\n",
       "<table border=\"1\" class=\"dataframe\">\n",
       "  <thead>\n",
       "    <tr style=\"text-align: right;\">\n",
       "      <th></th>\n",
       "      <th>count</th>\n",
       "      <th>mean</th>\n",
       "      <th>std</th>\n",
       "      <th>min</th>\n",
       "      <th>25%</th>\n",
       "      <th>50%</th>\n",
       "      <th>75%</th>\n",
       "      <th>max</th>\n",
       "    </tr>\n",
       "  </thead>\n",
       "  <tbody>\n",
       "    <tr>\n",
       "      <th>ID</th>\n",
       "      <td>21613.0</td>\n",
       "      <td>4.580302e+09</td>\n",
       "      <td>2.876566e+09</td>\n",
       "      <td>1.000102e+06</td>\n",
       "      <td>2.123049e+09</td>\n",
       "      <td>3.904930e+09</td>\n",
       "      <td>7.308900e+09</td>\n",
       "      <td>9.900000e+09</td>\n",
       "    </tr>\n",
       "    <tr>\n",
       "      <th>Sale Price</th>\n",
       "      <td>21609.0</td>\n",
       "      <td>5.401984e+05</td>\n",
       "      <td>3.673890e+05</td>\n",
       "      <td>7.500000e+04</td>\n",
       "      <td>3.219500e+05</td>\n",
       "      <td>4.500000e+05</td>\n",
       "      <td>6.450000e+05</td>\n",
       "      <td>7.700000e+06</td>\n",
       "    </tr>\n",
       "    <tr>\n",
       "      <th>No of Bedrooms</th>\n",
       "      <td>21613.0</td>\n",
       "      <td>3.370842e+00</td>\n",
       "      <td>9.300618e-01</td>\n",
       "      <td>0.000000e+00</td>\n",
       "      <td>3.000000e+00</td>\n",
       "      <td>3.000000e+00</td>\n",
       "      <td>4.000000e+00</td>\n",
       "      <td>3.300000e+01</td>\n",
       "    </tr>\n",
       "    <tr>\n",
       "      <th>No of Bathrooms</th>\n",
       "      <td>21609.0</td>\n",
       "      <td>2.114732e+00</td>\n",
       "      <td>7.701384e-01</td>\n",
       "      <td>0.000000e+00</td>\n",
       "      <td>1.750000e+00</td>\n",
       "      <td>2.250000e+00</td>\n",
       "      <td>2.500000e+00</td>\n",
       "      <td>8.000000e+00</td>\n",
       "    </tr>\n",
       "    <tr>\n",
       "      <th>Flat Area (in Sqft)</th>\n",
       "      <td>21604.0</td>\n",
       "      <td>2.079932e+03</td>\n",
       "      <td>9.184876e+02</td>\n",
       "      <td>2.900000e+02</td>\n",
       "      <td>1.429250e+03</td>\n",
       "      <td>1.910000e+03</td>\n",
       "      <td>2.550000e+03</td>\n",
       "      <td>1.354000e+04</td>\n",
       "    </tr>\n",
       "    <tr>\n",
       "      <th>Lot Area (in Sqft)</th>\n",
       "      <td>21604.0</td>\n",
       "      <td>1.510776e+04</td>\n",
       "      <td>4.142827e+04</td>\n",
       "      <td>5.200000e+02</td>\n",
       "      <td>5.040000e+03</td>\n",
       "      <td>7.617500e+03</td>\n",
       "      <td>1.068825e+04</td>\n",
       "      <td>1.651359e+06</td>\n",
       "    </tr>\n",
       "    <tr>\n",
       "      <th>No of Floors</th>\n",
       "      <td>21613.0</td>\n",
       "      <td>1.494309e+00</td>\n",
       "      <td>5.399889e-01</td>\n",
       "      <td>1.000000e+00</td>\n",
       "      <td>1.000000e+00</td>\n",
       "      <td>1.500000e+00</td>\n",
       "      <td>2.000000e+00</td>\n",
       "      <td>3.500000e+00</td>\n",
       "    </tr>\n",
       "    <tr>\n",
       "      <th>Overall Grade</th>\n",
       "      <td>21613.0</td>\n",
       "      <td>7.623467e+00</td>\n",
       "      <td>1.105439e+00</td>\n",
       "      <td>1.000000e+00</td>\n",
       "      <td>7.000000e+00</td>\n",
       "      <td>7.000000e+00</td>\n",
       "      <td>8.000000e+00</td>\n",
       "      <td>1.000000e+01</td>\n",
       "    </tr>\n",
       "    <tr>\n",
       "      <th>Area of the House from Basement (in Sqft)</th>\n",
       "      <td>21610.0</td>\n",
       "      <td>1.788344e+03</td>\n",
       "      <td>8.279826e+02</td>\n",
       "      <td>2.900000e+02</td>\n",
       "      <td>1.190000e+03</td>\n",
       "      <td>1.560000e+03</td>\n",
       "      <td>2.210000e+03</td>\n",
       "      <td>9.410000e+03</td>\n",
       "    </tr>\n",
       "    <tr>\n",
       "      <th>Basement Area (in Sqft)</th>\n",
       "      <td>21613.0</td>\n",
       "      <td>2.915090e+02</td>\n",
       "      <td>4.425750e+02</td>\n",
       "      <td>0.000000e+00</td>\n",
       "      <td>0.000000e+00</td>\n",
       "      <td>0.000000e+00</td>\n",
       "      <td>5.600000e+02</td>\n",
       "      <td>4.820000e+03</td>\n",
       "    </tr>\n",
       "    <tr>\n",
       "      <th>Age of House (in Years)</th>\n",
       "      <td>21613.0</td>\n",
       "      <td>4.699486e+01</td>\n",
       "      <td>2.937341e+01</td>\n",
       "      <td>3.000000e+00</td>\n",
       "      <td>2.100000e+01</td>\n",
       "      <td>4.300000e+01</td>\n",
       "      <td>6.700000e+01</td>\n",
       "      <td>1.180000e+02</td>\n",
       "    </tr>\n",
       "    <tr>\n",
       "      <th>Renovated Year</th>\n",
       "      <td>21613.0</td>\n",
       "      <td>8.440226e+01</td>\n",
       "      <td>4.016792e+02</td>\n",
       "      <td>0.000000e+00</td>\n",
       "      <td>0.000000e+00</td>\n",
       "      <td>0.000000e+00</td>\n",
       "      <td>0.000000e+00</td>\n",
       "      <td>2.015000e+03</td>\n",
       "    </tr>\n",
       "    <tr>\n",
       "      <th>Zipcode</th>\n",
       "      <td>21612.0</td>\n",
       "      <td>9.807794e+04</td>\n",
       "      <td>5.350542e+01</td>\n",
       "      <td>9.800100e+04</td>\n",
       "      <td>9.803300e+04</td>\n",
       "      <td>9.806500e+04</td>\n",
       "      <td>9.811800e+04</td>\n",
       "      <td>9.819900e+04</td>\n",
       "    </tr>\n",
       "    <tr>\n",
       "      <th>Latitude</th>\n",
       "      <td>21612.0</td>\n",
       "      <td>4.756005e+01</td>\n",
       "      <td>1.385650e-01</td>\n",
       "      <td>4.715590e+01</td>\n",
       "      <td>4.747098e+01</td>\n",
       "      <td>4.757180e+01</td>\n",
       "      <td>4.767800e+01</td>\n",
       "      <td>4.777760e+01</td>\n",
       "    </tr>\n",
       "    <tr>\n",
       "      <th>Longitude</th>\n",
       "      <td>21612.0</td>\n",
       "      <td>-1.222139e+02</td>\n",
       "      <td>1.408298e-01</td>\n",
       "      <td>-1.225190e+02</td>\n",
       "      <td>-1.223280e+02</td>\n",
       "      <td>-1.222300e+02</td>\n",
       "      <td>-1.221250e+02</td>\n",
       "      <td>-1.213150e+02</td>\n",
       "    </tr>\n",
       "    <tr>\n",
       "      <th>Living Area after Renovation (in Sqft)</th>\n",
       "      <td>21612.0</td>\n",
       "      <td>1.986539e+03</td>\n",
       "      <td>6.854043e+02</td>\n",
       "      <td>3.990000e+02</td>\n",
       "      <td>1.490000e+03</td>\n",
       "      <td>1.840000e+03</td>\n",
       "      <td>2.360000e+03</td>\n",
       "      <td>6.210000e+03</td>\n",
       "    </tr>\n",
       "    <tr>\n",
       "      <th>Lot Area after Renovation (in Sqft)</th>\n",
       "      <td>21613.0</td>\n",
       "      <td>1.276846e+04</td>\n",
       "      <td>2.730418e+04</td>\n",
       "      <td>6.510000e+02</td>\n",
       "      <td>5.100000e+03</td>\n",
       "      <td>7.620000e+03</td>\n",
       "      <td>1.008300e+04</td>\n",
       "      <td>8.712000e+05</td>\n",
       "    </tr>\n",
       "  </tbody>\n",
       "</table>\n",
       "</div>"
      ],
      "text/plain": [
       "                                             count          mean  \\\n",
       "ID                                         21613.0  4.580302e+09   \n",
       "Sale Price                                 21609.0  5.401984e+05   \n",
       "No of Bedrooms                             21613.0  3.370842e+00   \n",
       "No of Bathrooms                            21609.0  2.114732e+00   \n",
       "Flat Area (in Sqft)                        21604.0  2.079932e+03   \n",
       "Lot Area (in Sqft)                         21604.0  1.510776e+04   \n",
       "No of Floors                               21613.0  1.494309e+00   \n",
       "Overall Grade                              21613.0  7.623467e+00   \n",
       "Area of the House from Basement (in Sqft)  21610.0  1.788344e+03   \n",
       "Basement Area (in Sqft)                    21613.0  2.915090e+02   \n",
       "Age of House (in Years)                    21613.0  4.699486e+01   \n",
       "Renovated Year                             21613.0  8.440226e+01   \n",
       "Zipcode                                    21612.0  9.807794e+04   \n",
       "Latitude                                   21612.0  4.756005e+01   \n",
       "Longitude                                  21612.0 -1.222139e+02   \n",
       "Living Area after Renovation (in Sqft)     21612.0  1.986539e+03   \n",
       "Lot Area after Renovation (in Sqft)        21613.0  1.276846e+04   \n",
       "\n",
       "                                                    std           min  \\\n",
       "ID                                         2.876566e+09  1.000102e+06   \n",
       "Sale Price                                 3.673890e+05  7.500000e+04   \n",
       "No of Bedrooms                             9.300618e-01  0.000000e+00   \n",
       "No of Bathrooms                            7.701384e-01  0.000000e+00   \n",
       "Flat Area (in Sqft)                        9.184876e+02  2.900000e+02   \n",
       "Lot Area (in Sqft)                         4.142827e+04  5.200000e+02   \n",
       "No of Floors                               5.399889e-01  1.000000e+00   \n",
       "Overall Grade                              1.105439e+00  1.000000e+00   \n",
       "Area of the House from Basement (in Sqft)  8.279826e+02  2.900000e+02   \n",
       "Basement Area (in Sqft)                    4.425750e+02  0.000000e+00   \n",
       "Age of House (in Years)                    2.937341e+01  3.000000e+00   \n",
       "Renovated Year                             4.016792e+02  0.000000e+00   \n",
       "Zipcode                                    5.350542e+01  9.800100e+04   \n",
       "Latitude                                   1.385650e-01  4.715590e+01   \n",
       "Longitude                                  1.408298e-01 -1.225190e+02   \n",
       "Living Area after Renovation (in Sqft)     6.854043e+02  3.990000e+02   \n",
       "Lot Area after Renovation (in Sqft)        2.730418e+04  6.510000e+02   \n",
       "\n",
       "                                                    25%           50%  \\\n",
       "ID                                         2.123049e+09  3.904930e+09   \n",
       "Sale Price                                 3.219500e+05  4.500000e+05   \n",
       "No of Bedrooms                             3.000000e+00  3.000000e+00   \n",
       "No of Bathrooms                            1.750000e+00  2.250000e+00   \n",
       "Flat Area (in Sqft)                        1.429250e+03  1.910000e+03   \n",
       "Lot Area (in Sqft)                         5.040000e+03  7.617500e+03   \n",
       "No of Floors                               1.000000e+00  1.500000e+00   \n",
       "Overall Grade                              7.000000e+00  7.000000e+00   \n",
       "Area of the House from Basement (in Sqft)  1.190000e+03  1.560000e+03   \n",
       "Basement Area (in Sqft)                    0.000000e+00  0.000000e+00   \n",
       "Age of House (in Years)                    2.100000e+01  4.300000e+01   \n",
       "Renovated Year                             0.000000e+00  0.000000e+00   \n",
       "Zipcode                                    9.803300e+04  9.806500e+04   \n",
       "Latitude                                   4.747098e+01  4.757180e+01   \n",
       "Longitude                                 -1.223280e+02 -1.222300e+02   \n",
       "Living Area after Renovation (in Sqft)     1.490000e+03  1.840000e+03   \n",
       "Lot Area after Renovation (in Sqft)        5.100000e+03  7.620000e+03   \n",
       "\n",
       "                                                    75%           max  \n",
       "ID                                         7.308900e+09  9.900000e+09  \n",
       "Sale Price                                 6.450000e+05  7.700000e+06  \n",
       "No of Bedrooms                             4.000000e+00  3.300000e+01  \n",
       "No of Bathrooms                            2.500000e+00  8.000000e+00  \n",
       "Flat Area (in Sqft)                        2.550000e+03  1.354000e+04  \n",
       "Lot Area (in Sqft)                         1.068825e+04  1.651359e+06  \n",
       "No of Floors                               2.000000e+00  3.500000e+00  \n",
       "Overall Grade                              8.000000e+00  1.000000e+01  \n",
       "Area of the House from Basement (in Sqft)  2.210000e+03  9.410000e+03  \n",
       "Basement Area (in Sqft)                    5.600000e+02  4.820000e+03  \n",
       "Age of House (in Years)                    6.700000e+01  1.180000e+02  \n",
       "Renovated Year                             0.000000e+00  2.015000e+03  \n",
       "Zipcode                                    9.811800e+04  9.819900e+04  \n",
       "Latitude                                   4.767800e+01  4.777760e+01  \n",
       "Longitude                                 -1.221250e+02 -1.213150e+02  \n",
       "Living Area after Renovation (in Sqft)     2.360000e+03  6.210000e+03  \n",
       "Lot Area after Renovation (in Sqft)        1.008300e+04  8.712000e+05  "
      ]
     },
     "execution_count": 4,
     "metadata": {},
     "output_type": "execute_result"
    }
   ],
   "source": [
    "#eyeballing the data\n",
    "Housing_Prices.describe().T"
   ]
  },
  {
   "cell_type": "code",
   "execution_count": 5,
   "metadata": {},
   "outputs": [
    {
     "name": "stdout",
     "output_type": "stream",
     "text": [
      "<class 'pandas.core.frame.DataFrame'>\n",
      "RangeIndex: 21613 entries, 0 to 21612\n",
      "Data columns (total 21 columns):\n",
      " #   Column                                     Non-Null Count  Dtype  \n",
      "---  ------                                     --------------  -----  \n",
      " 0   ID                                         21613 non-null  int64  \n",
      " 1   Date House was Sold                        21613 non-null  object \n",
      " 2   Sale Price                                 21609 non-null  float64\n",
      " 3   No of Bedrooms                             21613 non-null  int64  \n",
      " 4   No of Bathrooms                            21609 non-null  float64\n",
      " 5   Flat Area (in Sqft)                        21604 non-null  float64\n",
      " 6   Lot Area (in Sqft)                         21604 non-null  float64\n",
      " 7   No of Floors                               21613 non-null  float64\n",
      " 8   Waterfront View                            21613 non-null  object \n",
      " 9   No of Times Visited                        21613 non-null  object \n",
      " 10  Condition of the House                     21613 non-null  object \n",
      " 11  Overall Grade                              21613 non-null  int64  \n",
      " 12  Area of the House from Basement (in Sqft)  21610 non-null  float64\n",
      " 13  Basement Area (in Sqft)                    21613 non-null  int64  \n",
      " 14  Age of House (in Years)                    21613 non-null  int64  \n",
      " 15  Renovated Year                             21613 non-null  int64  \n",
      " 16  Zipcode                                    21612 non-null  float64\n",
      " 17  Latitude                                   21612 non-null  float64\n",
      " 18  Longitude                                  21612 non-null  float64\n",
      " 19  Living Area after Renovation (in Sqft)     21612 non-null  float64\n",
      " 20  Lot Area after Renovation (in Sqft)        21613 non-null  int64  \n",
      "dtypes: float64(10), int64(7), object(4)\n",
      "memory usage: 3.5+ MB\n"
     ]
    }
   ],
   "source": [
    "Housing_Prices.info()"
   ]
  },
  {
   "cell_type": "markdown",
   "metadata": {},
   "source": [
    "# EDA(Exploration of Data Analysis) and Pre-processing"
   ]
  },
  {
   "cell_type": "markdown",
   "metadata": {},
   "source": [
    "## Data Exploration-Target/dependent(Sale Price) variable"
   ]
  },
  {
   "cell_type": "code",
   "execution_count": 6,
   "metadata": {},
   "outputs": [
    {
     "data": {
      "text/plain": [
       "count    2.160900e+04\n",
       "mean     5.401984e+05\n",
       "std      3.673890e+05\n",
       "min      7.500000e+04\n",
       "25%      3.219500e+05\n",
       "50%      4.500000e+05\n",
       "75%      6.450000e+05\n",
       "max      7.700000e+06\n",
       "Name: Sale Price, dtype: float64"
      ]
     },
     "execution_count": 6,
     "metadata": {},
     "output_type": "execute_result"
    }
   ],
   "source": [
    "Housing_Prices['Sale Price'].describe()\n",
    "#here, mean>median  implies right(+ve) skewed symmetric- datapoints are more of lower values"
   ]
  },
  {
   "cell_type": "code",
   "execution_count": 7,
   "metadata": {},
   "outputs": [
    {
     "data": {
      "text/plain": [
       "<matplotlib.axes._subplots.AxesSubplot at 0x1c176b732e0>"
      ]
     },
     "execution_count": 7,
     "metadata": {},
     "output_type": "execute_result"
    },
    {
     "data": {
      "image/png": "[encoded data removed]",
      "text/plain": [
       "<Figure size 432x288 with 1 Axes>"
      ]
     },
     "metadata": {
      "needs_background": "light"
     },
     "output_type": "display_data"
    }
   ],
   "source": [
    "#outliers-visualizing,Identifying and Treating in sale price\n",
    "#--visualizing by box and whiskers plot in sale price\n",
    "import seaborn as sns\n",
    "sns.boxplot(x=Housing_Prices['Sale Price'],color='green')"
   ]
  },
  {
   "cell_type": "code",
   "execution_count": 8,
   "metadata": {},
   "outputs": [
    {
     "data": {
      "text/plain": [
       "323050.0"
      ]
     },
     "execution_count": 8,
     "metadata": {},
     "output_type": "execute_result"
    }
   ],
   "source": [
    "#--Identifying Outliers Mathematically\n",
    "q1=Housing_Prices['Sale Price'].quantile(0.25)\n",
    "q3=Housing_Prices['Sale Price'].quantile(0.75)\n",
    "iqr=q3-q1\n",
    "iqr#inter quartile range"
   ]
  },
  {
   "cell_type": "code",
   "execution_count": 9,
   "metadata": {},
   "outputs": [
    {
     "data": {
      "text/plain": [
       "(-162625.0, 1129575.0)"
      ]
     },
     "execution_count": 9,
     "metadata": {},
     "output_type": "execute_result"
    }
   ],
   "source": [
    "lowerlimit=q1-1.5*iqr\n",
    "upperlimit=q3+1.5*iqr\n",
    "(lowerlimit,upperlimit)"
   ]
  },
  {
   "cell_type": "code",
   "execution_count": 10,
   "metadata": {},
   "outputs": [
    {
     "data": {
      "text/plain": [
       "(75000.0, 1129575.0)"
      ]
     },
     "execution_count": 10,
     "metadata": {},
     "output_type": "execute_result"
    }
   ],
   "source": [
    "#if lowerlimit<min, we take lowerlimit=min else lowerlimit=lowerlimit\n",
    "#if upperlimit>max, we take upperlimit=max else upperlimit=upperlimit\n",
    "#here lowerlimit<min,Therefore we take lowerlimit=min\n",
    "#here upperlimit<max,so we take upperlimit=upperlimit\n",
    "#final lower and upper limits are as follows\n",
    "lower_limit=Housing_Prices['Sale Price'].min()\n",
    "upper_limit=upperlimit\n",
    "(lower_limit, upper_limit)\n",
    "#the below is the range of outliers.\n",
    "#if any values found to be outside this range is termed as Outliers"
   ]
  },
  {
   "cell_type": "code",
   "execution_count": 11,
   "metadata": {},
   "outputs": [],
   "source": [
    "#Treating Outliers: methods:--deletion,--imputing,--Data Transformation,--binning\n",
    "#here we take imputing method by limits to treat outliers in target variable\n",
    "def limit_imputer(value):\n",
    "    if value<lower_limit:\n",
    "        return lower_limit\n",
    "    if value>upper_limit:\n",
    "        return upper_limit\n",
    "    else:\n",
    "        return value"
   ]
  },
  {
   "cell_type": "code",
   "execution_count": 12,
   "metadata": {},
   "outputs": [],
   "source": [
    "Housing_Prices['Sale Price']=Housing_Prices['Sale Price'].apply(limit_imputer)"
   ]
  },
  {
   "cell_type": "code",
   "execution_count": 13,
   "metadata": {},
   "outputs": [
    {
     "data": {
      "text/plain": [
       "count    2.160900e+04\n",
       "mean     5.116186e+05\n",
       "std      2.500620e+05\n",
       "min      7.500000e+04\n",
       "25%      3.219500e+05\n",
       "50%      4.500000e+05\n",
       "75%      6.450000e+05\n",
       "max      1.129575e+06\n",
       "Name: Sale Price, dtype: float64"
      ]
     },
     "execution_count": 13,
     "metadata": {},
     "output_type": "execute_result"
    }
   ],
   "source": [
    "Housing_Prices['Sale Price'].describe()  #outliers has been treated as there is a change in max value"
   ]
  },
  {
   "cell_type": "code",
   "execution_count": 14,
   "metadata": {},
   "outputs": [
    {
     "data": {
      "text/plain": [
       "<matplotlib.axes._subplots.AxesSubplot at 0x1c1772c7520>"
      ]
     },
     "execution_count": 14,
     "metadata": {},
     "output_type": "execute_result"
    },
    {
     "data": {
      "image/png": "[encoded data removed]",
      "text/plain": [
       "<Figure size 432x288 with 1 Axes>"
      ]
     },
     "metadata": {
      "needs_background": "light"
     },
     "output_type": "display_data"
    }
   ],
   "source": [
    "sns.boxplot(x=Housing_Prices['Sale Price'],color='yellow') #outliers has been treated."
   ]
  },
  {
   "cell_type": "code",
   "execution_count": 15,
   "metadata": {},
   "outputs": [
    {
     "data": {
      "text/plain": [
       "4"
      ]
     },
     "execution_count": 15,
     "metadata": {},
     "output_type": "execute_result"
    }
   ],
   "source": [
    "#missing values- Identifing and treating in sale price\n",
    "Housing_Prices['Sale Price'].isnull().sum()   #4 missing values in sale price"
   ]
  },
  {
   "cell_type": "code",
   "execution_count": 16,
   "metadata": {},
   "outputs": [],
   "source": [
    "#--treating missing values: methods:--deletion, Imputing\n",
    "#--we use deletion\n",
    "Housing_Prices.dropna(inplace=True,axis=0,subset=['Sale Price'])"
   ]
  },
  {
   "cell_type": "code",
   "execution_count": 17,
   "metadata": {},
   "outputs": [
    {
     "data": {
      "text/plain": [
       "0"
      ]
     },
     "execution_count": 17,
     "metadata": {},
     "output_type": "execute_result"
    }
   ],
   "source": [
    "Housing_Prices['Sale Price'].isnull().sum() #no missing values, it has been treated by deletion"
   ]
  },
  {
   "cell_type": "code",
   "execution_count": 18,
   "metadata": {},
   "outputs": [
    {
     "data": {
      "text/plain": [
       "(array([ 501., 3379., 4513., 3911., 3069., 1977., 1432.,  877.,  531.,\n",
       "        1419.]),\n",
       " array([  75000. ,  180457.5,  285915. ,  391372.5,  496830. ,  602287.5,\n",
       "         707745. ,  813202.5,  918660. , 1024117.5, 1129575. ]),\n",
       " <a list of 10 Patch objects>)"
      ]
     },
     "execution_count": 18,
     "metadata": {},
     "output_type": "execute_result"
    },
    {
     "data": {
      "image/png": "[encoded data removed]",
      "text/plain": [
       "<Figure size 432x288 with 1 Axes>"
      ]
     },
     "metadata": {
      "needs_background": "light"
     },
     "output_type": "display_data"
    }
   ],
   "source": [
    "#distribution of target(sale price) variable\n",
    "plt.hist(Housing_Prices['Sale Price'],bins=10,color='grey')\n",
    "#here the distribution is right(+ve) skewed disribution,datapoints are more of lower values"
   ]
  },
  {
   "cell_type": "markdown",
   "metadata": {},
   "source": [
    "## Data Exploration- Independent Numerical Variables"
   ]
  },
  {
   "cell_type": "code",
   "execution_count": 19,
   "metadata": {},
   "outputs": [
    {
     "data": {
      "text/plain": [
       "ID                                           0\n",
       "Date House was Sold                          0\n",
       "Sale Price                                   0\n",
       "No of Bedrooms                               0\n",
       "No of Bathrooms                              4\n",
       "Flat Area (in Sqft)                          9\n",
       "Lot Area (in Sqft)                           9\n",
       "No of Floors                                 0\n",
       "Waterfront View                              0\n",
       "No of Times Visited                          0\n",
       "Condition of the House                       0\n",
       "Overall Grade                                0\n",
       "Area of the House from Basement (in Sqft)    3\n",
       "Basement Area (in Sqft)                      0\n",
       "Age of House (in Years)                      0\n",
       "Renovated Year                               0\n",
       "Zipcode                                      1\n",
       "Latitude                                     1\n",
       "Longitude                                    1\n",
       "Living Area after Renovation (in Sqft)       1\n",
       "Lot Area after Renovation (in Sqft)          0\n",
       "dtype: int64"
      ]
     },
     "execution_count": 19,
     "metadata": {},
     "output_type": "execute_result"
    }
   ],
   "source": [
    "#missing values- Identifying and Treating\n",
    "#missing values- deletion, imputing\n",
    "#imputing-mean,median for continuous, mode for categorical\n",
    "Housing_Prices.isnull().sum()"
   ]
  },
  {
   "cell_type": "code",
   "execution_count": 20,
   "metadata": {},
   "outputs": [],
   "source": [
    "#we take the missing values in a numerical_column and treat them simultaneously\n",
    "\n",
    "\n",
    "numerical_column=['No of Bathrooms','Flat Area (in Sqft)','Lot Area (in Sqft)',\n",
    "                 'Area of the House from Basement (in Sqft)','Latitude','Longitude',\n",
    "                 'Living Area after Renovation (in Sqft)']"
   ]
  },
  {
   "cell_type": "code",
   "execution_count": 21,
   "metadata": {},
   "outputs": [
    {
     "data": {
      "text/plain": [
       "No of Bathrooms                              4\n",
       "Flat Area (in Sqft)                          9\n",
       "Lot Area (in Sqft)                           9\n",
       "Area of the House from Basement (in Sqft)    3\n",
       "Latitude                                     1\n",
       "Longitude                                    1\n",
       "Living Area after Renovation (in Sqft)       1\n",
       "dtype: int64"
      ]
     },
     "execution_count": 21,
     "metadata": {},
     "output_type": "execute_result"
    }
   ],
   "source": [
    "Housing_Prices[numerical_column].isnull().sum()"
   ]
  },
  {
   "cell_type": "code",
   "execution_count": 22,
   "metadata": {},
   "outputs": [],
   "source": [
    "#-- we will treat the missing values here by imputing w.r.to Median\n",
    "from sklearn.impute import SimpleImputer\n",
    "imputer=SimpleImputer(missing_values=np.nan,strategy='median')\n",
    "Housing_Prices[numerical_column]=imputer.fit_transform(Housing_Prices[numerical_column])"
   ]
  },
  {
   "cell_type": "code",
   "execution_count": 23,
   "metadata": {},
   "outputs": [
    {
     "data": {
      "text/plain": [
       "No of Bathrooms                              0\n",
       "Flat Area (in Sqft)                          0\n",
       "Lot Area (in Sqft)                           0\n",
       "Area of the House from Basement (in Sqft)    0\n",
       "Latitude                                     0\n",
       "Longitude                                    0\n",
       "Living Area after Renovation (in Sqft)       0\n",
       "dtype: int64"
      ]
     },
     "execution_count": 23,
     "metadata": {},
     "output_type": "execute_result"
    }
   ],
   "source": [
    "Housing_Prices[numerical_column].isnull().sum()\n",
    "#missing values has been treated in the numerical_column variable"
   ]
  },
  {
   "cell_type": "code",
   "execution_count": 24,
   "metadata": {},
   "outputs": [
    {
     "ename": "ValueError",
     "evalue": "Expected 2D array, got 1D array instead:\narray=[98178. 98125. 98028. ... 98144. 98027. 98144.].\nReshape your data either using array.reshape(-1, 1) if your data has a single feature or array.reshape(1, -1) if it contains a single sample.",
     "output_type": "error",
     "traceback": [
      "\u001b[1;31m---------------------------------------------------------------------------\u001b[0m",
      "\u001b[1;31mValueError\u001b[0m                                Traceback (most recent call last)",
      "\u001b[1;32m<ipython-input-24-4a1ec3253ee0>\u001b[0m in \u001b[0;36m<module>\u001b[1;34m\u001b[0m\n\u001b[0;32m      3\u001b[0m \u001b[1;32mfrom\u001b[0m \u001b[0msklearn\u001b[0m\u001b[1;33m.\u001b[0m\u001b[0mimpute\u001b[0m \u001b[1;32mimport\u001b[0m \u001b[0mSimpleImputer\u001b[0m\u001b[1;33m\u001b[0m\u001b[1;33m\u001b[0m\u001b[0m\n\u001b[0;32m      4\u001b[0m \u001b[0mimputer\u001b[0m\u001b[1;33m=\u001b[0m\u001b[0mSimpleImputer\u001b[0m\u001b[1;33m(\u001b[0m\u001b[0mmissing_values\u001b[0m\u001b[1;33m=\u001b[0m\u001b[0mnp\u001b[0m\u001b[1;33m.\u001b[0m\u001b[0mnan\u001b[0m\u001b[1;33m,\u001b[0m\u001b[0mstrategy\u001b[0m\u001b[1;33m=\u001b[0m\u001b[1;34m'most_frequent'\u001b[0m\u001b[1;33m)\u001b[0m\u001b[1;33m\u001b[0m\u001b[1;33m\u001b[0m\u001b[0m\n\u001b[1;32m----> 5\u001b[1;33m \u001b[0mHousing_Prices\u001b[0m\u001b[1;33m[\u001b[0m\u001b[1;34m'Zipcode'\u001b[0m\u001b[1;33m]\u001b[0m\u001b[1;33m=\u001b[0m\u001b[0mimputer\u001b[0m\u001b[1;33m.\u001b[0m\u001b[0mfit_transform\u001b[0m\u001b[1;33m(\u001b[0m\u001b[0mHousing_Prices\u001b[0m\u001b[1;33m[\u001b[0m\u001b[1;34m'Zipcode'\u001b[0m\u001b[1;33m]\u001b[0m\u001b[1;33m)\u001b[0m\u001b[1;33m\u001b[0m\u001b[1;33m\u001b[0m\u001b[0m\n\u001b[0m\u001b[0;32m      6\u001b[0m \u001b[1;31m#here we getting valueerror, we will check the reason for it\u001b[0m\u001b[1;33m\u001b[0m\u001b[1;33m\u001b[0m\u001b[1;33m\u001b[0m\u001b[0m\n",
      "\u001b[1;32mD:\\New Volume (D)\\lib\\site-packages\\sklearn\\base.py\u001b[0m in \u001b[0;36mfit_transform\u001b[1;34m(self, X, y, **fit_params)\u001b[0m\n\u001b[0;32m    688\u001b[0m         \u001b[1;32mif\u001b[0m \u001b[0my\u001b[0m \u001b[1;32mis\u001b[0m \u001b[1;32mNone\u001b[0m\u001b[1;33m:\u001b[0m\u001b[1;33m\u001b[0m\u001b[1;33m\u001b[0m\u001b[0m\n\u001b[0;32m    689\u001b[0m             \u001b[1;31m# fit method of arity 1 (unsupervised transformation)\u001b[0m\u001b[1;33m\u001b[0m\u001b[1;33m\u001b[0m\u001b[1;33m\u001b[0m\u001b[0m\n\u001b[1;32m--> 690\u001b[1;33m             \u001b[1;32mreturn\u001b[0m \u001b[0mself\u001b[0m\u001b[1;33m.\u001b[0m\u001b[0mfit\u001b[0m\u001b[1;33m(\u001b[0m\u001b[0mX\u001b[0m\u001b[1;33m,\u001b[0m \u001b[1;33m**\u001b[0m\u001b[0mfit_params\u001b[0m\u001b[1;33m)\u001b[0m\u001b[1;33m.\u001b[0m\u001b[0mtransform\u001b[0m\u001b[1;33m(\u001b[0m\u001b[0mX\u001b[0m\u001b[1;33m)\u001b[0m\u001b[1;33m\u001b[0m\u001b[1;33m\u001b[0m\u001b[0m\n\u001b[0m\u001b[0;32m    691\u001b[0m         \u001b[1;32melse\u001b[0m\u001b[1;33m:\u001b[0m\u001b[1;33m\u001b[0m\u001b[1;33m\u001b[0m\u001b[0m\n\u001b[0;32m    692\u001b[0m             \u001b[1;31m# fit method of arity 2 (supervised transformation)\u001b[0m\u001b[1;33m\u001b[0m\u001b[1;33m\u001b[0m\u001b[1;33m\u001b[0m\u001b[0m\n",
      "\u001b[1;32mD:\\New Volume (D)\\lib\\site-packages\\sklearn\\impute\\_base.py\u001b[0m in \u001b[0;36mfit\u001b[1;34m(self, X, y)\u001b[0m\n\u001b[0;32m    275\u001b[0m         \u001b[0mself\u001b[0m \u001b[1;33m:\u001b[0m \u001b[0mSimpleImputer\u001b[0m\u001b[1;33m\u001b[0m\u001b[1;33m\u001b[0m\u001b[0m\n\u001b[0;32m    276\u001b[0m         \"\"\"\n\u001b[1;32m--> 277\u001b[1;33m         \u001b[0mX\u001b[0m \u001b[1;33m=\u001b[0m \u001b[0mself\u001b[0m\u001b[1;33m.\u001b[0m\u001b[0m_validate_input\u001b[0m\u001b[1;33m(\u001b[0m\u001b[0mX\u001b[0m\u001b[1;33m,\u001b[0m \u001b[0min_fit\u001b[0m\u001b[1;33m=\u001b[0m\u001b[1;32mTrue\u001b[0m\u001b[1;33m)\u001b[0m\u001b[1;33m\u001b[0m\u001b[1;33m\u001b[0m\u001b[0m\n\u001b[0m\u001b[0;32m    278\u001b[0m         \u001b[0msuper\u001b[0m\u001b[1;33m(\u001b[0m\u001b[1;33m)\u001b[0m\u001b[1;33m.\u001b[0m\u001b[0m_fit_indicator\u001b[0m\u001b[1;33m(\u001b[0m\u001b[0mX\u001b[0m\u001b[1;33m)\u001b[0m\u001b[1;33m\u001b[0m\u001b[1;33m\u001b[0m\u001b[0m\n\u001b[0;32m    279\u001b[0m \u001b[1;33m\u001b[0m\u001b[0m\n",
      "\u001b[1;32mD:\\New Volume (D)\\lib\\site-packages\\sklearn\\impute\\_base.py\u001b[0m in \u001b[0;36m_validate_input\u001b[1;34m(self, X, in_fit)\u001b[0m\n\u001b[0;32m    249\u001b[0m                 \u001b[1;32mraise\u001b[0m \u001b[0mnew_ve\u001b[0m \u001b[1;32mfrom\u001b[0m \u001b[1;32mNone\u001b[0m\u001b[1;33m\u001b[0m\u001b[1;33m\u001b[0m\u001b[0m\n\u001b[0;32m    250\u001b[0m             \u001b[1;32melse\u001b[0m\u001b[1;33m:\u001b[0m\u001b[1;33m\u001b[0m\u001b[1;33m\u001b[0m\u001b[0m\n\u001b[1;32m--> 251\u001b[1;33m                 \u001b[1;32mraise\u001b[0m \u001b[0mve\u001b[0m\u001b[1;33m\u001b[0m\u001b[1;33m\u001b[0m\u001b[0m\n\u001b[0m\u001b[0;32m    252\u001b[0m \u001b[1;33m\u001b[0m\u001b[0m\n\u001b[0;32m    253\u001b[0m         \u001b[0m_check_inputs_dtype\u001b[0m\u001b[1;33m(\u001b[0m\u001b[0mX\u001b[0m\u001b[1;33m,\u001b[0m \u001b[0mself\u001b[0m\u001b[1;33m.\u001b[0m\u001b[0mmissing_values\u001b[0m\u001b[1;33m)\u001b[0m\u001b[1;33m\u001b[0m\u001b[1;33m\u001b[0m\u001b[0m\n",
      "\u001b[1;32mD:\\New Volume (D)\\lib\\site-packages\\sklearn\\impute\\_base.py\u001b[0m in \u001b[0;36m_validate_input\u001b[1;34m(self, X, in_fit)\u001b[0m\n\u001b[0;32m    239\u001b[0m \u001b[1;33m\u001b[0m\u001b[0m\n\u001b[0;32m    240\u001b[0m         \u001b[1;32mtry\u001b[0m\u001b[1;33m:\u001b[0m\u001b[1;33m\u001b[0m\u001b[1;33m\u001b[0m\u001b[0m\n\u001b[1;32m--> 241\u001b[1;33m             X = self._validate_data(X, reset=in_fit,\n\u001b[0m\u001b[0;32m    242\u001b[0m                                     \u001b[0maccept_sparse\u001b[0m\u001b[1;33m=\u001b[0m\u001b[1;34m'csc'\u001b[0m\u001b[1;33m,\u001b[0m \u001b[0mdtype\u001b[0m\u001b[1;33m=\u001b[0m\u001b[0mdtype\u001b[0m\u001b[1;33m,\u001b[0m\u001b[1;33m\u001b[0m\u001b[1;33m\u001b[0m\u001b[0m\n\u001b[0;32m    243\u001b[0m                                     \u001b[0mforce_all_finite\u001b[0m\u001b[1;33m=\u001b[0m\u001b[0mforce_all_finite\u001b[0m\u001b[1;33m,\u001b[0m\u001b[1;33m\u001b[0m\u001b[1;33m\u001b[0m\u001b[0m\n",
      "\u001b[1;32mD:\\New Volume (D)\\lib\\site-packages\\sklearn\\base.py\u001b[0m in \u001b[0;36m_validate_data\u001b[1;34m(self, X, y, reset, validate_separately, **check_params)\u001b[0m\n\u001b[0;32m    418\u001b[0m                     \u001b[1;34mf\"requires y to be passed, but the target y is None.\"\u001b[0m\u001b[1;33m\u001b[0m\u001b[1;33m\u001b[0m\u001b[0m\n\u001b[0;32m    419\u001b[0m                 )\n\u001b[1;32m--> 420\u001b[1;33m             \u001b[0mX\u001b[0m \u001b[1;33m=\u001b[0m \u001b[0mcheck_array\u001b[0m\u001b[1;33m(\u001b[0m\u001b[0mX\u001b[0m\u001b[1;33m,\u001b[0m \u001b[1;33m**\u001b[0m\u001b[0mcheck_params\u001b[0m\u001b[1;33m)\u001b[0m\u001b[1;33m\u001b[0m\u001b[1;33m\u001b[0m\u001b[0m\n\u001b[0m\u001b[0;32m    421\u001b[0m             \u001b[0mout\u001b[0m \u001b[1;33m=\u001b[0m \u001b[0mX\u001b[0m\u001b[1;33m\u001b[0m\u001b[1;33m\u001b[0m\u001b[0m\n\u001b[0;32m    422\u001b[0m         \u001b[1;32melse\u001b[0m\u001b[1;33m:\u001b[0m\u001b[1;33m\u001b[0m\u001b[1;33m\u001b[0m\u001b[0m\n",
      "\u001b[1;32mD:\\New Volume (D)\\lib\\site-packages\\sklearn\\utils\\validation.py\u001b[0m in \u001b[0;36minner_f\u001b[1;34m(*args, **kwargs)\u001b[0m\n\u001b[0;32m     70\u001b[0m                           FutureWarning)\n\u001b[0;32m     71\u001b[0m         \u001b[0mkwargs\u001b[0m\u001b[1;33m.\u001b[0m\u001b[0mupdate\u001b[0m\u001b[1;33m(\u001b[0m\u001b[1;33m{\u001b[0m\u001b[0mk\u001b[0m\u001b[1;33m:\u001b[0m \u001b[0marg\u001b[0m \u001b[1;32mfor\u001b[0m \u001b[0mk\u001b[0m\u001b[1;33m,\u001b[0m \u001b[0marg\u001b[0m \u001b[1;32min\u001b[0m \u001b[0mzip\u001b[0m\u001b[1;33m(\u001b[0m\u001b[0msig\u001b[0m\u001b[1;33m.\u001b[0m\u001b[0mparameters\u001b[0m\u001b[1;33m,\u001b[0m \u001b[0margs\u001b[0m\u001b[1;33m)\u001b[0m\u001b[1;33m}\u001b[0m\u001b[1;33m)\u001b[0m\u001b[1;33m\u001b[0m\u001b[1;33m\u001b[0m\u001b[0m\n\u001b[1;32m---> 72\u001b[1;33m         \u001b[1;32mreturn\u001b[0m \u001b[0mf\u001b[0m\u001b[1;33m(\u001b[0m\u001b[1;33m**\u001b[0m\u001b[0mkwargs\u001b[0m\u001b[1;33m)\u001b[0m\u001b[1;33m\u001b[0m\u001b[1;33m\u001b[0m\u001b[0m\n\u001b[0m\u001b[0;32m     73\u001b[0m     \u001b[1;32mreturn\u001b[0m \u001b[0minner_f\u001b[0m\u001b[1;33m\u001b[0m\u001b[1;33m\u001b[0m\u001b[0m\n\u001b[0;32m     74\u001b[0m \u001b[1;33m\u001b[0m\u001b[0m\n",
      "\u001b[1;32mD:\\New Volume (D)\\lib\\site-packages\\sklearn\\utils\\validation.py\u001b[0m in \u001b[0;36mcheck_array\u001b[1;34m(array, accept_sparse, accept_large_sparse, dtype, order, copy, force_all_finite, ensure_2d, allow_nd, ensure_min_samples, ensure_min_features, estimator)\u001b[0m\n\u001b[0;32m    617\u001b[0m             \u001b[1;31m# If input is 1D raise error\u001b[0m\u001b[1;33m\u001b[0m\u001b[1;33m\u001b[0m\u001b[1;33m\u001b[0m\u001b[0m\n\u001b[0;32m    618\u001b[0m             \u001b[1;32mif\u001b[0m \u001b[0marray\u001b[0m\u001b[1;33m.\u001b[0m\u001b[0mndim\u001b[0m \u001b[1;33m==\u001b[0m \u001b[1;36m1\u001b[0m\u001b[1;33m:\u001b[0m\u001b[1;33m\u001b[0m\u001b[1;33m\u001b[0m\u001b[0m\n\u001b[1;32m--> 619\u001b[1;33m                 raise ValueError(\n\u001b[0m\u001b[0;32m    620\u001b[0m                     \u001b[1;34m\"Expected 2D array, got 1D array instead:\\narray={}.\\n\"\u001b[0m\u001b[1;33m\u001b[0m\u001b[1;33m\u001b[0m\u001b[0m\n\u001b[0;32m    621\u001b[0m                     \u001b[1;34m\"Reshape your data either using array.reshape(-1, 1) if \"\u001b[0m\u001b[1;33m\u001b[0m\u001b[1;33m\u001b[0m\u001b[0m\n",
      "\u001b[1;31mValueError\u001b[0m: Expected 2D array, got 1D array instead:\narray=[98178. 98125. 98028. ... 98144. 98027. 98144.].\nReshape your data either using array.reshape(-1, 1) if your data has a single feature or array.reshape(1, -1) if it contains a single sample."
     ]
    }
   ],
   "source": [
    "#now we've left with Zipcode with one missing value\n",
    "## we take Zipcode as categorical variable and impute it  w.to mode(most_frequent)\n",
    "from sklearn.impute import SimpleImputer\n",
    "imputer=SimpleImputer(missing_values=np.nan,strategy='most_frequent')\n",
    "Housing_Prices['Zipcode']=imputer.fit_transform(Housing_Prices['Zipcode'])\n",
    "#here we getting valueerror, we will check the reason for it"
   ]
  },
  {
   "cell_type": "code",
   "execution_count": 25,
   "metadata": {},
   "outputs": [
    {
     "data": {
      "text/plain": [
       "(21609,)"
      ]
     },
     "execution_count": 25,
     "metadata": {},
     "output_type": "execute_result"
    }
   ],
   "source": [
    "Housing_Prices['Zipcode'].shape\n",
    "#here the zipcode is in 1-d, we will convert in to 2-d"
   ]
  },
  {
   "cell_type": "code",
   "execution_count": 26,
   "metadata": {},
   "outputs": [
    {
     "data": {
      "text/plain": [
       "(21609, 1)"
      ]
     },
     "execution_count": 26,
     "metadata": {},
     "output_type": "execute_result"
    }
   ],
   "source": [
    "column=Housing_Prices['Zipcode'].values.reshape(-1,1)\n",
    "column.shape\n",
    "#we've converted in to 2-d with the instance column"
   ]
  },
  {
   "cell_type": "code",
   "execution_count": 27,
   "metadata": {},
   "outputs": [],
   "source": [
    "#Now again Imputing w.to 'most_frequent' for Zipcode with the help of instance column\n",
    "from sklearn.impute import SimpleImputer\n",
    "imputer=SimpleImputer(missing_values=np.nan,strategy='most_frequent')\n",
    "Housing_Prices['Zipcode']=imputer.fit_transform(column)"
   ]
  },
  {
   "cell_type": "code",
   "execution_count": 28,
   "metadata": {},
   "outputs": [
    {
     "data": {
      "text/plain": [
       "0"
      ]
     },
     "execution_count": 28,
     "metadata": {},
     "output_type": "execute_result"
    }
   ],
   "source": [
    "#verifying the missing values in Zipcode\n",
    "Housing_Prices['Zipcode'].isnull().sum()\n",
    "#missing values has been treated in Zipcode"
   ]
  },
  {
   "cell_type": "code",
   "execution_count": 29,
   "metadata": {},
   "outputs": [],
   "source": [
    "#we transform Zipcode as type Object\n",
    "Housing_Prices['Zipcode']=Housing_Prices['Zipcode'].astype(object)"
   ]
  },
  {
   "cell_type": "code",
   "execution_count": 30,
   "metadata": {},
   "outputs": [
    {
     "name": "stdout",
     "output_type": "stream",
     "text": [
      "<class 'pandas.core.frame.DataFrame'>\n",
      "Int64Index: 21609 entries, 0 to 21612\n",
      "Data columns (total 21 columns):\n",
      " #   Column                                     Non-Null Count  Dtype  \n",
      "---  ------                                     --------------  -----  \n",
      " 0   ID                                         21609 non-null  int64  \n",
      " 1   Date House was Sold                        21609 non-null  object \n",
      " 2   Sale Price                                 21609 non-null  float64\n",
      " 3   No of Bedrooms                             21609 non-null  int64  \n",
      " 4   No of Bathrooms                            21609 non-null  float64\n",
      " 5   Flat Area (in Sqft)                        21609 non-null  float64\n",
      " 6   Lot Area (in Sqft)                         21609 non-null  float64\n",
      " 7   No of Floors                               21609 non-null  float64\n",
      " 8   Waterfront View                            21609 non-null  object \n",
      " 9   No of Times Visited                        21609 non-null  object \n",
      " 10  Condition of the House                     21609 non-null  object \n",
      " 11  Overall Grade                              21609 non-null  int64  \n",
      " 12  Area of the House from Basement (in Sqft)  21609 non-null  float64\n",
      " 13  Basement Area (in Sqft)                    21609 non-null  int64  \n",
      " 14  Age of House (in Years)                    21609 non-null  int64  \n",
      " 15  Renovated Year                             21609 non-null  int64  \n",
      " 16  Zipcode                                    21609 non-null  object \n",
      " 17  Latitude                                   21609 non-null  float64\n",
      " 18  Longitude                                  21609 non-null  float64\n",
      " 19  Living Area after Renovation (in Sqft)     21609 non-null  float64\n",
      " 20  Lot Area after Renovation (in Sqft)        21609 non-null  int64  \n",
      "dtypes: float64(9), int64(7), object(5)\n",
      "memory usage: 3.6+ MB\n"
     ]
    }
   ],
   "source": [
    "Housing_Prices.info()"
   ]
  },
  {
   "cell_type": "code",
   "execution_count": 31,
   "metadata": {},
   "outputs": [
    {
     "data": {
      "text/plain": [
       "array(['None', 'Thrice', 'Four', 'Twice', 'Once'], dtype=object)"
      ]
     },
     "execution_count": 31,
     "metadata": {},
     "output_type": "execute_result"
    }
   ],
   "source": [
    "#Variable Transformation\n",
    "#we perform some of the possible variable transformation as per the data\n",
    "#for variable-'No of Times Visited'\n",
    "\n",
    "Housing_Prices['No of Times Visited'].unique()"
   ]
  },
  {
   "cell_type": "code",
   "execution_count": 32,
   "metadata": {},
   "outputs": [],
   "source": [
    "#As Variable'No of Times Visited' has 5 levels, we convert them in to munerical values by mapping as below\n",
    "\n",
    "mapping={'None':'0',\n",
    "        'Once':'1',\n",
    "        'Twice':'2',\n",
    "        'Thrice':'3',\n",
    "        'Four':'4'}\n",
    "Housing_Prices['No of Times Visited']=Housing_Prices['No of Times Visited'].map(mapping)"
   ]
  },
  {
   "cell_type": "code",
   "execution_count": 33,
   "metadata": {},
   "outputs": [
    {
     "data": {
      "text/plain": [
       "array(['0', '3', '4', '2', '1'], dtype=object)"
      ]
     },
     "execution_count": 33,
     "metadata": {},
     "output_type": "execute_result"
    }
   ],
   "source": [
    "Housing_Prices['No of Times Visited'].unique()\n",
    "#'No of Times Visited' values has been transformed in to numerical values"
   ]
  },
  {
   "cell_type": "code",
   "execution_count": 34,
   "metadata": {},
   "outputs": [],
   "source": [
    "#Renovated Year Variable can be transformed(split in to ) two new variables-Ever Renovated and Years Since Renovation\n",
    "#Ever Renovated-from Renovated Year if 0 means No,if done(with any year) means Yes\n",
    "#Years Since Renovation-if Ever Renovated(with any number(year) except 0) then abs(purchase year)-renovated year\n",
    "#purchase year- can be derived from year of'Date House was Sold'\n",
    "#Renovated Year- EVER renovated,YearsSINCErenovation\n",
    "Housing_Prices['Ever Renovated']=np.where(Housing_Prices['Renovated Year']==0,'No','Yes')\n",
    "Housing_Prices['purchase year']=pd.DatetimeIndex(Housing_Prices['Date House was Sold']).year\n",
    "Housing_Prices['years Since Renovation']=np.where(Housing_Prices['Ever Renovated']=='Yes',abs(Housing_Prices['purchase year'])-Housing_Prices['Renovated Year'],0)"
   ]
  },
  {
   "cell_type": "code",
   "execution_count": 35,
   "metadata": {},
   "outputs": [],
   "source": [
    "#Now, we remove the columns ID,Date House was Sold and Renovated Year\n",
    "Housing_Prices.drop(columns=['ID','Date House was Sold','Renovated Year'],inplace=True)"
   ]
  },
  {
   "cell_type": "code",
   "execution_count": 36,
   "metadata": {},
   "outputs": [
    {
     "name": "stdout",
     "output_type": "stream",
     "text": [
      "<class 'pandas.core.frame.DataFrame'>\n",
      "Int64Index: 21609 entries, 0 to 21612\n",
      "Data columns (total 21 columns):\n",
      " #   Column                                     Non-Null Count  Dtype  \n",
      "---  ------                                     --------------  -----  \n",
      " 0   Sale Price                                 21609 non-null  float64\n",
      " 1   No of Bedrooms                             21609 non-null  int64  \n",
      " 2   No of Bathrooms                            21609 non-null  float64\n",
      " 3   Flat Area (in Sqft)                        21609 non-null  float64\n",
      " 4   Lot Area (in Sqft)                         21609 non-null  float64\n",
      " 5   No of Floors                               21609 non-null  float64\n",
      " 6   Waterfront View                            21609 non-null  object \n",
      " 7   No of Times Visited                        21609 non-null  object \n",
      " 8   Condition of the House                     21609 non-null  object \n",
      " 9   Overall Grade                              21609 non-null  int64  \n",
      " 10  Area of the House from Basement (in Sqft)  21609 non-null  float64\n",
      " 11  Basement Area (in Sqft)                    21609 non-null  int64  \n",
      " 12  Age of House (in Years)                    21609 non-null  int64  \n",
      " 13  Zipcode                                    21609 non-null  object \n",
      " 14  Latitude                                   21609 non-null  float64\n",
      " 15  Longitude                                  21609 non-null  float64\n",
      " 16  Living Area after Renovation (in Sqft)     21609 non-null  float64\n",
      " 17  Lot Area after Renovation (in Sqft)        21609 non-null  int64  \n",
      " 18  Ever Renovated                             21609 non-null  object \n",
      " 19  purchase year                              21609 non-null  int64  \n",
      " 20  years Since Renovation                     21609 non-null  int64  \n",
      "dtypes: float64(9), int64(7), object(5)\n",
      "memory usage: 3.6+ MB\n"
     ]
    }
   ],
   "source": [
    "Housing_Prices.info()\n",
    "#the new variables/columns with all variables are as follows"
   ]
  },
  {
   "cell_type": "code",
   "execution_count": 37,
   "metadata": {},
   "outputs": [],
   "source": [
    "Housing_Prices['No of Times Visited']=Housing_Prices['No of Times Visited'].astype(int)"
   ]
  },
  {
   "cell_type": "code",
   "execution_count": 38,
   "metadata": {},
   "outputs": [
    {
     "name": "stdout",
     "output_type": "stream",
     "text": [
      "<class 'pandas.core.frame.DataFrame'>\n",
      "Int64Index: 21609 entries, 0 to 21612\n",
      "Data columns (total 21 columns):\n",
      " #   Column                                     Non-Null Count  Dtype  \n",
      "---  ------                                     --------------  -----  \n",
      " 0   Sale Price                                 21609 non-null  float64\n",
      " 1   No of Bedrooms                             21609 non-null  int64  \n",
      " 2   No of Bathrooms                            21609 non-null  float64\n",
      " 3   Flat Area (in Sqft)                        21609 non-null  float64\n",
      " 4   Lot Area (in Sqft)                         21609 non-null  float64\n",
      " 5   No of Floors                               21609 non-null  float64\n",
      " 6   Waterfront View                            21609 non-null  object \n",
      " 7   No of Times Visited                        21609 non-null  int32  \n",
      " 8   Condition of the House                     21609 non-null  object \n",
      " 9   Overall Grade                              21609 non-null  int64  \n",
      " 10  Area of the House from Basement (in Sqft)  21609 non-null  float64\n",
      " 11  Basement Area (in Sqft)                    21609 non-null  int64  \n",
      " 12  Age of House (in Years)                    21609 non-null  int64  \n",
      " 13  Zipcode                                    21609 non-null  object \n",
      " 14  Latitude                                   21609 non-null  float64\n",
      " 15  Longitude                                  21609 non-null  float64\n",
      " 16  Living Area after Renovation (in Sqft)     21609 non-null  float64\n",
      " 17  Lot Area after Renovation (in Sqft)        21609 non-null  int64  \n",
      " 18  Ever Renovated                             21609 non-null  object \n",
      " 19  purchase year                              21609 non-null  int64  \n",
      " 20  years Since Renovation                     21609 non-null  int64  \n",
      "dtypes: float64(9), int32(1), int64(7), object(4)\n",
      "memory usage: 3.5+ MB\n"
     ]
    }
   ],
   "source": [
    "Housing_Prices.info()"
   ]
  },
  {
   "cell_type": "markdown",
   "metadata": {},
   "source": [
    "## Data Exploration- Independent Categorical variables"
   ]
  },
  {
   "cell_type": "code",
   "execution_count": 39,
   "metadata": {},
   "outputs": [
    {
     "data": {
      "text/plain": [
       "No     21446\n",
       "Yes      163\n",
       "Name: Waterfront View, dtype: int64"
      ]
     },
     "execution_count": 39,
     "metadata": {},
     "output_type": "execute_result"
    }
   ],
   "source": [
    "# categorical variables-Waterfront View,Condition of the House,Zipcode,Ever Renovated\n",
    "#Frequency distribution of unique values by value_counts()\n",
    "Housing_Prices['Waterfront View'].value_counts()  #2 levels -no,yes"
   ]
  },
  {
   "cell_type": "code",
   "execution_count": 40,
   "metadata": {},
   "outputs": [
    {
     "data": {
      "text/plain": [
       "Fair         14028\n",
       "Good          5678\n",
       "Excellent     1701\n",
       "Okay           172\n",
       "Bad             30\n",
       "Name: Condition of the House, dtype: int64"
      ]
     },
     "execution_count": 40,
     "metadata": {},
     "output_type": "execute_result"
    }
   ],
   "source": [
    "Housing_Prices['Condition of the House'].value_counts() #5 levels-Fair,Good,Excellent,Okay,Bad"
   ]
  },
  {
   "cell_type": "code",
   "execution_count": 41,
   "metadata": {},
   "outputs": [
    {
     "data": {
      "text/plain": [
       "98103.0    602\n",
       "98038.0    590\n",
       "98115.0    583\n",
       "98052.0    574\n",
       "98117.0    553\n",
       "          ... \n",
       "98102.0    105\n",
       "98010.0    100\n",
       "98024.0     81\n",
       "98148.0     57\n",
       "98039.0     50\n",
       "Name: Zipcode, Length: 70, dtype: int64"
      ]
     },
     "execution_count": 41,
     "metadata": {},
     "output_type": "execute_result"
    }
   ],
   "source": [
    "Housing_Prices['Zipcode'].value_counts() #71 levels"
   ]
  },
  {
   "cell_type": "code",
   "execution_count": 42,
   "metadata": {},
   "outputs": [
    {
     "data": {
      "text/plain": [
       "No     20695\n",
       "Yes      914\n",
       "Name: Ever Renovated, dtype: int64"
      ]
     },
     "execution_count": 42,
     "metadata": {},
     "output_type": "execute_result"
    }
   ],
   "source": [
    "Housing_Prices['Ever Renovated'].value_counts() #2 levels -No and Yes"
   ]
  },
  {
   "cell_type": "code",
   "execution_count": 43,
   "metadata": {},
   "outputs": [
    {
     "data": {
      "text/plain": [
       "<matplotlib.axes._subplots.AxesSubplot at 0x1c177506d60>"
      ]
     },
     "execution_count": 43,
     "metadata": {},
     "output_type": "execute_result"
    },
    {
     "data": {
      "image/png": "[encoded data removed]",
      "text/plain": [
       "<Figure size 432x288 with 1 Axes>"
      ]
     },
     "metadata": {
      "needs_background": "light"
     },
     "output_type": "display_data"
    }
   ],
   "source": [
    "#Relationship with target variable-visualizing using bargraph\n",
    "Housing_Prices.groupby('Waterfront View')['Sale Price'].mean().sort_values().plot(kind='bar',color='pink')"
   ]
  },
  {
   "cell_type": "code",
   "execution_count": 44,
   "metadata": {},
   "outputs": [
    {
     "data": {
      "text/plain": [
       "<matplotlib.axes._subplots.AxesSubplot at 0x1c177571190>"
      ]
     },
     "execution_count": 44,
     "metadata": {},
     "output_type": "execute_result"
    },
    {
     "data": {
      "image/png": "[encoded data removed]",
      "text/plain": [
       "<Figure size 432x288 with 1 Axes>"
      ]
     },
     "metadata": {
      "needs_background": "light"
     },
     "output_type": "display_data"
    }
   ],
   "source": [
    "Housing_Prices.groupby('Condition of the House')['Sale Price'].mean().sort_values().plot(kind='bar',color='orange')"
   ]
  },
  {
   "cell_type": "code",
   "execution_count": 45,
   "metadata": {},
   "outputs": [
    {
     "data": {
      "text/plain": [
       "<matplotlib.axes._subplots.AxesSubplot at 0x1c1775c8d60>"
      ]
     },
     "execution_count": 45,
     "metadata": {},
     "output_type": "execute_result"
    },
    {
     "data": {
      "image/png": "[encoded data removed]",
      "text/plain": [
       "<Figure size 432x288 with 1 Axes>"
      ]
     },
     "metadata": {
      "needs_background": "light"
     },
     "output_type": "display_data"
    }
   ],
   "source": [
    "Housing_Prices.groupby('Zipcode')['Sale Price'].mean().sort_values().plot(kind='bar',color='green')"
   ]
  },
  {
   "cell_type": "code",
   "execution_count": 46,
   "metadata": {},
   "outputs": [
    {
     "data": {
      "text/plain": [
       "<matplotlib.axes._subplots.AxesSubplot at 0x1c17800c220>"
      ]
     },
     "execution_count": 46,
     "metadata": {},
     "output_type": "execute_result"
    },
    {
     "data": {
      "image/png": "[encoded data removed]",
      "text/plain": [
       "<Figure size 432x288 with 1 Axes>"
      ]
     },
     "metadata": {
      "needs_background": "light"
     },
     "output_type": "display_data"
    }
   ],
   "source": [
    "Housing_Prices.groupby('Ever Renovated')['Sale Price'].mean().sort_values().plot(kind='bar',color='blue')"
   ]
  },
  {
   "cell_type": "code",
   "execution_count": 47,
   "metadata": {},
   "outputs": [],
   "source": [
    "#Transforming the features in to _ as should not have any features\n",
    "Housing_Prices=Housing_Prices.rename(columns={'Sale Price':'Sale_Price'})\n",
    "Housing_Prices=Housing_Prices.rename(columns={'Condition of the House':'Condition_of_the_House'})\n",
    "Housing_Prices=Housing_Prices.rename(columns={'Ever Renovated':'Ever_Renovated'})\n",
    "Housing_Prices=Housing_Prices.rename(columns={'Waterfront View':'Waterfront_View'})"
   ]
  },
  {
   "cell_type": "code",
   "execution_count": 48,
   "metadata": {},
   "outputs": [
    {
     "name": "stdout",
     "output_type": "stream",
     "text": [
      "                              sum_sq       df         F        PR(>F)\n",
      "Condition_of_the_House  1.441831e+13      4.0  58.25563  5.447605e-49\n",
      "Residual                1.336752e+15  21604.0       NaN           NaN\n"
     ]
    }
   ],
   "source": [
    "#relationship with target variable mathematically, using Anova from the stats library\n",
    "from statsmodels.formula.api import ols\n",
    "import statsmodels.api as sm\n",
    "mod=ols('Sale_Price~Condition_of_the_House',data=Housing_Prices).fit()\n",
    "Anova_Table=sm.stats.anova_lm(mod,typ=2)\n",
    "print(Anova_Table)\n",
    "#F-a larger value and P<0.05\n",
    "#there is a statistical significance differnce in means\n",
    "#this varaible makes an impact on the target variable and should be included in our model"
   ]
  },
  {
   "cell_type": "code",
   "execution_count": 49,
   "metadata": {},
   "outputs": [
    {
     "name": "stdout",
     "output_type": "stream",
     "text": [
      "                      sum_sq       df           F        PR(>F)\n",
      "Ever_Renovated  1.998463e+13      1.0  324.378469  5.419055e-72\n",
      "Residual        1.331185e+15  21607.0         NaN           NaN\n"
     ]
    }
   ],
   "source": [
    "mod=ols('Sale_Price~Ever_Renovated',data=Housing_Prices).fit()\n",
    "Anova_Table=sm.stats.anova_lm(mod,typ=2)\n",
    "print(Anova_Table)\n",
    "#F-a larger value and P<0.05\n",
    "#there is a statistical significance differnce in means\n",
    "#this varaible makes an impact on the target variable and should be included in our model"
   ]
  },
  {
   "cell_type": "code",
   "execution_count": 50,
   "metadata": {},
   "outputs": [
    {
     "name": "stdout",
     "output_type": "stream",
     "text": [
      "                       sum_sq       df           F         PR(>F)\n",
      "Waterfront_View  3.283737e+13      1.0  538.192683  1.275558e-117\n",
      "Residual         1.318333e+15  21607.0         NaN            NaN\n"
     ]
    }
   ],
   "source": [
    "mod=ols('Sale_Price~Waterfront_View',data=Housing_Prices).fit()\n",
    "Anova_Table=sm.stats.anova_lm(mod,typ=2)\n",
    "print(Anova_Table)\n",
    "#F-a larger value and P<0.05\n",
    "#there is a statistical significance differnce in means\n",
    "#this varaible makes an impact on the target variable and should be included in our model"
   ]
  },
  {
   "cell_type": "code",
   "execution_count": 51,
   "metadata": {},
   "outputs": [
    {
     "name": "stdout",
     "output_type": "stream",
     "text": [
      "                sum_sq       df           F  PR(>F)\n",
      "Zipcode   6.859657e+14     69.0  321.902033     0.0\n",
      "Residual  6.652044e+14  21539.0         NaN     NaN\n"
     ]
    }
   ],
   "source": [
    "mod=ols('Sale_Price~Zipcode',data=Housing_Prices).fit()\n",
    "Anova_Table=sm.stats.anova_lm(mod,typ=2)\n",
    "print(Anova_Table)\n",
    "#F-a larger value and P<0.05\n",
    "#there is a statistical significance differnce in means\n",
    "#this varaible makes an impact on the target variable and should be included in our model"
   ]
  },
  {
   "cell_type": "code",
   "execution_count": 52,
   "metadata": {},
   "outputs": [],
   "source": [
    "#Binning and Creation of Dummy Variables\n",
    "#here we transform the categorical variables in numerical or boolean variables as regression requries all variables to numerical\n",
    "#if n levels of categorical varaibles -> then (n-1) dummy variables are created[condition:levels<20]\n",
    "#if n levels >20,then we bin in to fewer groups(n<20) and create the dummy variables out of it\n",
    "#as per the problem:Condition_of_the_House,Ever_Renovated,Waterfront_View contains levels <20,and zipcode contains >20 levels\n",
    "Housing_Prices=pd.get_dummies(Housing_Prices,columns=['Condition_of_the_House','Waterfront_View','Ever_Renovated'],drop_first=True)"
   ]
  },
  {
   "cell_type": "code",
   "execution_count": 53,
   "metadata": {},
   "outputs": [
    {
     "data": {
      "text/html": [
       "<div>\n",
       "<style scoped>\n",
       "    .dataframe tbody tr th:only-of-type {\n",
       "        vertical-align: middle;\n",
       "    }\n",
       "\n",
       "    .dataframe tbody tr th {\n",
       "        vertical-align: top;\n",
       "    }\n",
       "\n",
       "    .dataframe thead th {\n",
       "        text-align: right;\n",
       "    }\n",
       "</style>\n",
       "<table border=\"1\" class=\"dataframe\">\n",
       "  <thead>\n",
       "    <tr style=\"text-align: right;\">\n",
       "      <th></th>\n",
       "      <th>Sale_Price</th>\n",
       "    </tr>\n",
       "    <tr>\n",
       "      <th>Zipcode</th>\n",
       "      <th></th>\n",
       "    </tr>\n",
       "  </thead>\n",
       "  <tbody>\n",
       "    <tr>\n",
       "      <th>98002.0</th>\n",
       "      <td>234284.035176</td>\n",
       "    </tr>\n",
       "    <tr>\n",
       "      <th>98168.0</th>\n",
       "      <td>240328.371747</td>\n",
       "    </tr>\n",
       "    <tr>\n",
       "      <th>98032.0</th>\n",
       "      <td>251296.240000</td>\n",
       "    </tr>\n",
       "    <tr>\n",
       "      <th>98001.0</th>\n",
       "      <td>280804.690608</td>\n",
       "    </tr>\n",
       "    <tr>\n",
       "      <th>98148.0</th>\n",
       "      <td>284908.596491</td>\n",
       "    </tr>\n",
       "  </tbody>\n",
       "</table>\n",
       "</div>"
      ],
      "text/plain": [
       "            Sale_Price\n",
       "Zipcode               \n",
       "98002.0  234284.035176\n",
       "98168.0  240328.371747\n",
       "98032.0  251296.240000\n",
       "98001.0  280804.690608\n",
       "98148.0  284908.596491"
      ]
     },
     "execution_count": 53,
     "metadata": {},
     "output_type": "execute_result"
    }
   ],
   "source": [
    "#we can bin Zipcode with similar average Sale Price w.to groups\n",
    "zip_table=Housing_Prices.groupby('Zipcode').agg({'Sale_Price':'mean'}).sort_values('Sale_Price',ascending=True)\n",
    "zip_table.head()"
   ]
  },
  {
   "cell_type": "code",
   "execution_count": 54,
   "metadata": {},
   "outputs": [],
   "source": [
    "zip_table['Zipcode_Group']=pd.cut(zip_table['Sale_Price'],bins=10,\n",
    "                                 labels=['Zipcode_Group_0',\n",
    "                                        'Zipcode_Group_1','Zipcode_Group_2',\n",
    "                                        'Zipcode_Group_3','Zipcode_Group_4',\n",
    "                                        'Zipcode_Group_5','Zipcode_Group_6',\n",
    "                                        'Zipcode_Group_7','Zipcode_Group_8','Zipcode_Group_9'],include_lowest=True)"
   ]
  },
  {
   "cell_type": "code",
   "execution_count": 55,
   "metadata": {},
   "outputs": [
    {
     "data": {
      "text/html": [
       "<div>\n",
       "<style scoped>\n",
       "    .dataframe tbody tr th:only-of-type {\n",
       "        vertical-align: middle;\n",
       "    }\n",
       "\n",
       "    .dataframe tbody tr th {\n",
       "        vertical-align: top;\n",
       "    }\n",
       "\n",
       "    .dataframe thead th {\n",
       "        text-align: right;\n",
       "    }\n",
       "</style>\n",
       "<table border=\"1\" class=\"dataframe\">\n",
       "  <thead>\n",
       "    <tr style=\"text-align: right;\">\n",
       "      <th></th>\n",
       "      <th>Zipcode_Group</th>\n",
       "    </tr>\n",
       "    <tr>\n",
       "      <th>Zipcode</th>\n",
       "      <th></th>\n",
       "    </tr>\n",
       "  </thead>\n",
       "  <tbody>\n",
       "    <tr>\n",
       "      <th>98002.0</th>\n",
       "      <td>Zipcode_Group_0</td>\n",
       "    </tr>\n",
       "    <tr>\n",
       "      <th>98168.0</th>\n",
       "      <td>Zipcode_Group_0</td>\n",
       "    </tr>\n",
       "    <tr>\n",
       "      <th>98032.0</th>\n",
       "      <td>Zipcode_Group_0</td>\n",
       "    </tr>\n",
       "    <tr>\n",
       "      <th>98001.0</th>\n",
       "      <td>Zipcode_Group_0</td>\n",
       "    </tr>\n",
       "    <tr>\n",
       "      <th>98148.0</th>\n",
       "      <td>Zipcode_Group_0</td>\n",
       "    </tr>\n",
       "  </tbody>\n",
       "</table>\n",
       "</div>"
      ],
      "text/plain": [
       "           Zipcode_Group\n",
       "Zipcode                 \n",
       "98002.0  Zipcode_Group_0\n",
       "98168.0  Zipcode_Group_0\n",
       "98032.0  Zipcode_Group_0\n",
       "98001.0  Zipcode_Group_0\n",
       "98148.0  Zipcode_Group_0"
      ]
     },
     "execution_count": 55,
     "metadata": {},
     "output_type": "execute_result"
    }
   ],
   "source": [
    "zip_table=zip_table.drop(columns='Sale_Price')\n",
    "zip_table.head()"
   ]
  },
  {
   "cell_type": "code",
   "execution_count": 56,
   "metadata": {},
   "outputs": [],
   "source": [
    "Housing_Prices=pd.merge(Housing_Prices,zip_table,left_on='Zipcode',how='left',right_index=True)"
   ]
  },
  {
   "cell_type": "code",
   "execution_count": 57,
   "metadata": {},
   "outputs": [
    {
     "data": {
      "text/html": [
       "<div>\n",
       "<style scoped>\n",
       "    .dataframe tbody tr th:only-of-type {\n",
       "        vertical-align: middle;\n",
       "    }\n",
       "\n",
       "    .dataframe tbody tr th {\n",
       "        vertical-align: top;\n",
       "    }\n",
       "\n",
       "    .dataframe thead th {\n",
       "        text-align: right;\n",
       "    }\n",
       "</style>\n",
       "<table border=\"1\" class=\"dataframe\">\n",
       "  <thead>\n",
       "    <tr style=\"text-align: right;\">\n",
       "      <th></th>\n",
       "      <th>Sale_Price</th>\n",
       "      <th>No of Bedrooms</th>\n",
       "      <th>No of Bathrooms</th>\n",
       "      <th>Flat Area (in Sqft)</th>\n",
       "      <th>Lot Area (in Sqft)</th>\n",
       "      <th>No of Floors</th>\n",
       "      <th>No of Times Visited</th>\n",
       "      <th>Overall Grade</th>\n",
       "      <th>Area of the House from Basement (in Sqft)</th>\n",
       "      <th>Basement Area (in Sqft)</th>\n",
       "      <th>...</th>\n",
       "      <th>Lot Area after Renovation (in Sqft)</th>\n",
       "      <th>purchase year</th>\n",
       "      <th>years Since Renovation</th>\n",
       "      <th>Condition_of_the_House_Excellent</th>\n",
       "      <th>Condition_of_the_House_Fair</th>\n",
       "      <th>Condition_of_the_House_Good</th>\n",
       "      <th>Condition_of_the_House_Okay</th>\n",
       "      <th>Waterfront_View_Yes</th>\n",
       "      <th>Ever_Renovated_Yes</th>\n",
       "      <th>Zipcode_Group</th>\n",
       "    </tr>\n",
       "  </thead>\n",
       "  <tbody>\n",
       "    <tr>\n",
       "      <th>0</th>\n",
       "      <td>221900.0</td>\n",
       "      <td>3</td>\n",
       "      <td>1.00</td>\n",
       "      <td>1180.0</td>\n",
       "      <td>5650.0</td>\n",
       "      <td>1.0</td>\n",
       "      <td>0</td>\n",
       "      <td>7</td>\n",
       "      <td>1180.0</td>\n",
       "      <td>0</td>\n",
       "      <td>...</td>\n",
       "      <td>5650</td>\n",
       "      <td>2017</td>\n",
       "      <td>0</td>\n",
       "      <td>0</td>\n",
       "      <td>1</td>\n",
       "      <td>0</td>\n",
       "      <td>0</td>\n",
       "      <td>0</td>\n",
       "      <td>0</td>\n",
       "      <td>Zipcode_Group_0</td>\n",
       "    </tr>\n",
       "    <tr>\n",
       "      <th>1</th>\n",
       "      <td>538000.0</td>\n",
       "      <td>3</td>\n",
       "      <td>2.25</td>\n",
       "      <td>2570.0</td>\n",
       "      <td>7242.0</td>\n",
       "      <td>2.0</td>\n",
       "      <td>0</td>\n",
       "      <td>7</td>\n",
       "      <td>2170.0</td>\n",
       "      <td>400</td>\n",
       "      <td>...</td>\n",
       "      <td>7639</td>\n",
       "      <td>2017</td>\n",
       "      <td>26</td>\n",
       "      <td>0</td>\n",
       "      <td>1</td>\n",
       "      <td>0</td>\n",
       "      <td>0</td>\n",
       "      <td>0</td>\n",
       "      <td>1</td>\n",
       "      <td>Zipcode_Group_2</td>\n",
       "    </tr>\n",
       "    <tr>\n",
       "      <th>2</th>\n",
       "      <td>180000.0</td>\n",
       "      <td>2</td>\n",
       "      <td>1.00</td>\n",
       "      <td>770.0</td>\n",
       "      <td>10000.0</td>\n",
       "      <td>1.0</td>\n",
       "      <td>0</td>\n",
       "      <td>6</td>\n",
       "      <td>770.0</td>\n",
       "      <td>0</td>\n",
       "      <td>...</td>\n",
       "      <td>8062</td>\n",
       "      <td>2016</td>\n",
       "      <td>0</td>\n",
       "      <td>0</td>\n",
       "      <td>1</td>\n",
       "      <td>0</td>\n",
       "      <td>0</td>\n",
       "      <td>0</td>\n",
       "      <td>0</td>\n",
       "      <td>Zipcode_Group_2</td>\n",
       "    </tr>\n",
       "    <tr>\n",
       "      <th>3</th>\n",
       "      <td>604000.0</td>\n",
       "      <td>4</td>\n",
       "      <td>3.00</td>\n",
       "      <td>1960.0</td>\n",
       "      <td>5000.0</td>\n",
       "      <td>1.0</td>\n",
       "      <td>0</td>\n",
       "      <td>7</td>\n",
       "      <td>1050.0</td>\n",
       "      <td>910</td>\n",
       "      <td>...</td>\n",
       "      <td>5000</td>\n",
       "      <td>2017</td>\n",
       "      <td>0</td>\n",
       "      <td>1</td>\n",
       "      <td>0</td>\n",
       "      <td>0</td>\n",
       "      <td>0</td>\n",
       "      <td>0</td>\n",
       "      <td>0</td>\n",
       "      <td>Zipcode_Group_3</td>\n",
       "    </tr>\n",
       "    <tr>\n",
       "      <th>4</th>\n",
       "      <td>510000.0</td>\n",
       "      <td>3</td>\n",
       "      <td>2.00</td>\n",
       "      <td>1680.0</td>\n",
       "      <td>8080.0</td>\n",
       "      <td>1.0</td>\n",
       "      <td>0</td>\n",
       "      <td>8</td>\n",
       "      <td>1680.0</td>\n",
       "      <td>0</td>\n",
       "      <td>...</td>\n",
       "      <td>7503</td>\n",
       "      <td>2016</td>\n",
       "      <td>0</td>\n",
       "      <td>0</td>\n",
       "      <td>1</td>\n",
       "      <td>0</td>\n",
       "      <td>0</td>\n",
       "      <td>0</td>\n",
       "      <td>0</td>\n",
       "      <td>Zipcode_Group_4</td>\n",
       "    </tr>\n",
       "  </tbody>\n",
       "</table>\n",
       "<p>5 rows × 24 columns</p>\n",
       "</div>"
      ],
      "text/plain": [
       "   Sale_Price  No of Bedrooms  No of Bathrooms  Flat Area (in Sqft)  \\\n",
       "0    221900.0               3             1.00               1180.0   \n",
       "1    538000.0               3             2.25               2570.0   \n",
       "2    180000.0               2             1.00                770.0   \n",
       "3    604000.0               4             3.00               1960.0   \n",
       "4    510000.0               3             2.00               1680.0   \n",
       "\n",
       "   Lot Area (in Sqft)  No of Floors  No of Times Visited  Overall Grade  \\\n",
       "0              5650.0           1.0                    0              7   \n",
       "1              7242.0           2.0                    0              7   \n",
       "2             10000.0           1.0                    0              6   \n",
       "3              5000.0           1.0                    0              7   \n",
       "4              8080.0           1.0                    0              8   \n",
       "\n",
       "   Area of the House from Basement (in Sqft)  Basement Area (in Sqft)  ...  \\\n",
       "0                                     1180.0                        0  ...   \n",
       "1                                     2170.0                      400  ...   \n",
       "2                                      770.0                        0  ...   \n",
       "3                                     1050.0                      910  ...   \n",
       "4                                     1680.0                        0  ...   \n",
       "\n",
       "   Lot Area after Renovation (in Sqft)  purchase year  years Since Renovation  \\\n",
       "0                                 5650           2017                       0   \n",
       "1                                 7639           2017                      26   \n",
       "2                                 8062           2016                       0   \n",
       "3                                 5000           2017                       0   \n",
       "4                                 7503           2016                       0   \n",
       "\n",
       "   Condition_of_the_House_Excellent  Condition_of_the_House_Fair  \\\n",
       "0                                 0                            1   \n",
       "1                                 0                            1   \n",
       "2                                 0                            1   \n",
       "3                                 1                            0   \n",
       "4                                 0                            1   \n",
       "\n",
       "   Condition_of_the_House_Good  Condition_of_the_House_Okay  \\\n",
       "0                            0                            0   \n",
       "1                            0                            0   \n",
       "2                            0                            0   \n",
       "3                            0                            0   \n",
       "4                            0                            0   \n",
       "\n",
       "   Waterfront_View_Yes  Ever_Renovated_Yes    Zipcode_Group  \n",
       "0                    0                   0  Zipcode_Group_0  \n",
       "1                    0                   1  Zipcode_Group_2  \n",
       "2                    0                   0  Zipcode_Group_2  \n",
       "3                    0                   0  Zipcode_Group_3  \n",
       "4                    0                   0  Zipcode_Group_4  \n",
       "\n",
       "[5 rows x 24 columns]"
      ]
     },
     "execution_count": 57,
     "metadata": {},
     "output_type": "execute_result"
    }
   ],
   "source": [
    "Housing_Prices=Housing_Prices.drop(columns='Zipcode')\n",
    "Housing_Prices.head()"
   ]
  },
  {
   "cell_type": "code",
   "execution_count": 58,
   "metadata": {},
   "outputs": [
    {
     "data": {
      "text/html": [
       "<div>\n",
       "<style scoped>\n",
       "    .dataframe tbody tr th:only-of-type {\n",
       "        vertical-align: middle;\n",
       "    }\n",
       "\n",
       "    .dataframe tbody tr th {\n",
       "        vertical-align: top;\n",
       "    }\n",
       "\n",
       "    .dataframe thead th {\n",
       "        text-align: right;\n",
       "    }\n",
       "</style>\n",
       "<table border=\"1\" class=\"dataframe\">\n",
       "  <thead>\n",
       "    <tr style=\"text-align: right;\">\n",
       "      <th></th>\n",
       "      <th>Sale_Price</th>\n",
       "      <th>No of Bedrooms</th>\n",
       "      <th>No of Bathrooms</th>\n",
       "      <th>Flat Area (in Sqft)</th>\n",
       "      <th>Lot Area (in Sqft)</th>\n",
       "      <th>No of Floors</th>\n",
       "      <th>No of Times Visited</th>\n",
       "      <th>Overall Grade</th>\n",
       "      <th>Area of the House from Basement (in Sqft)</th>\n",
       "      <th>Basement Area (in Sqft)</th>\n",
       "      <th>...</th>\n",
       "      <th>Ever_Renovated_Yes</th>\n",
       "      <th>Zipcode_Group_Zipcode_Group_1</th>\n",
       "      <th>Zipcode_Group_Zipcode_Group_2</th>\n",
       "      <th>Zipcode_Group_Zipcode_Group_3</th>\n",
       "      <th>Zipcode_Group_Zipcode_Group_4</th>\n",
       "      <th>Zipcode_Group_Zipcode_Group_5</th>\n",
       "      <th>Zipcode_Group_Zipcode_Group_6</th>\n",
       "      <th>Zipcode_Group_Zipcode_Group_7</th>\n",
       "      <th>Zipcode_Group_Zipcode_Group_8</th>\n",
       "      <th>Zipcode_Group_Zipcode_Group_9</th>\n",
       "    </tr>\n",
       "  </thead>\n",
       "  <tbody>\n",
       "    <tr>\n",
       "      <th>0</th>\n",
       "      <td>221900.0</td>\n",
       "      <td>3</td>\n",
       "      <td>1.00</td>\n",
       "      <td>1180.0</td>\n",
       "      <td>5650.0</td>\n",
       "      <td>1.0</td>\n",
       "      <td>0</td>\n",
       "      <td>7</td>\n",
       "      <td>1180.0</td>\n",
       "      <td>0</td>\n",
       "      <td>...</td>\n",
       "      <td>0</td>\n",
       "      <td>0</td>\n",
       "      <td>0</td>\n",
       "      <td>0</td>\n",
       "      <td>0</td>\n",
       "      <td>0</td>\n",
       "      <td>0</td>\n",
       "      <td>0</td>\n",
       "      <td>0</td>\n",
       "      <td>0</td>\n",
       "    </tr>\n",
       "    <tr>\n",
       "      <th>1</th>\n",
       "      <td>538000.0</td>\n",
       "      <td>3</td>\n",
       "      <td>2.25</td>\n",
       "      <td>2570.0</td>\n",
       "      <td>7242.0</td>\n",
       "      <td>2.0</td>\n",
       "      <td>0</td>\n",
       "      <td>7</td>\n",
       "      <td>2170.0</td>\n",
       "      <td>400</td>\n",
       "      <td>...</td>\n",
       "      <td>1</td>\n",
       "      <td>0</td>\n",
       "      <td>1</td>\n",
       "      <td>0</td>\n",
       "      <td>0</td>\n",
       "      <td>0</td>\n",
       "      <td>0</td>\n",
       "      <td>0</td>\n",
       "      <td>0</td>\n",
       "      <td>0</td>\n",
       "    </tr>\n",
       "    <tr>\n",
       "      <th>2</th>\n",
       "      <td>180000.0</td>\n",
       "      <td>2</td>\n",
       "      <td>1.00</td>\n",
       "      <td>770.0</td>\n",
       "      <td>10000.0</td>\n",
       "      <td>1.0</td>\n",
       "      <td>0</td>\n",
       "      <td>6</td>\n",
       "      <td>770.0</td>\n",
       "      <td>0</td>\n",
       "      <td>...</td>\n",
       "      <td>0</td>\n",
       "      <td>0</td>\n",
       "      <td>1</td>\n",
       "      <td>0</td>\n",
       "      <td>0</td>\n",
       "      <td>0</td>\n",
       "      <td>0</td>\n",
       "      <td>0</td>\n",
       "      <td>0</td>\n",
       "      <td>0</td>\n",
       "    </tr>\n",
       "    <tr>\n",
       "      <th>3</th>\n",
       "      <td>604000.0</td>\n",
       "      <td>4</td>\n",
       "      <td>3.00</td>\n",
       "      <td>1960.0</td>\n",
       "      <td>5000.0</td>\n",
       "      <td>1.0</td>\n",
       "      <td>0</td>\n",
       "      <td>7</td>\n",
       "      <td>1050.0</td>\n",
       "      <td>910</td>\n",
       "      <td>...</td>\n",
       "      <td>0</td>\n",
       "      <td>0</td>\n",
       "      <td>0</td>\n",
       "      <td>1</td>\n",
       "      <td>0</td>\n",
       "      <td>0</td>\n",
       "      <td>0</td>\n",
       "      <td>0</td>\n",
       "      <td>0</td>\n",
       "      <td>0</td>\n",
       "    </tr>\n",
       "    <tr>\n",
       "      <th>4</th>\n",
       "      <td>510000.0</td>\n",
       "      <td>3</td>\n",
       "      <td>2.00</td>\n",
       "      <td>1680.0</td>\n",
       "      <td>8080.0</td>\n",
       "      <td>1.0</td>\n",
       "      <td>0</td>\n",
       "      <td>8</td>\n",
       "      <td>1680.0</td>\n",
       "      <td>0</td>\n",
       "      <td>...</td>\n",
       "      <td>0</td>\n",
       "      <td>0</td>\n",
       "      <td>0</td>\n",
       "      <td>0</td>\n",
       "      <td>1</td>\n",
       "      <td>0</td>\n",
       "      <td>0</td>\n",
       "      <td>0</td>\n",
       "      <td>0</td>\n",
       "      <td>0</td>\n",
       "    </tr>\n",
       "  </tbody>\n",
       "</table>\n",
       "<p>5 rows × 32 columns</p>\n",
       "</div>"
      ],
      "text/plain": [
       "   Sale_Price  No of Bedrooms  No of Bathrooms  Flat Area (in Sqft)  \\\n",
       "0    221900.0               3             1.00               1180.0   \n",
       "1    538000.0               3             2.25               2570.0   \n",
       "2    180000.0               2             1.00                770.0   \n",
       "3    604000.0               4             3.00               1960.0   \n",
       "4    510000.0               3             2.00               1680.0   \n",
       "\n",
       "   Lot Area (in Sqft)  No of Floors  No of Times Visited  Overall Grade  \\\n",
       "0              5650.0           1.0                    0              7   \n",
       "1              7242.0           2.0                    0              7   \n",
       "2             10000.0           1.0                    0              6   \n",
       "3              5000.0           1.0                    0              7   \n",
       "4              8080.0           1.0                    0              8   \n",
       "\n",
       "   Area of the House from Basement (in Sqft)  Basement Area (in Sqft)  ...  \\\n",
       "0                                     1180.0                        0  ...   \n",
       "1                                     2170.0                      400  ...   \n",
       "2                                      770.0                        0  ...   \n",
       "3                                     1050.0                      910  ...   \n",
       "4                                     1680.0                        0  ...   \n",
       "\n",
       "   Ever_Renovated_Yes  Zipcode_Group_Zipcode_Group_1  \\\n",
       "0                   0                              0   \n",
       "1                   1                              0   \n",
       "2                   0                              0   \n",
       "3                   0                              0   \n",
       "4                   0                              0   \n",
       "\n",
       "   Zipcode_Group_Zipcode_Group_2  Zipcode_Group_Zipcode_Group_3  \\\n",
       "0                              0                              0   \n",
       "1                              1                              0   \n",
       "2                              1                              0   \n",
       "3                              0                              1   \n",
       "4                              0                              0   \n",
       "\n",
       "   Zipcode_Group_Zipcode_Group_4  Zipcode_Group_Zipcode_Group_5  \\\n",
       "0                              0                              0   \n",
       "1                              0                              0   \n",
       "2                              0                              0   \n",
       "3                              0                              0   \n",
       "4                              1                              0   \n",
       "\n",
       "   Zipcode_Group_Zipcode_Group_6  Zipcode_Group_Zipcode_Group_7  \\\n",
       "0                              0                              0   \n",
       "1                              0                              0   \n",
       "2                              0                              0   \n",
       "3                              0                              0   \n",
       "4                              0                              0   \n",
       "\n",
       "   Zipcode_Group_Zipcode_Group_8  Zipcode_Group_Zipcode_Group_9  \n",
       "0                              0                              0  \n",
       "1                              0                              0  \n",
       "2                              0                              0  \n",
       "3                              0                              0  \n",
       "4                              0                              0  \n",
       "\n",
       "[5 rows x 32 columns]"
      ]
     },
     "execution_count": 58,
     "metadata": {},
     "output_type": "execute_result"
    }
   ],
   "source": [
    "#now to get dummy variables for the Zipcode_Group variable\n",
    "Housing_Prices=pd.get_dummies(Housing_Prices,columns=['Zipcode_Group'],drop_first=True)\n",
    "Housing_Prices.head()"
   ]
  },
  {
   "cell_type": "code",
   "execution_count": 59,
   "metadata": {},
   "outputs": [
    {
     "name": "stdout",
     "output_type": "stream",
     "text": [
      "<class 'pandas.core.frame.DataFrame'>\n",
      "Int64Index: 21609 entries, 0 to 21612\n",
      "Data columns (total 32 columns):\n",
      " #   Column                                     Non-Null Count  Dtype  \n",
      "---  ------                                     --------------  -----  \n",
      " 0   Sale_Price                                 21609 non-null  float64\n",
      " 1   No of Bedrooms                             21609 non-null  int64  \n",
      " 2   No of Bathrooms                            21609 non-null  float64\n",
      " 3   Flat Area (in Sqft)                        21609 non-null  float64\n",
      " 4   Lot Area (in Sqft)                         21609 non-null  float64\n",
      " 5   No of Floors                               21609 non-null  float64\n",
      " 6   No of Times Visited                        21609 non-null  int32  \n",
      " 7   Overall Grade                              21609 non-null  int64  \n",
      " 8   Area of the House from Basement (in Sqft)  21609 non-null  float64\n",
      " 9   Basement Area (in Sqft)                    21609 non-null  int64  \n",
      " 10  Age of House (in Years)                    21609 non-null  int64  \n",
      " 11  Latitude                                   21609 non-null  float64\n",
      " 12  Longitude                                  21609 non-null  float64\n",
      " 13  Living Area after Renovation (in Sqft)     21609 non-null  float64\n",
      " 14  Lot Area after Renovation (in Sqft)        21609 non-null  int64  \n",
      " 15  purchase year                              21609 non-null  int64  \n",
      " 16  years Since Renovation                     21609 non-null  int64  \n",
      " 17  Condition_of_the_House_Excellent           21609 non-null  uint8  \n",
      " 18  Condition_of_the_House_Fair                21609 non-null  uint8  \n",
      " 19  Condition_of_the_House_Good                21609 non-null  uint8  \n",
      " 20  Condition_of_the_House_Okay                21609 non-null  uint8  \n",
      " 21  Waterfront_View_Yes                        21609 non-null  uint8  \n",
      " 22  Ever_Renovated_Yes                         21609 non-null  uint8  \n",
      " 23  Zipcode_Group_Zipcode_Group_1              21609 non-null  uint8  \n",
      " 24  Zipcode_Group_Zipcode_Group_2              21609 non-null  uint8  \n",
      " 25  Zipcode_Group_Zipcode_Group_3              21609 non-null  uint8  \n",
      " 26  Zipcode_Group_Zipcode_Group_4              21609 non-null  uint8  \n",
      " 27  Zipcode_Group_Zipcode_Group_5              21609 non-null  uint8  \n",
      " 28  Zipcode_Group_Zipcode_Group_6              21609 non-null  uint8  \n",
      " 29  Zipcode_Group_Zipcode_Group_7              21609 non-null  uint8  \n",
      " 30  Zipcode_Group_Zipcode_Group_8              21609 non-null  uint8  \n",
      " 31  Zipcode_Group_Zipcode_Group_9              21609 non-null  uint8  \n",
      "dtypes: float64(9), int32(1), int64(7), uint8(15)\n",
      "memory usage: 3.2 MB\n"
     ]
    }
   ],
   "source": [
    "Housing_Prices.info()"
   ]
  },
  {
   "cell_type": "code",
   "execution_count": 60,
   "metadata": {},
   "outputs": [],
   "source": [
    "#we drop 'purchase year'\n",
    "Housing_Prices.drop(columns=['purchase year'],inplace=True)"
   ]
  },
  {
   "cell_type": "code",
   "execution_count": 61,
   "metadata": {},
   "outputs": [
    {
     "name": "stdout",
     "output_type": "stream",
     "text": [
      "<class 'pandas.core.frame.DataFrame'>\n",
      "Int64Index: 21609 entries, 0 to 21612\n",
      "Data columns (total 31 columns):\n",
      " #   Column                                     Non-Null Count  Dtype  \n",
      "---  ------                                     --------------  -----  \n",
      " 0   Sale_Price                                 21609 non-null  float64\n",
      " 1   No of Bedrooms                             21609 non-null  int64  \n",
      " 2   No of Bathrooms                            21609 non-null  float64\n",
      " 3   Flat Area (in Sqft)                        21609 non-null  float64\n",
      " 4   Lot Area (in Sqft)                         21609 non-null  float64\n",
      " 5   No of Floors                               21609 non-null  float64\n",
      " 6   No of Times Visited                        21609 non-null  int32  \n",
      " 7   Overall Grade                              21609 non-null  int64  \n",
      " 8   Area of the House from Basement (in Sqft)  21609 non-null  float64\n",
      " 9   Basement Area (in Sqft)                    21609 non-null  int64  \n",
      " 10  Age of House (in Years)                    21609 non-null  int64  \n",
      " 11  Latitude                                   21609 non-null  float64\n",
      " 12  Longitude                                  21609 non-null  float64\n",
      " 13  Living Area after Renovation (in Sqft)     21609 non-null  float64\n",
      " 14  Lot Area after Renovation (in Sqft)        21609 non-null  int64  \n",
      " 15  years Since Renovation                     21609 non-null  int64  \n",
      " 16  Condition_of_the_House_Excellent           21609 non-null  uint8  \n",
      " 17  Condition_of_the_House_Fair                21609 non-null  uint8  \n",
      " 18  Condition_of_the_House_Good                21609 non-null  uint8  \n",
      " 19  Condition_of_the_House_Okay                21609 non-null  uint8  \n",
      " 20  Waterfront_View_Yes                        21609 non-null  uint8  \n",
      " 21  Ever_Renovated_Yes                         21609 non-null  uint8  \n",
      " 22  Zipcode_Group_Zipcode_Group_1              21609 non-null  uint8  \n",
      " 23  Zipcode_Group_Zipcode_Group_2              21609 non-null  uint8  \n",
      " 24  Zipcode_Group_Zipcode_Group_3              21609 non-null  uint8  \n",
      " 25  Zipcode_Group_Zipcode_Group_4              21609 non-null  uint8  \n",
      " 26  Zipcode_Group_Zipcode_Group_5              21609 non-null  uint8  \n",
      " 27  Zipcode_Group_Zipcode_Group_6              21609 non-null  uint8  \n",
      " 28  Zipcode_Group_Zipcode_Group_7              21609 non-null  uint8  \n",
      " 29  Zipcode_Group_Zipcode_Group_8              21609 non-null  uint8  \n",
      " 30  Zipcode_Group_Zipcode_Group_9              21609 non-null  uint8  \n",
      "dtypes: float64(9), int32(1), int64(6), uint8(15)\n",
      "memory usage: 3.0 MB\n"
     ]
    }
   ],
   "source": [
    "Housing_Prices.info()"
   ]
  },
  {
   "cell_type": "markdown",
   "metadata": {},
   "source": [
    "## Now the data has been preprocessed and all the variables are of numerical type so that we can proceed for applying the regression model with 21609 rows and 31 variables/columns"
   ]
  },
  {
   "cell_type": "markdown",
   "metadata": {},
   "source": [
    "### Scaling the dataset"
   ]
  },
  {
   "cell_type": "code",
   "execution_count": 62,
   "metadata": {},
   "outputs": [],
   "source": [
    "#Scaling the dataset and seperating the data in to dependent(Y) and Independent(X) variables\n",
    "from sklearn.preprocessing import StandardScaler\n",
    "scaler=StandardScaler()\n",
    "Y=Housing_Prices['Sale_Price'] #dependent/target varaible taken as column 0 from the data\n",
    "X=scaler.fit_transform(Housing_Prices.drop(columns=['Sale_Price'])) #independent variables from columns 1 to 30\n",
    "X=pd.DataFrame(data=X,columns=Housing_Prices.drop(columns=['Sale_Price']).columns)#scaled in pandas for better data manipulation"
   ]
  },
  {
   "cell_type": "code",
   "execution_count": 63,
   "metadata": {},
   "outputs": [
    {
     "data": {
      "text/html": [
       "<div>\n",
       "<style scoped>\n",
       "    .dataframe tbody tr th:only-of-type {\n",
       "        vertical-align: middle;\n",
       "    }\n",
       "\n",
       "    .dataframe tbody tr th {\n",
       "        vertical-align: top;\n",
       "    }\n",
       "\n",
       "    .dataframe thead th {\n",
       "        text-align: right;\n",
       "    }\n",
       "</style>\n",
       "<table border=\"1\" class=\"dataframe\">\n",
       "  <thead>\n",
       "    <tr style=\"text-align: right;\">\n",
       "      <th></th>\n",
       "      <th>Sale_Price</th>\n",
       "      <th>No of Bedrooms</th>\n",
       "      <th>No of Bathrooms</th>\n",
       "      <th>Flat Area (in Sqft)</th>\n",
       "      <th>Lot Area (in Sqft)</th>\n",
       "      <th>No of Floors</th>\n",
       "      <th>No of Times Visited</th>\n",
       "      <th>Overall Grade</th>\n",
       "      <th>Area of the House from Basement (in Sqft)</th>\n",
       "      <th>Basement Area (in Sqft)</th>\n",
       "      <th>...</th>\n",
       "      <th>Ever_Renovated_Yes</th>\n",
       "      <th>Zipcode_Group_Zipcode_Group_1</th>\n",
       "      <th>Zipcode_Group_Zipcode_Group_2</th>\n",
       "      <th>Zipcode_Group_Zipcode_Group_3</th>\n",
       "      <th>Zipcode_Group_Zipcode_Group_4</th>\n",
       "      <th>Zipcode_Group_Zipcode_Group_5</th>\n",
       "      <th>Zipcode_Group_Zipcode_Group_6</th>\n",
       "      <th>Zipcode_Group_Zipcode_Group_7</th>\n",
       "      <th>Zipcode_Group_Zipcode_Group_8</th>\n",
       "      <th>Zipcode_Group_Zipcode_Group_9</th>\n",
       "    </tr>\n",
       "  </thead>\n",
       "  <tbody>\n",
       "    <tr>\n",
       "      <th>Sale_Price</th>\n",
       "      <td>1.000000</td>\n",
       "      <td>0.339407</td>\n",
       "      <td>0.535124</td>\n",
       "      <td>0.695170</td>\n",
       "      <td>0.101319</td>\n",
       "      <td>0.298913</td>\n",
       "      <td>0.356114</td>\n",
       "      <td>0.680914</td>\n",
       "      <td>0.606527</td>\n",
       "      <td>0.307513</td>\n",
       "      <td>...</td>\n",
       "      <td>0.121617</td>\n",
       "      <td>-0.210509</td>\n",
       "      <td>-0.136147</td>\n",
       "      <td>0.064580</td>\n",
       "      <td>0.212935</td>\n",
       "      <td>0.176705</td>\n",
       "      <td>0.298646</td>\n",
       "      <td>0.165760</td>\n",
       "      <td>0.313076</td>\n",
       "      <td>0.113726</td>\n",
       "    </tr>\n",
       "    <tr>\n",
       "      <th>No of Bedrooms</th>\n",
       "      <td>0.339407</td>\n",
       "      <td>1.000000</td>\n",
       "      <td>0.515813</td>\n",
       "      <td>0.576628</td>\n",
       "      <td>0.031692</td>\n",
       "      <td>0.175536</td>\n",
       "      <td>0.079575</td>\n",
       "      <td>0.349223</td>\n",
       "      <td>0.477549</td>\n",
       "      <td>0.303294</td>\n",
       "      <td>...</td>\n",
       "      <td>0.018573</td>\n",
       "      <td>-0.010603</td>\n",
       "      <td>-0.039342</td>\n",
       "      <td>-0.074129</td>\n",
       "      <td>0.024433</td>\n",
       "      <td>0.019420</td>\n",
       "      <td>0.090177</td>\n",
       "      <td>0.016725</td>\n",
       "      <td>0.102736</td>\n",
       "      <td>0.035694</td>\n",
       "    </tr>\n",
       "    <tr>\n",
       "      <th>No of Bathrooms</th>\n",
       "      <td>0.535124</td>\n",
       "      <td>0.515813</td>\n",
       "      <td>1.000000</td>\n",
       "      <td>0.754568</td>\n",
       "      <td>0.087732</td>\n",
       "      <td>0.500776</td>\n",
       "      <td>0.187791</td>\n",
       "      <td>0.635638</td>\n",
       "      <td>0.685088</td>\n",
       "      <td>0.283798</td>\n",
       "      <td>...</td>\n",
       "      <td>0.050282</td>\n",
       "      <td>-0.032810</td>\n",
       "      <td>-0.081460</td>\n",
       "      <td>-0.034459</td>\n",
       "      <td>0.084054</td>\n",
       "      <td>0.052804</td>\n",
       "      <td>0.123256</td>\n",
       "      <td>0.037746</td>\n",
       "      <td>0.110012</td>\n",
       "      <td>0.067871</td>\n",
       "    </tr>\n",
       "    <tr>\n",
       "      <th>Flat Area (in Sqft)</th>\n",
       "      <td>0.695170</td>\n",
       "      <td>0.576628</td>\n",
       "      <td>0.754568</td>\n",
       "      <td>1.000000</td>\n",
       "      <td>0.172721</td>\n",
       "      <td>0.354142</td>\n",
       "      <td>0.284678</td>\n",
       "      <td>0.705725</td>\n",
       "      <td>0.876226</td>\n",
       "      <td>0.435142</td>\n",
       "      <td>...</td>\n",
       "      <td>0.055111</td>\n",
       "      <td>-0.058817</td>\n",
       "      <td>-0.063005</td>\n",
       "      <td>-0.078761</td>\n",
       "      <td>0.086139</td>\n",
       "      <td>0.075978</td>\n",
       "      <td>0.160045</td>\n",
       "      <td>0.051211</td>\n",
       "      <td>0.169576</td>\n",
       "      <td>0.090253</td>\n",
       "    </tr>\n",
       "    <tr>\n",
       "      <th>Lot Area (in Sqft)</th>\n",
       "      <td>0.101319</td>\n",
       "      <td>0.031692</td>\n",
       "      <td>0.087732</td>\n",
       "      <td>0.172721</td>\n",
       "      <td>1.000000</td>\n",
       "      <td>-0.005162</td>\n",
       "      <td>0.074668</td>\n",
       "      <td>0.102314</td>\n",
       "      <td>0.183492</td>\n",
       "      <td>0.015252</td>\n",
       "      <td>...</td>\n",
       "      <td>0.007736</td>\n",
       "      <td>0.023684</td>\n",
       "      <td>0.052103</td>\n",
       "      <td>-0.041112</td>\n",
       "      <td>-0.012050</td>\n",
       "      <td>0.015320</td>\n",
       "      <td>-0.023270</td>\n",
       "      <td>-0.027419</td>\n",
       "      <td>-0.007025</td>\n",
       "      <td>0.002671</td>\n",
       "    </tr>\n",
       "    <tr>\n",
       "      <th>No of Floors</th>\n",
       "      <td>0.298913</td>\n",
       "      <td>0.175536</td>\n",
       "      <td>0.500776</td>\n",
       "      <td>0.354142</td>\n",
       "      <td>-0.005162</td>\n",
       "      <td>1.000000</td>\n",
       "      <td>0.029504</td>\n",
       "      <td>0.461368</td>\n",
       "      <td>0.524031</td>\n",
       "      <td>-0.245572</td>\n",
       "      <td>...</td>\n",
       "      <td>0.006297</td>\n",
       "      <td>-0.003385</td>\n",
       "      <td>-0.067904</td>\n",
       "      <td>0.079211</td>\n",
       "      <td>0.071786</td>\n",
       "      <td>0.009203</td>\n",
       "      <td>0.069857</td>\n",
       "      <td>0.064981</td>\n",
       "      <td>-0.008633</td>\n",
       "      <td>0.005868</td>\n",
       "    </tr>\n",
       "    <tr>\n",
       "      <th>No of Times Visited</th>\n",
       "      <td>0.356114</td>\n",
       "      <td>0.079575</td>\n",
       "      <td>0.187791</td>\n",
       "      <td>0.284678</td>\n",
       "      <td>0.074668</td>\n",
       "      <td>0.029504</td>\n",
       "      <td>1.000000</td>\n",
       "      <td>0.223661</td>\n",
       "      <td>0.167812</td>\n",
       "      <td>0.276974</td>\n",
       "      <td>...</td>\n",
       "      <td>0.104051</td>\n",
       "      <td>-0.065000</td>\n",
       "      <td>0.004754</td>\n",
       "      <td>0.005905</td>\n",
       "      <td>0.003509</td>\n",
       "      <td>0.024801</td>\n",
       "      <td>0.068144</td>\n",
       "      <td>-0.012548</td>\n",
       "      <td>0.065335</td>\n",
       "      <td>0.012923</td>\n",
       "    </tr>\n",
       "    <tr>\n",
       "      <th>Overall Grade</th>\n",
       "      <td>0.680914</td>\n",
       "      <td>0.349223</td>\n",
       "      <td>0.635638</td>\n",
       "      <td>0.705725</td>\n",
       "      <td>0.102314</td>\n",
       "      <td>0.461368</td>\n",
       "      <td>0.223661</td>\n",
       "      <td>1.000000</td>\n",
       "      <td>0.705153</td>\n",
       "      <td>0.145232</td>\n",
       "      <td>...</td>\n",
       "      <td>0.010010</td>\n",
       "      <td>-0.075495</td>\n",
       "      <td>-0.121379</td>\n",
       "      <td>-0.047869</td>\n",
       "      <td>0.151245</td>\n",
       "      <td>0.095613</td>\n",
       "      <td>0.200548</td>\n",
       "      <td>0.077126</td>\n",
       "      <td>0.156952</td>\n",
       "      <td>0.048638</td>\n",
       "    </tr>\n",
       "    <tr>\n",
       "      <th>Area of the House from Basement (in Sqft)</th>\n",
       "      <td>0.606527</td>\n",
       "      <td>0.477549</td>\n",
       "      <td>0.685088</td>\n",
       "      <td>0.876226</td>\n",
       "      <td>0.183492</td>\n",
       "      <td>0.524031</td>\n",
       "      <td>0.167812</td>\n",
       "      <td>0.705153</td>\n",
       "      <td>1.000000</td>\n",
       "      <td>-0.051825</td>\n",
       "      <td>...</td>\n",
       "      <td>0.023202</td>\n",
       "      <td>-0.028348</td>\n",
       "      <td>-0.052418</td>\n",
       "      <td>-0.090628</td>\n",
       "      <td>0.086640</td>\n",
       "      <td>0.062267</td>\n",
       "      <td>0.129310</td>\n",
       "      <td>0.029477</td>\n",
       "      <td>0.134021</td>\n",
       "      <td>0.087398</td>\n",
       "    </tr>\n",
       "    <tr>\n",
       "      <th>Basement Area (in Sqft)</th>\n",
       "      <td>0.307513</td>\n",
       "      <td>0.303294</td>\n",
       "      <td>0.283798</td>\n",
       "      <td>0.435142</td>\n",
       "      <td>0.015252</td>\n",
       "      <td>-0.245572</td>\n",
       "      <td>0.276974</td>\n",
       "      <td>0.145232</td>\n",
       "      <td>-0.051825</td>\n",
       "      <td>1.000000</td>\n",
       "      <td>...</td>\n",
       "      <td>0.070969</td>\n",
       "      <td>-0.069149</td>\n",
       "      <td>-0.032302</td>\n",
       "      <td>0.006247</td>\n",
       "      <td>0.016422</td>\n",
       "      <td>0.040662</td>\n",
       "      <td>0.090206</td>\n",
       "      <td>0.051128</td>\n",
       "      <td>0.101159</td>\n",
       "      <td>0.023775</td>\n",
       "    </tr>\n",
       "    <tr>\n",
       "      <th>Age of House (in Years)</th>\n",
       "      <td>-0.064306</td>\n",
       "      <td>-0.154113</td>\n",
       "      <td>-0.505954</td>\n",
       "      <td>-0.318146</td>\n",
       "      <td>-0.053119</td>\n",
       "      <td>-0.489244</td>\n",
       "      <td>0.053395</td>\n",
       "      <td>-0.456711</td>\n",
       "      <td>-0.423848</td>\n",
       "      <td>0.133072</td>\n",
       "      <td>...</td>\n",
       "      <td>0.225182</td>\n",
       "      <td>-0.070111</td>\n",
       "      <td>0.022094</td>\n",
       "      <td>0.095882</td>\n",
       "      <td>-0.056974</td>\n",
       "      <td>-0.009965</td>\n",
       "      <td>0.025718</td>\n",
       "      <td>0.101486</td>\n",
       "      <td>-0.002705</td>\n",
       "      <td>-0.002492</td>\n",
       "    </tr>\n",
       "    <tr>\n",
       "      <th>Latitude</th>\n",
       "      <td>0.402430</td>\n",
       "      <td>-0.008708</td>\n",
       "      <td>0.024570</td>\n",
       "      <td>0.052538</td>\n",
       "      <td>-0.085719</td>\n",
       "      <td>0.049692</td>\n",
       "      <td>0.006162</td>\n",
       "      <td>0.111226</td>\n",
       "      <td>-0.000819</td>\n",
       "      <td>0.110451</td>\n",
       "      <td>...</td>\n",
       "      <td>0.029357</td>\n",
       "      <td>-0.199187</td>\n",
       "      <td>0.120400</td>\n",
       "      <td>0.283760</td>\n",
       "      <td>0.249304</td>\n",
       "      <td>0.190199</td>\n",
       "      <td>0.090785</td>\n",
       "      <td>0.056373</td>\n",
       "      <td>0.036085</td>\n",
       "      <td>0.022867</td>\n",
       "    </tr>\n",
       "    <tr>\n",
       "      <th>Longitude</th>\n",
       "      <td>0.045401</td>\n",
       "      <td>0.129569</td>\n",
       "      <td>0.223171</td>\n",
       "      <td>0.240091</td>\n",
       "      <td>0.229449</td>\n",
       "      <td>0.125620</td>\n",
       "      <td>-0.078453</td>\n",
       "      <td>0.201736</td>\n",
       "      <td>0.343793</td>\n",
       "      <td>-0.144822</td>\n",
       "      <td>...</td>\n",
       "      <td>-0.068416</td>\n",
       "      <td>0.032913</td>\n",
       "      <td>0.024489</td>\n",
       "      <td>-0.117243</td>\n",
       "      <td>0.174136</td>\n",
       "      <td>-0.027225</td>\n",
       "      <td>0.045875</td>\n",
       "      <td>-0.066961</td>\n",
       "      <td>-0.001103</td>\n",
       "      <td>-0.006725</td>\n",
       "    </tr>\n",
       "    <tr>\n",
       "      <th>Living Area after Renovation (in Sqft)</th>\n",
       "      <td>0.629944</td>\n",
       "      <td>0.391771</td>\n",
       "      <td>0.568568</td>\n",
       "      <td>0.756185</td>\n",
       "      <td>0.144507</td>\n",
       "      <td>0.280106</td>\n",
       "      <td>0.280452</td>\n",
       "      <td>0.681362</td>\n",
       "      <td>0.731996</td>\n",
       "      <td>0.200302</td>\n",
       "      <td>...</td>\n",
       "      <td>-0.002756</td>\n",
       "      <td>-0.064207</td>\n",
       "      <td>-0.082698</td>\n",
       "      <td>-0.108365</td>\n",
       "      <td>0.108457</td>\n",
       "      <td>0.084243</td>\n",
       "      <td>0.210982</td>\n",
       "      <td>0.048081</td>\n",
       "      <td>0.195508</td>\n",
       "      <td>0.080495</td>\n",
       "    </tr>\n",
       "    <tr>\n",
       "      <th>Lot Area after Renovation (in Sqft)</th>\n",
       "      <td>0.092325</td>\n",
       "      <td>0.029264</td>\n",
       "      <td>0.087226</td>\n",
       "      <td>0.183223</td>\n",
       "      <td>0.718527</td>\n",
       "      <td>-0.011204</td>\n",
       "      <td>0.072561</td>\n",
       "      <td>0.107581</td>\n",
       "      <td>0.194106</td>\n",
       "      <td>0.017263</td>\n",
       "      <td>...</td>\n",
       "      <td>0.007910</td>\n",
       "      <td>0.028096</td>\n",
       "      <td>0.065514</td>\n",
       "      <td>-0.056258</td>\n",
       "      <td>-0.006145</td>\n",
       "      <td>0.023794</td>\n",
       "      <td>-0.025459</td>\n",
       "      <td>-0.032366</td>\n",
       "      <td>0.000207</td>\n",
       "      <td>0.007974</td>\n",
       "    </tr>\n",
       "    <tr>\n",
       "      <th>years Since Renovation</th>\n",
       "      <td>0.065907</td>\n",
       "      <td>-0.007198</td>\n",
       "      <td>0.003551</td>\n",
       "      <td>0.023503</td>\n",
       "      <td>0.013835</td>\n",
       "      <td>-0.000901</td>\n",
       "      <td>0.093546</td>\n",
       "      <td>-0.024388</td>\n",
       "      <td>0.010491</td>\n",
       "      <td>0.029158</td>\n",
       "      <td>...</td>\n",
       "      <td>0.796854</td>\n",
       "      <td>-0.006039</td>\n",
       "      <td>0.004376</td>\n",
       "      <td>0.004296</td>\n",
       "      <td>-0.008853</td>\n",
       "      <td>0.009024</td>\n",
       "      <td>-0.003087</td>\n",
       "      <td>0.019224</td>\n",
       "      <td>0.038785</td>\n",
       "      <td>0.034990</td>\n",
       "    </tr>\n",
       "    <tr>\n",
       "      <th>Condition_of_the_House_Excellent</th>\n",
       "      <td>0.065995</td>\n",
       "      <td>0.028148</td>\n",
       "      <td>-0.034281</td>\n",
       "      <td>-0.018182</td>\n",
       "      <td>-0.014503</td>\n",
       "      <td>-0.120524</td>\n",
       "      <td>0.034392</td>\n",
       "      <td>-0.082628</td>\n",
       "      <td>-0.088424</td>\n",
       "      <td>0.127876</td>\n",
       "      <td>...</td>\n",
       "      <td>-0.029839</td>\n",
       "      <td>-0.017665</td>\n",
       "      <td>0.020271</td>\n",
       "      <td>0.015100</td>\n",
       "      <td>-0.026260</td>\n",
       "      <td>0.012134</td>\n",
       "      <td>0.029723</td>\n",
       "      <td>0.029176</td>\n",
       "      <td>0.013449</td>\n",
       "      <td>-0.006924</td>\n",
       "    </tr>\n",
       "    <tr>\n",
       "      <th>Condition_of_the_House_Fair</th>\n",
       "      <td>0.012814</td>\n",
       "      <td>0.004778</td>\n",
       "      <td>0.190440</td>\n",
       "      <td>0.102627</td>\n",
       "      <td>-0.011334</td>\n",
       "      <td>0.317934</td>\n",
       "      <td>-0.037127</td>\n",
       "      <td>0.197510</td>\n",
       "      <td>0.194517</td>\n",
       "      <td>-0.151347</td>\n",
       "      <td>...</td>\n",
       "      <td>0.068731</td>\n",
       "      <td>0.021545</td>\n",
       "      <td>0.007924</td>\n",
       "      <td>0.018732</td>\n",
       "      <td>0.046346</td>\n",
       "      <td>-0.014101</td>\n",
       "      <td>-0.030814</td>\n",
       "      <td>-0.010169</td>\n",
       "      <td>-0.069614</td>\n",
       "      <td>-0.008999</td>\n",
       "    </tr>\n",
       "    <tr>\n",
       "      <th>Condition_of_the_House_Good</th>\n",
       "      <td>-0.037922</td>\n",
       "      <td>-0.008847</td>\n",
       "      <td>-0.166037</td>\n",
       "      <td>-0.083995</td>\n",
       "      <td>0.013033</td>\n",
       "      <td>-0.257680</td>\n",
       "      <td>0.022690</td>\n",
       "      <td>-0.140113</td>\n",
       "      <td>-0.142458</td>\n",
       "      <td>0.092539</td>\n",
       "      <td>...</td>\n",
       "      <td>-0.054416</td>\n",
       "      <td>-0.013193</td>\n",
       "      <td>-0.026880</td>\n",
       "      <td>-0.027416</td>\n",
       "      <td>-0.030755</td>\n",
       "      <td>0.009844</td>\n",
       "      <td>0.018961</td>\n",
       "      <td>-0.007285</td>\n",
       "      <td>0.068277</td>\n",
       "      <td>0.015016</td>\n",
       "    </tr>\n",
       "    <tr>\n",
       "      <th>Condition_of_the_House_Okay</th>\n",
       "      <td>-0.069146</td>\n",
       "      <td>-0.051957</td>\n",
       "      <td>-0.077419</td>\n",
       "      <td>-0.065334</td>\n",
       "      <td>0.037619</td>\n",
       "      <td>-0.055951</td>\n",
       "      <td>-0.018557</td>\n",
       "      <td>-0.090561</td>\n",
       "      <td>-0.058931</td>\n",
       "      <td>-0.025312</td>\n",
       "      <td>...</td>\n",
       "      <td>-0.008474</td>\n",
       "      <td>0.005311</td>\n",
       "      <td>0.030027</td>\n",
       "      <td>-0.011312</td>\n",
       "      <td>-0.018857</td>\n",
       "      <td>-0.009000</td>\n",
       "      <td>-0.017932</td>\n",
       "      <td>-0.000663</td>\n",
       "      <td>-0.005608</td>\n",
       "      <td>-0.004314</td>\n",
       "    </tr>\n",
       "    <tr>\n",
       "      <th>Waterfront_View_Yes</th>\n",
       "      <td>0.155894</td>\n",
       "      <td>-0.006578</td>\n",
       "      <td>0.063761</td>\n",
       "      <td>0.103841</td>\n",
       "      <td>0.021605</td>\n",
       "      <td>0.023719</td>\n",
       "      <td>0.401856</td>\n",
       "      <td>0.070332</td>\n",
       "      <td>0.072099</td>\n",
       "      <td>0.080595</td>\n",
       "      <td>...</td>\n",
       "      <td>0.093291</td>\n",
       "      <td>-0.016847</td>\n",
       "      <td>0.039995</td>\n",
       "      <td>-0.017093</td>\n",
       "      <td>-0.010197</td>\n",
       "      <td>-0.005600</td>\n",
       "      <td>0.009136</td>\n",
       "      <td>-0.009788</td>\n",
       "      <td>0.027633</td>\n",
       "      <td>0.006933</td>\n",
       "    </tr>\n",
       "    <tr>\n",
       "      <th>Ever_Renovated_Yes</th>\n",
       "      <td>0.121617</td>\n",
       "      <td>0.018573</td>\n",
       "      <td>0.050282</td>\n",
       "      <td>0.055111</td>\n",
       "      <td>0.007736</td>\n",
       "      <td>0.006297</td>\n",
       "      <td>0.104051</td>\n",
       "      <td>0.010010</td>\n",
       "      <td>0.023202</td>\n",
       "      <td>0.070969</td>\n",
       "      <td>...</td>\n",
       "      <td>1.000000</td>\n",
       "      <td>-0.014726</td>\n",
       "      <td>0.000938</td>\n",
       "      <td>0.005909</td>\n",
       "      <td>-0.004500</td>\n",
       "      <td>0.011170</td>\n",
       "      <td>0.007896</td>\n",
       "      <td>0.038617</td>\n",
       "      <td>0.056952</td>\n",
       "      <td>0.037735</td>\n",
       "    </tr>\n",
       "    <tr>\n",
       "      <th>Zipcode_Group_Zipcode_Group_1</th>\n",
       "      <td>-0.210509</td>\n",
       "      <td>-0.010603</td>\n",
       "      <td>-0.032810</td>\n",
       "      <td>-0.058817</td>\n",
       "      <td>0.023684</td>\n",
       "      <td>-0.003385</td>\n",
       "      <td>-0.065000</td>\n",
       "      <td>-0.075495</td>\n",
       "      <td>-0.028348</td>\n",
       "      <td>-0.069149</td>\n",
       "      <td>...</td>\n",
       "      <td>-0.014726</td>\n",
       "      <td>1.000000</td>\n",
       "      <td>-0.168987</td>\n",
       "      <td>-0.147062</td>\n",
       "      <td>-0.167913</td>\n",
       "      <td>-0.075033</td>\n",
       "      <td>-0.100838</td>\n",
       "      <td>-0.039350</td>\n",
       "      <td>-0.059179</td>\n",
       "      <td>-0.016879</td>\n",
       "    </tr>\n",
       "    <tr>\n",
       "      <th>Zipcode_Group_Zipcode_Group_2</th>\n",
       "      <td>-0.136147</td>\n",
       "      <td>-0.039342</td>\n",
       "      <td>-0.081460</td>\n",
       "      <td>-0.063005</td>\n",
       "      <td>0.052103</td>\n",
       "      <td>-0.067904</td>\n",
       "      <td>0.004754</td>\n",
       "      <td>-0.121379</td>\n",
       "      <td>-0.052418</td>\n",
       "      <td>-0.032302</td>\n",
       "      <td>...</td>\n",
       "      <td>0.000938</td>\n",
       "      <td>-0.168987</td>\n",
       "      <td>1.000000</td>\n",
       "      <td>-0.202313</td>\n",
       "      <td>-0.230999</td>\n",
       "      <td>-0.103223</td>\n",
       "      <td>-0.138722</td>\n",
       "      <td>-0.054134</td>\n",
       "      <td>-0.081412</td>\n",
       "      <td>-0.023220</td>\n",
       "    </tr>\n",
       "    <tr>\n",
       "      <th>Zipcode_Group_Zipcode_Group_3</th>\n",
       "      <td>0.064580</td>\n",
       "      <td>-0.074129</td>\n",
       "      <td>-0.034459</td>\n",
       "      <td>-0.078761</td>\n",
       "      <td>-0.041112</td>\n",
       "      <td>0.079211</td>\n",
       "      <td>0.005905</td>\n",
       "      <td>-0.047869</td>\n",
       "      <td>-0.090628</td>\n",
       "      <td>0.006247</td>\n",
       "      <td>...</td>\n",
       "      <td>0.005909</td>\n",
       "      <td>-0.147062</td>\n",
       "      <td>-0.202313</td>\n",
       "      <td>1.000000</td>\n",
       "      <td>-0.201028</td>\n",
       "      <td>-0.089831</td>\n",
       "      <td>-0.120724</td>\n",
       "      <td>-0.047110</td>\n",
       "      <td>-0.070849</td>\n",
       "      <td>-0.020207</td>\n",
       "    </tr>\n",
       "    <tr>\n",
       "      <th>Zipcode_Group_Zipcode_Group_4</th>\n",
       "      <td>0.212935</td>\n",
       "      <td>0.024433</td>\n",
       "      <td>0.084054</td>\n",
       "      <td>0.086139</td>\n",
       "      <td>-0.012050</td>\n",
       "      <td>0.071786</td>\n",
       "      <td>0.003509</td>\n",
       "      <td>0.151245</td>\n",
       "      <td>0.086640</td>\n",
       "      <td>0.016422</td>\n",
       "      <td>...</td>\n",
       "      <td>-0.004500</td>\n",
       "      <td>-0.167913</td>\n",
       "      <td>-0.230999</td>\n",
       "      <td>-0.201028</td>\n",
       "      <td>1.000000</td>\n",
       "      <td>-0.102567</td>\n",
       "      <td>-0.137841</td>\n",
       "      <td>-0.053790</td>\n",
       "      <td>-0.080895</td>\n",
       "      <td>-0.023072</td>\n",
       "    </tr>\n",
       "    <tr>\n",
       "      <th>Zipcode_Group_Zipcode_Group_5</th>\n",
       "      <td>0.176705</td>\n",
       "      <td>0.019420</td>\n",
       "      <td>0.052804</td>\n",
       "      <td>0.075978</td>\n",
       "      <td>0.015320</td>\n",
       "      <td>0.009203</td>\n",
       "      <td>0.024801</td>\n",
       "      <td>0.095613</td>\n",
       "      <td>0.062267</td>\n",
       "      <td>0.040662</td>\n",
       "      <td>...</td>\n",
       "      <td>0.011170</td>\n",
       "      <td>-0.075033</td>\n",
       "      <td>-0.103223</td>\n",
       "      <td>-0.089831</td>\n",
       "      <td>-0.102567</td>\n",
       "      <td>1.000000</td>\n",
       "      <td>-0.061595</td>\n",
       "      <td>-0.024036</td>\n",
       "      <td>-0.036148</td>\n",
       "      <td>-0.010310</td>\n",
       "    </tr>\n",
       "    <tr>\n",
       "      <th>Zipcode_Group_Zipcode_Group_6</th>\n",
       "      <td>0.298646</td>\n",
       "      <td>0.090177</td>\n",
       "      <td>0.123256</td>\n",
       "      <td>0.160045</td>\n",
       "      <td>-0.023270</td>\n",
       "      <td>0.069857</td>\n",
       "      <td>0.068144</td>\n",
       "      <td>0.200548</td>\n",
       "      <td>0.129310</td>\n",
       "      <td>0.090206</td>\n",
       "      <td>...</td>\n",
       "      <td>0.007896</td>\n",
       "      <td>-0.100838</td>\n",
       "      <td>-0.138722</td>\n",
       "      <td>-0.120724</td>\n",
       "      <td>-0.137841</td>\n",
       "      <td>-0.061595</td>\n",
       "      <td>1.000000</td>\n",
       "      <td>-0.032303</td>\n",
       "      <td>-0.048580</td>\n",
       "      <td>-0.013856</td>\n",
       "    </tr>\n",
       "    <tr>\n",
       "      <th>Zipcode_Group_Zipcode_Group_7</th>\n",
       "      <td>0.165760</td>\n",
       "      <td>0.016725</td>\n",
       "      <td>0.037746</td>\n",
       "      <td>0.051211</td>\n",
       "      <td>-0.027419</td>\n",
       "      <td>0.064981</td>\n",
       "      <td>-0.012548</td>\n",
       "      <td>0.077126</td>\n",
       "      <td>0.029477</td>\n",
       "      <td>0.051128</td>\n",
       "      <td>...</td>\n",
       "      <td>0.038617</td>\n",
       "      <td>-0.039350</td>\n",
       "      <td>-0.054134</td>\n",
       "      <td>-0.047110</td>\n",
       "      <td>-0.053790</td>\n",
       "      <td>-0.024036</td>\n",
       "      <td>-0.032303</td>\n",
       "      <td>1.000000</td>\n",
       "      <td>-0.018957</td>\n",
       "      <td>-0.005407</td>\n",
       "    </tr>\n",
       "    <tr>\n",
       "      <th>Zipcode_Group_Zipcode_Group_8</th>\n",
       "      <td>0.313076</td>\n",
       "      <td>0.102736</td>\n",
       "      <td>0.110012</td>\n",
       "      <td>0.169576</td>\n",
       "      <td>-0.007025</td>\n",
       "      <td>-0.008633</td>\n",
       "      <td>0.065335</td>\n",
       "      <td>0.156952</td>\n",
       "      <td>0.134021</td>\n",
       "      <td>0.101159</td>\n",
       "      <td>...</td>\n",
       "      <td>0.056952</td>\n",
       "      <td>-0.059179</td>\n",
       "      <td>-0.081412</td>\n",
       "      <td>-0.070849</td>\n",
       "      <td>-0.080895</td>\n",
       "      <td>-0.036148</td>\n",
       "      <td>-0.048580</td>\n",
       "      <td>-0.018957</td>\n",
       "      <td>1.000000</td>\n",
       "      <td>-0.008132</td>\n",
       "    </tr>\n",
       "    <tr>\n",
       "      <th>Zipcode_Group_Zipcode_Group_9</th>\n",
       "      <td>0.113726</td>\n",
       "      <td>0.035694</td>\n",
       "      <td>0.067871</td>\n",
       "      <td>0.090253</td>\n",
       "      <td>0.002671</td>\n",
       "      <td>0.005868</td>\n",
       "      <td>0.012923</td>\n",
       "      <td>0.048638</td>\n",
       "      <td>0.087398</td>\n",
       "      <td>0.023775</td>\n",
       "      <td>...</td>\n",
       "      <td>0.037735</td>\n",
       "      <td>-0.016879</td>\n",
       "      <td>-0.023220</td>\n",
       "      <td>-0.020207</td>\n",
       "      <td>-0.023072</td>\n",
       "      <td>-0.010310</td>\n",
       "      <td>-0.013856</td>\n",
       "      <td>-0.005407</td>\n",
       "      <td>-0.008132</td>\n",
       "      <td>1.000000</td>\n",
       "    </tr>\n",
       "  </tbody>\n",
       "</table>\n",
       "<p>31 rows × 31 columns</p>\n",
       "</div>"
      ],
      "text/plain": [
       "                                           Sale_Price  No of Bedrooms  \\\n",
       "Sale_Price                                   1.000000        0.339407   \n",
       "No of Bedrooms                               0.339407        1.000000   \n",
       "No of Bathrooms                              0.535124        0.515813   \n",
       "Flat Area (in Sqft)                          0.695170        0.576628   \n",
       "Lot Area (in Sqft)                           0.101319        0.031692   \n",
       "No of Floors                                 0.298913        0.175536   \n",
       "No of Times Visited                          0.356114        0.079575   \n",
       "Overall Grade                                0.680914        0.349223   \n",
       "Area of the House from Basement (in Sqft)    0.606527        0.477549   \n",
       "Basement Area (in Sqft)                      0.307513        0.303294   \n",
       "Age of House (in Years)                     -0.064306       -0.154113   \n",
       "Latitude                                     0.402430       -0.008708   \n",
       "Longitude                                    0.045401        0.129569   \n",
       "Living Area after Renovation (in Sqft)       0.629944        0.391771   \n",
       "Lot Area after Renovation (in Sqft)          0.092325        0.029264   \n",
       "years Since Renovation                       0.065907       -0.007198   \n",
       "Condition_of_the_House_Excellent             0.065995        0.028148   \n",
       "Condition_of_the_House_Fair                  0.012814        0.004778   \n",
       "Condition_of_the_House_Good                 -0.037922       -0.008847   \n",
       "Condition_of_the_House_Okay                 -0.069146       -0.051957   \n",
       "Waterfront_View_Yes                          0.155894       -0.006578   \n",
       "Ever_Renovated_Yes                           0.121617        0.018573   \n",
       "Zipcode_Group_Zipcode_Group_1               -0.210509       -0.010603   \n",
       "Zipcode_Group_Zipcode_Group_2               -0.136147       -0.039342   \n",
       "Zipcode_Group_Zipcode_Group_3                0.064580       -0.074129   \n",
       "Zipcode_Group_Zipcode_Group_4                0.212935        0.024433   \n",
       "Zipcode_Group_Zipcode_Group_5                0.176705        0.019420   \n",
       "Zipcode_Group_Zipcode_Group_6                0.298646        0.090177   \n",
       "Zipcode_Group_Zipcode_Group_7                0.165760        0.016725   \n",
       "Zipcode_Group_Zipcode_Group_8                0.313076        0.102736   \n",
       "Zipcode_Group_Zipcode_Group_9                0.113726        0.035694   \n",
       "\n",
       "                                           No of Bathrooms  \\\n",
       "Sale_Price                                        0.535124   \n",
       "No of Bedrooms                                    0.515813   \n",
       "No of Bathrooms                                   1.000000   \n",
       "Flat Area (in Sqft)                               0.754568   \n",
       "Lot Area (in Sqft)                                0.087732   \n",
       "No of Floors                                      0.500776   \n",
       "No of Times Visited                               0.187791   \n",
       "Overall Grade                                     0.635638   \n",
       "Area of the House from Basement (in Sqft)         0.685088   \n",
       "Basement Area (in Sqft)                           0.283798   \n",
       "Age of House (in Years)                          -0.505954   \n",
       "Latitude                                          0.024570   \n",
       "Longitude                                         0.223171   \n",
       "Living Area after Renovation (in Sqft)            0.568568   \n",
       "Lot Area after Renovation (in Sqft)               0.087226   \n",
       "years Since Renovation                            0.003551   \n",
       "Condition_of_the_House_Excellent                 -0.034281   \n",
       "Condition_of_the_House_Fair                       0.190440   \n",
       "Condition_of_the_House_Good                      -0.166037   \n",
       "Condition_of_the_House_Okay                      -0.077419   \n",
       "Waterfront_View_Yes                               0.063761   \n",
       "Ever_Renovated_Yes                                0.050282   \n",
       "Zipcode_Group_Zipcode_Group_1                    -0.032810   \n",
       "Zipcode_Group_Zipcode_Group_2                    -0.081460   \n",
       "Zipcode_Group_Zipcode_Group_3                    -0.034459   \n",
       "Zipcode_Group_Zipcode_Group_4                     0.084054   \n",
       "Zipcode_Group_Zipcode_Group_5                     0.052804   \n",
       "Zipcode_Group_Zipcode_Group_6                     0.123256   \n",
       "Zipcode_Group_Zipcode_Group_7                     0.037746   \n",
       "Zipcode_Group_Zipcode_Group_8                     0.110012   \n",
       "Zipcode_Group_Zipcode_Group_9                     0.067871   \n",
       "\n",
       "                                           Flat Area (in Sqft)  \\\n",
       "Sale_Price                                            0.695170   \n",
       "No of Bedrooms                                        0.576628   \n",
       "No of Bathrooms                                       0.754568   \n",
       "Flat Area (in Sqft)                                   1.000000   \n",
       "Lot Area (in Sqft)                                    0.172721   \n",
       "No of Floors                                          0.354142   \n",
       "No of Times Visited                                   0.284678   \n",
       "Overall Grade                                         0.705725   \n",
       "Area of the House from Basement (in Sqft)             0.876226   \n",
       "Basement Area (in Sqft)                               0.435142   \n",
       "Age of House (in Years)                              -0.318146   \n",
       "Latitude                                              0.052538   \n",
       "Longitude                                             0.240091   \n",
       "Living Area after Renovation (in Sqft)                0.756185   \n",
       "Lot Area after Renovation (in Sqft)                   0.183223   \n",
       "years Since Renovation                                0.023503   \n",
       "Condition_of_the_House_Excellent                     -0.018182   \n",
       "Condition_of_the_House_Fair                           0.102627   \n",
       "Condition_of_the_House_Good                          -0.083995   \n",
       "Condition_of_the_House_Okay                          -0.065334   \n",
       "Waterfront_View_Yes                                   0.103841   \n",
       "Ever_Renovated_Yes                                    0.055111   \n",
       "Zipcode_Group_Zipcode_Group_1                        -0.058817   \n",
       "Zipcode_Group_Zipcode_Group_2                        -0.063005   \n",
       "Zipcode_Group_Zipcode_Group_3                        -0.078761   \n",
       "Zipcode_Group_Zipcode_Group_4                         0.086139   \n",
       "Zipcode_Group_Zipcode_Group_5                         0.075978   \n",
       "Zipcode_Group_Zipcode_Group_6                         0.160045   \n",
       "Zipcode_Group_Zipcode_Group_7                         0.051211   \n",
       "Zipcode_Group_Zipcode_Group_8                         0.169576   \n",
       "Zipcode_Group_Zipcode_Group_9                         0.090253   \n",
       "\n",
       "                                           Lot Area (in Sqft)  No of Floors  \\\n",
       "Sale_Price                                           0.101319      0.298913   \n",
       "No of Bedrooms                                       0.031692      0.175536   \n",
       "No of Bathrooms                                      0.087732      0.500776   \n",
       "Flat Area (in Sqft)                                  0.172721      0.354142   \n",
       "Lot Area (in Sqft)                                   1.000000     -0.005162   \n",
       "No of Floors                                        -0.005162      1.000000   \n",
       "No of Times Visited                                  0.074668      0.029504   \n",
       "Overall Grade                                        0.102314      0.461368   \n",
       "Area of the House from Basement (in Sqft)            0.183492      0.524031   \n",
       "Basement Area (in Sqft)                              0.015252     -0.245572   \n",
       "Age of House (in Years)                             -0.053119     -0.489244   \n",
       "Latitude                                            -0.085719      0.049692   \n",
       "Longitude                                            0.229449      0.125620   \n",
       "Living Area after Renovation (in Sqft)               0.144507      0.280106   \n",
       "Lot Area after Renovation (in Sqft)                  0.718527     -0.011204   \n",
       "years Since Renovation                               0.013835     -0.000901   \n",
       "Condition_of_the_House_Excellent                    -0.014503     -0.120524   \n",
       "Condition_of_the_House_Fair                         -0.011334      0.317934   \n",
       "Condition_of_the_House_Good                          0.013033     -0.257680   \n",
       "Condition_of_the_House_Okay                          0.037619     -0.055951   \n",
       "Waterfront_View_Yes                                  0.021605      0.023719   \n",
       "Ever_Renovated_Yes                                   0.007736      0.006297   \n",
       "Zipcode_Group_Zipcode_Group_1                        0.023684     -0.003385   \n",
       "Zipcode_Group_Zipcode_Group_2                        0.052103     -0.067904   \n",
       "Zipcode_Group_Zipcode_Group_3                       -0.041112      0.079211   \n",
       "Zipcode_Group_Zipcode_Group_4                       -0.012050      0.071786   \n",
       "Zipcode_Group_Zipcode_Group_5                        0.015320      0.009203   \n",
       "Zipcode_Group_Zipcode_Group_6                       -0.023270      0.069857   \n",
       "Zipcode_Group_Zipcode_Group_7                       -0.027419      0.064981   \n",
       "Zipcode_Group_Zipcode_Group_8                       -0.007025     -0.008633   \n",
       "Zipcode_Group_Zipcode_Group_9                        0.002671      0.005868   \n",
       "\n",
       "                                           No of Times Visited  Overall Grade  \\\n",
       "Sale_Price                                            0.356114       0.680914   \n",
       "No of Bedrooms                                        0.079575       0.349223   \n",
       "No of Bathrooms                                       0.187791       0.635638   \n",
       "Flat Area (in Sqft)                                   0.284678       0.705725   \n",
       "Lot Area (in Sqft)                                    0.074668       0.102314   \n",
       "No of Floors                                          0.029504       0.461368   \n",
       "No of Times Visited                                   1.000000       0.223661   \n",
       "Overall Grade                                         0.223661       1.000000   \n",
       "Area of the House from Basement (in Sqft)             0.167812       0.705153   \n",
       "Basement Area (in Sqft)                               0.276974       0.145232   \n",
       "Age of House (in Years)                               0.053395      -0.456711   \n",
       "Latitude                                              0.006162       0.111226   \n",
       "Longitude                                            -0.078453       0.201736   \n",
       "Living Area after Renovation (in Sqft)                0.280452       0.681362   \n",
       "Lot Area after Renovation (in Sqft)                   0.072561       0.107581   \n",
       "years Since Renovation                                0.093546      -0.024388   \n",
       "Condition_of_the_House_Excellent                      0.034392      -0.082628   \n",
       "Condition_of_the_House_Fair                          -0.037127       0.197510   \n",
       "Condition_of_the_House_Good                           0.022690      -0.140113   \n",
       "Condition_of_the_House_Okay                          -0.018557      -0.090561   \n",
       "Waterfront_View_Yes                                   0.401856       0.070332   \n",
       "Ever_Renovated_Yes                                    0.104051       0.010010   \n",
       "Zipcode_Group_Zipcode_Group_1                        -0.065000      -0.075495   \n",
       "Zipcode_Group_Zipcode_Group_2                         0.004754      -0.121379   \n",
       "Zipcode_Group_Zipcode_Group_3                         0.005905      -0.047869   \n",
       "Zipcode_Group_Zipcode_Group_4                         0.003509       0.151245   \n",
       "Zipcode_Group_Zipcode_Group_5                         0.024801       0.095613   \n",
       "Zipcode_Group_Zipcode_Group_6                         0.068144       0.200548   \n",
       "Zipcode_Group_Zipcode_Group_7                        -0.012548       0.077126   \n",
       "Zipcode_Group_Zipcode_Group_8                         0.065335       0.156952   \n",
       "Zipcode_Group_Zipcode_Group_9                         0.012923       0.048638   \n",
       "\n",
       "                                           Area of the House from Basement (in Sqft)  \\\n",
       "Sale_Price                                                                  0.606527   \n",
       "No of Bedrooms                                                              0.477549   \n",
       "No of Bathrooms                                                             0.685088   \n",
       "Flat Area (in Sqft)                                                         0.876226   \n",
       "Lot Area (in Sqft)                                                          0.183492   \n",
       "No of Floors                                                                0.524031   \n",
       "No of Times Visited                                                         0.167812   \n",
       "Overall Grade                                                               0.705153   \n",
       "Area of the House from Basement (in Sqft)                                   1.000000   \n",
       "Basement Area (in Sqft)                                                    -0.051825   \n",
       "Age of House (in Years)                                                    -0.423848   \n",
       "Latitude                                                                   -0.000819   \n",
       "Longitude                                                                   0.343793   \n",
       "Living Area after Renovation (in Sqft)                                      0.731996   \n",
       "Lot Area after Renovation (in Sqft)                                         0.194106   \n",
       "years Since Renovation                                                      0.010491   \n",
       "Condition_of_the_House_Excellent                                           -0.088424   \n",
       "Condition_of_the_House_Fair                                                 0.194517   \n",
       "Condition_of_the_House_Good                                                -0.142458   \n",
       "Condition_of_the_House_Okay                                                -0.058931   \n",
       "Waterfront_View_Yes                                                         0.072099   \n",
       "Ever_Renovated_Yes                                                          0.023202   \n",
       "Zipcode_Group_Zipcode_Group_1                                              -0.028348   \n",
       "Zipcode_Group_Zipcode_Group_2                                              -0.052418   \n",
       "Zipcode_Group_Zipcode_Group_3                                              -0.090628   \n",
       "Zipcode_Group_Zipcode_Group_4                                               0.086640   \n",
       "Zipcode_Group_Zipcode_Group_5                                               0.062267   \n",
       "Zipcode_Group_Zipcode_Group_6                                               0.129310   \n",
       "Zipcode_Group_Zipcode_Group_7                                               0.029477   \n",
       "Zipcode_Group_Zipcode_Group_8                                               0.134021   \n",
       "Zipcode_Group_Zipcode_Group_9                                               0.087398   \n",
       "\n",
       "                                           Basement Area (in Sqft)  ...  \\\n",
       "Sale_Price                                                0.307513  ...   \n",
       "No of Bedrooms                                            0.303294  ...   \n",
       "No of Bathrooms                                           0.283798  ...   \n",
       "Flat Area (in Sqft)                                       0.435142  ...   \n",
       "Lot Area (in Sqft)                                        0.015252  ...   \n",
       "No of Floors                                             -0.245572  ...   \n",
       "No of Times Visited                                       0.276974  ...   \n",
       "Overall Grade                                             0.145232  ...   \n",
       "Area of the House from Basement (in Sqft)                -0.051825  ...   \n",
       "Basement Area (in Sqft)                                   1.000000  ...   \n",
       "Age of House (in Years)                                   0.133072  ...   \n",
       "Latitude                                                  0.110451  ...   \n",
       "Longitude                                                -0.144822  ...   \n",
       "Living Area after Renovation (in Sqft)                    0.200302  ...   \n",
       "Lot Area after Renovation (in Sqft)                       0.017263  ...   \n",
       "years Since Renovation                                    0.029158  ...   \n",
       "Condition_of_the_House_Excellent                          0.127876  ...   \n",
       "Condition_of_the_House_Fair                              -0.151347  ...   \n",
       "Condition_of_the_House_Good                               0.092539  ...   \n",
       "Condition_of_the_House_Okay                              -0.025312  ...   \n",
       "Waterfront_View_Yes                                       0.080595  ...   \n",
       "Ever_Renovated_Yes                                        0.070969  ...   \n",
       "Zipcode_Group_Zipcode_Group_1                            -0.069149  ...   \n",
       "Zipcode_Group_Zipcode_Group_2                            -0.032302  ...   \n",
       "Zipcode_Group_Zipcode_Group_3                             0.006247  ...   \n",
       "Zipcode_Group_Zipcode_Group_4                             0.016422  ...   \n",
       "Zipcode_Group_Zipcode_Group_5                             0.040662  ...   \n",
       "Zipcode_Group_Zipcode_Group_6                             0.090206  ...   \n",
       "Zipcode_Group_Zipcode_Group_7                             0.051128  ...   \n",
       "Zipcode_Group_Zipcode_Group_8                             0.101159  ...   \n",
       "Zipcode_Group_Zipcode_Group_9                             0.023775  ...   \n",
       "\n",
       "                                           Ever_Renovated_Yes  \\\n",
       "Sale_Price                                           0.121617   \n",
       "No of Bedrooms                                       0.018573   \n",
       "No of Bathrooms                                      0.050282   \n",
       "Flat Area (in Sqft)                                  0.055111   \n",
       "Lot Area (in Sqft)                                   0.007736   \n",
       "No of Floors                                         0.006297   \n",
       "No of Times Visited                                  0.104051   \n",
       "Overall Grade                                        0.010010   \n",
       "Area of the House from Basement (in Sqft)            0.023202   \n",
       "Basement Area (in Sqft)                              0.070969   \n",
       "Age of House (in Years)                              0.225182   \n",
       "Latitude                                             0.029357   \n",
       "Longitude                                           -0.068416   \n",
       "Living Area after Renovation (in Sqft)              -0.002756   \n",
       "Lot Area after Renovation (in Sqft)                  0.007910   \n",
       "years Since Renovation                               0.796854   \n",
       "Condition_of_the_House_Excellent                    -0.029839   \n",
       "Condition_of_the_House_Fair                          0.068731   \n",
       "Condition_of_the_House_Good                         -0.054416   \n",
       "Condition_of_the_House_Okay                         -0.008474   \n",
       "Waterfront_View_Yes                                  0.093291   \n",
       "Ever_Renovated_Yes                                   1.000000   \n",
       "Zipcode_Group_Zipcode_Group_1                       -0.014726   \n",
       "Zipcode_Group_Zipcode_Group_2                        0.000938   \n",
       "Zipcode_Group_Zipcode_Group_3                        0.005909   \n",
       "Zipcode_Group_Zipcode_Group_4                       -0.004500   \n",
       "Zipcode_Group_Zipcode_Group_5                        0.011170   \n",
       "Zipcode_Group_Zipcode_Group_6                        0.007896   \n",
       "Zipcode_Group_Zipcode_Group_7                        0.038617   \n",
       "Zipcode_Group_Zipcode_Group_8                        0.056952   \n",
       "Zipcode_Group_Zipcode_Group_9                        0.037735   \n",
       "\n",
       "                                           Zipcode_Group_Zipcode_Group_1  \\\n",
       "Sale_Price                                                     -0.210509   \n",
       "No of Bedrooms                                                 -0.010603   \n",
       "No of Bathrooms                                                -0.032810   \n",
       "Flat Area (in Sqft)                                            -0.058817   \n",
       "Lot Area (in Sqft)                                              0.023684   \n",
       "No of Floors                                                   -0.003385   \n",
       "No of Times Visited                                            -0.065000   \n",
       "Overall Grade                                                  -0.075495   \n",
       "Area of the House from Basement (in Sqft)                      -0.028348   \n",
       "Basement Area (in Sqft)                                        -0.069149   \n",
       "Age of House (in Years)                                        -0.070111   \n",
       "Latitude                                                       -0.199187   \n",
       "Longitude                                                       0.032913   \n",
       "Living Area after Renovation (in Sqft)                         -0.064207   \n",
       "Lot Area after Renovation (in Sqft)                             0.028096   \n",
       "years Since Renovation                                         -0.006039   \n",
       "Condition_of_the_House_Excellent                               -0.017665   \n",
       "Condition_of_the_House_Fair                                     0.021545   \n",
       "Condition_of_the_House_Good                                    -0.013193   \n",
       "Condition_of_the_House_Okay                                     0.005311   \n",
       "Waterfront_View_Yes                                            -0.016847   \n",
       "Ever_Renovated_Yes                                             -0.014726   \n",
       "Zipcode_Group_Zipcode_Group_1                                   1.000000   \n",
       "Zipcode_Group_Zipcode_Group_2                                  -0.168987   \n",
       "Zipcode_Group_Zipcode_Group_3                                  -0.147062   \n",
       "Zipcode_Group_Zipcode_Group_4                                  -0.167913   \n",
       "Zipcode_Group_Zipcode_Group_5                                  -0.075033   \n",
       "Zipcode_Group_Zipcode_Group_6                                  -0.100838   \n",
       "Zipcode_Group_Zipcode_Group_7                                  -0.039350   \n",
       "Zipcode_Group_Zipcode_Group_8                                  -0.059179   \n",
       "Zipcode_Group_Zipcode_Group_9                                  -0.016879   \n",
       "\n",
       "                                           Zipcode_Group_Zipcode_Group_2  \\\n",
       "Sale_Price                                                     -0.136147   \n",
       "No of Bedrooms                                                 -0.039342   \n",
       "No of Bathrooms                                                -0.081460   \n",
       "Flat Area (in Sqft)                                            -0.063005   \n",
       "Lot Area (in Sqft)                                              0.052103   \n",
       "No of Floors                                                   -0.067904   \n",
       "No of Times Visited                                             0.004754   \n",
       "Overall Grade                                                  -0.121379   \n",
       "Area of the House from Basement (in Sqft)                      -0.052418   \n",
       "Basement Area (in Sqft)                                        -0.032302   \n",
       "Age of House (in Years)                                         0.022094   \n",
       "Latitude                                                        0.120400   \n",
       "Longitude                                                       0.024489   \n",
       "Living Area after Renovation (in Sqft)                         -0.082698   \n",
       "Lot Area after Renovation (in Sqft)                             0.065514   \n",
       "years Since Renovation                                          0.004376   \n",
       "Condition_of_the_House_Excellent                                0.020271   \n",
       "Condition_of_the_House_Fair                                     0.007924   \n",
       "Condition_of_the_House_Good                                    -0.026880   \n",
       "Condition_of_the_House_Okay                                     0.030027   \n",
       "Waterfront_View_Yes                                             0.039995   \n",
       "Ever_Renovated_Yes                                              0.000938   \n",
       "Zipcode_Group_Zipcode_Group_1                                  -0.168987   \n",
       "Zipcode_Group_Zipcode_Group_2                                   1.000000   \n",
       "Zipcode_Group_Zipcode_Group_3                                  -0.202313   \n",
       "Zipcode_Group_Zipcode_Group_4                                  -0.230999   \n",
       "Zipcode_Group_Zipcode_Group_5                                  -0.103223   \n",
       "Zipcode_Group_Zipcode_Group_6                                  -0.138722   \n",
       "Zipcode_Group_Zipcode_Group_7                                  -0.054134   \n",
       "Zipcode_Group_Zipcode_Group_8                                  -0.081412   \n",
       "Zipcode_Group_Zipcode_Group_9                                  -0.023220   \n",
       "\n",
       "                                           Zipcode_Group_Zipcode_Group_3  \\\n",
       "Sale_Price                                                      0.064580   \n",
       "No of Bedrooms                                                 -0.074129   \n",
       "No of Bathrooms                                                -0.034459   \n",
       "Flat Area (in Sqft)                                            -0.078761   \n",
       "Lot Area (in Sqft)                                             -0.041112   \n",
       "No of Floors                                                    0.079211   \n",
       "No of Times Visited                                             0.005905   \n",
       "Overall Grade                                                  -0.047869   \n",
       "Area of the House from Basement (in Sqft)                      -0.090628   \n",
       "Basement Area (in Sqft)                                         0.006247   \n",
       "Age of House (in Years)                                         0.095882   \n",
       "Latitude                                                        0.283760   \n",
       "Longitude                                                      -0.117243   \n",
       "Living Area after Renovation (in Sqft)                         -0.108365   \n",
       "Lot Area after Renovation (in Sqft)                            -0.056258   \n",
       "years Since Renovation                                          0.004296   \n",
       "Condition_of_the_House_Excellent                                0.015100   \n",
       "Condition_of_the_House_Fair                                     0.018732   \n",
       "Condition_of_the_House_Good                                    -0.027416   \n",
       "Condition_of_the_House_Okay                                    -0.011312   \n",
       "Waterfront_View_Yes                                            -0.017093   \n",
       "Ever_Renovated_Yes                                              0.005909   \n",
       "Zipcode_Group_Zipcode_Group_1                                  -0.147062   \n",
       "Zipcode_Group_Zipcode_Group_2                                  -0.202313   \n",
       "Zipcode_Group_Zipcode_Group_3                                   1.000000   \n",
       "Zipcode_Group_Zipcode_Group_4                                  -0.201028   \n",
       "Zipcode_Group_Zipcode_Group_5                                  -0.089831   \n",
       "Zipcode_Group_Zipcode_Group_6                                  -0.120724   \n",
       "Zipcode_Group_Zipcode_Group_7                                  -0.047110   \n",
       "Zipcode_Group_Zipcode_Group_8                                  -0.070849   \n",
       "Zipcode_Group_Zipcode_Group_9                                  -0.020207   \n",
       "\n",
       "                                           Zipcode_Group_Zipcode_Group_4  \\\n",
       "Sale_Price                                                      0.212935   \n",
       "No of Bedrooms                                                  0.024433   \n",
       "No of Bathrooms                                                 0.084054   \n",
       "Flat Area (in Sqft)                                             0.086139   \n",
       "Lot Area (in Sqft)                                             -0.012050   \n",
       "No of Floors                                                    0.071786   \n",
       "No of Times Visited                                             0.003509   \n",
       "Overall Grade                                                   0.151245   \n",
       "Area of the House from Basement (in Sqft)                       0.086640   \n",
       "Basement Area (in Sqft)                                         0.016422   \n",
       "Age of House (in Years)                                        -0.056974   \n",
       "Latitude                                                        0.249304   \n",
       "Longitude                                                       0.174136   \n",
       "Living Area after Renovation (in Sqft)                          0.108457   \n",
       "Lot Area after Renovation (in Sqft)                            -0.006145   \n",
       "years Since Renovation                                         -0.008853   \n",
       "Condition_of_the_House_Excellent                               -0.026260   \n",
       "Condition_of_the_House_Fair                                     0.046346   \n",
       "Condition_of_the_House_Good                                    -0.030755   \n",
       "Condition_of_the_House_Okay                                    -0.018857   \n",
       "Waterfront_View_Yes                                            -0.010197   \n",
       "Ever_Renovated_Yes                                             -0.004500   \n",
       "Zipcode_Group_Zipcode_Group_1                                  -0.167913   \n",
       "Zipcode_Group_Zipcode_Group_2                                  -0.230999   \n",
       "Zipcode_Group_Zipcode_Group_3                                  -0.201028   \n",
       "Zipcode_Group_Zipcode_Group_4                                   1.000000   \n",
       "Zipcode_Group_Zipcode_Group_5                                  -0.102567   \n",
       "Zipcode_Group_Zipcode_Group_6                                  -0.137841   \n",
       "Zipcode_Group_Zipcode_Group_7                                  -0.053790   \n",
       "Zipcode_Group_Zipcode_Group_8                                  -0.080895   \n",
       "Zipcode_Group_Zipcode_Group_9                                  -0.023072   \n",
       "\n",
       "                                           Zipcode_Group_Zipcode_Group_5  \\\n",
       "Sale_Price                                                      0.176705   \n",
       "No of Bedrooms                                                  0.019420   \n",
       "No of Bathrooms                                                 0.052804   \n",
       "Flat Area (in Sqft)                                             0.075978   \n",
       "Lot Area (in Sqft)                                              0.015320   \n",
       "No of Floors                                                    0.009203   \n",
       "No of Times Visited                                             0.024801   \n",
       "Overall Grade                                                   0.095613   \n",
       "Area of the House from Basement (in Sqft)                       0.062267   \n",
       "Basement Area (in Sqft)                                         0.040662   \n",
       "Age of House (in Years)                                        -0.009965   \n",
       "Latitude                                                        0.190199   \n",
       "Longitude                                                      -0.027225   \n",
       "Living Area after Renovation (in Sqft)                          0.084243   \n",
       "Lot Area after Renovation (in Sqft)                             0.023794   \n",
       "years Since Renovation                                          0.009024   \n",
       "Condition_of_the_House_Excellent                                0.012134   \n",
       "Condition_of_the_House_Fair                                    -0.014101   \n",
       "Condition_of_the_House_Good                                     0.009844   \n",
       "Condition_of_the_House_Okay                                    -0.009000   \n",
       "Waterfront_View_Yes                                            -0.005600   \n",
       "Ever_Renovated_Yes                                              0.011170   \n",
       "Zipcode_Group_Zipcode_Group_1                                  -0.075033   \n",
       "Zipcode_Group_Zipcode_Group_2                                  -0.103223   \n",
       "Zipcode_Group_Zipcode_Group_3                                  -0.089831   \n",
       "Zipcode_Group_Zipcode_Group_4                                  -0.102567   \n",
       "Zipcode_Group_Zipcode_Group_5                                   1.000000   \n",
       "Zipcode_Group_Zipcode_Group_6                                  -0.061595   \n",
       "Zipcode_Group_Zipcode_Group_7                                  -0.024036   \n",
       "Zipcode_Group_Zipcode_Group_8                                  -0.036148   \n",
       "Zipcode_Group_Zipcode_Group_9                                  -0.010310   \n",
       "\n",
       "                                           Zipcode_Group_Zipcode_Group_6  \\\n",
       "Sale_Price                                                      0.298646   \n",
       "No of Bedrooms                                                  0.090177   \n",
       "No of Bathrooms                                                 0.123256   \n",
       "Flat Area (in Sqft)                                             0.160045   \n",
       "Lot Area (in Sqft)                                             -0.023270   \n",
       "No of Floors                                                    0.069857   \n",
       "No of Times Visited                                             0.068144   \n",
       "Overall Grade                                                   0.200548   \n",
       "Area of the House from Basement (in Sqft)                       0.129310   \n",
       "Basement Area (in Sqft)                                         0.090206   \n",
       "Age of House (in Years)                                         0.025718   \n",
       "Latitude                                                        0.090785   \n",
       "Longitude                                                       0.045875   \n",
       "Living Area after Renovation (in Sqft)                          0.210982   \n",
       "Lot Area after Renovation (in Sqft)                            -0.025459   \n",
       "years Since Renovation                                         -0.003087   \n",
       "Condition_of_the_House_Excellent                                0.029723   \n",
       "Condition_of_the_House_Fair                                    -0.030814   \n",
       "Condition_of_the_House_Good                                     0.018961   \n",
       "Condition_of_the_House_Okay                                    -0.017932   \n",
       "Waterfront_View_Yes                                             0.009136   \n",
       "Ever_Renovated_Yes                                              0.007896   \n",
       "Zipcode_Group_Zipcode_Group_1                                  -0.100838   \n",
       "Zipcode_Group_Zipcode_Group_2                                  -0.138722   \n",
       "Zipcode_Group_Zipcode_Group_3                                  -0.120724   \n",
       "Zipcode_Group_Zipcode_Group_4                                  -0.137841   \n",
       "Zipcode_Group_Zipcode_Group_5                                  -0.061595   \n",
       "Zipcode_Group_Zipcode_Group_6                                   1.000000   \n",
       "Zipcode_Group_Zipcode_Group_7                                  -0.032303   \n",
       "Zipcode_Group_Zipcode_Group_8                                  -0.048580   \n",
       "Zipcode_Group_Zipcode_Group_9                                  -0.013856   \n",
       "\n",
       "                                           Zipcode_Group_Zipcode_Group_7  \\\n",
       "Sale_Price                                                      0.165760   \n",
       "No of Bedrooms                                                  0.016725   \n",
       "No of Bathrooms                                                 0.037746   \n",
       "Flat Area (in Sqft)                                             0.051211   \n",
       "Lot Area (in Sqft)                                             -0.027419   \n",
       "No of Floors                                                    0.064981   \n",
       "No of Times Visited                                            -0.012548   \n",
       "Overall Grade                                                   0.077126   \n",
       "Area of the House from Basement (in Sqft)                       0.029477   \n",
       "Basement Area (in Sqft)                                         0.051128   \n",
       "Age of House (in Years)                                         0.101486   \n",
       "Latitude                                                        0.056373   \n",
       "Longitude                                                      -0.066961   \n",
       "Living Area after Renovation (in Sqft)                          0.048081   \n",
       "Lot Area after Renovation (in Sqft)                            -0.032366   \n",
       "years Since Renovation                                          0.019224   \n",
       "Condition_of_the_House_Excellent                                0.029176   \n",
       "Condition_of_the_House_Fair                                    -0.010169   \n",
       "Condition_of_the_House_Good                                    -0.007285   \n",
       "Condition_of_the_House_Okay                                    -0.000663   \n",
       "Waterfront_View_Yes                                            -0.009788   \n",
       "Ever_Renovated_Yes                                              0.038617   \n",
       "Zipcode_Group_Zipcode_Group_1                                  -0.039350   \n",
       "Zipcode_Group_Zipcode_Group_2                                  -0.054134   \n",
       "Zipcode_Group_Zipcode_Group_3                                  -0.047110   \n",
       "Zipcode_Group_Zipcode_Group_4                                  -0.053790   \n",
       "Zipcode_Group_Zipcode_Group_5                                  -0.024036   \n",
       "Zipcode_Group_Zipcode_Group_6                                  -0.032303   \n",
       "Zipcode_Group_Zipcode_Group_7                                   1.000000   \n",
       "Zipcode_Group_Zipcode_Group_8                                  -0.018957   \n",
       "Zipcode_Group_Zipcode_Group_9                                  -0.005407   \n",
       "\n",
       "                                           Zipcode_Group_Zipcode_Group_8  \\\n",
       "Sale_Price                                                      0.313076   \n",
       "No of Bedrooms                                                  0.102736   \n",
       "No of Bathrooms                                                 0.110012   \n",
       "Flat Area (in Sqft)                                             0.169576   \n",
       "Lot Area (in Sqft)                                             -0.007025   \n",
       "No of Floors                                                   -0.008633   \n",
       "No of Times Visited                                             0.065335   \n",
       "Overall Grade                                                   0.156952   \n",
       "Area of the House from Basement (in Sqft)                       0.134021   \n",
       "Basement Area (in Sqft)                                         0.101159   \n",
       "Age of House (in Years)                                        -0.002705   \n",
       "Latitude                                                        0.036085   \n",
       "Longitude                                                      -0.001103   \n",
       "Living Area after Renovation (in Sqft)                          0.195508   \n",
       "Lot Area after Renovation (in Sqft)                             0.000207   \n",
       "years Since Renovation                                          0.038785   \n",
       "Condition_of_the_House_Excellent                                0.013449   \n",
       "Condition_of_the_House_Fair                                    -0.069614   \n",
       "Condition_of_the_House_Good                                     0.068277   \n",
       "Condition_of_the_House_Okay                                    -0.005608   \n",
       "Waterfront_View_Yes                                             0.027633   \n",
       "Ever_Renovated_Yes                                              0.056952   \n",
       "Zipcode_Group_Zipcode_Group_1                                  -0.059179   \n",
       "Zipcode_Group_Zipcode_Group_2                                  -0.081412   \n",
       "Zipcode_Group_Zipcode_Group_3                                  -0.070849   \n",
       "Zipcode_Group_Zipcode_Group_4                                  -0.080895   \n",
       "Zipcode_Group_Zipcode_Group_5                                  -0.036148   \n",
       "Zipcode_Group_Zipcode_Group_6                                  -0.048580   \n",
       "Zipcode_Group_Zipcode_Group_7                                  -0.018957   \n",
       "Zipcode_Group_Zipcode_Group_8                                   1.000000   \n",
       "Zipcode_Group_Zipcode_Group_9                                  -0.008132   \n",
       "\n",
       "                                           Zipcode_Group_Zipcode_Group_9  \n",
       "Sale_Price                                                      0.113726  \n",
       "No of Bedrooms                                                  0.035694  \n",
       "No of Bathrooms                                                 0.067871  \n",
       "Flat Area (in Sqft)                                             0.090253  \n",
       "Lot Area (in Sqft)                                              0.002671  \n",
       "No of Floors                                                    0.005868  \n",
       "No of Times Visited                                             0.012923  \n",
       "Overall Grade                                                   0.048638  \n",
       "Area of the House from Basement (in Sqft)                       0.087398  \n",
       "Basement Area (in Sqft)                                         0.023775  \n",
       "Age of House (in Years)                                        -0.002492  \n",
       "Latitude                                                        0.022867  \n",
       "Longitude                                                      -0.006725  \n",
       "Living Area after Renovation (in Sqft)                          0.080495  \n",
       "Lot Area after Renovation (in Sqft)                             0.007974  \n",
       "years Since Renovation                                          0.034990  \n",
       "Condition_of_the_House_Excellent                               -0.006924  \n",
       "Condition_of_the_House_Fair                                    -0.008999  \n",
       "Condition_of_the_House_Good                                     0.015016  \n",
       "Condition_of_the_House_Okay                                    -0.004314  \n",
       "Waterfront_View_Yes                                             0.006933  \n",
       "Ever_Renovated_Yes                                              0.037735  \n",
       "Zipcode_Group_Zipcode_Group_1                                  -0.016879  \n",
       "Zipcode_Group_Zipcode_Group_2                                  -0.023220  \n",
       "Zipcode_Group_Zipcode_Group_3                                  -0.020207  \n",
       "Zipcode_Group_Zipcode_Group_4                                  -0.023072  \n",
       "Zipcode_Group_Zipcode_Group_5                                  -0.010310  \n",
       "Zipcode_Group_Zipcode_Group_6                                  -0.013856  \n",
       "Zipcode_Group_Zipcode_Group_7                                  -0.005407  \n",
       "Zipcode_Group_Zipcode_Group_8                                  -0.008132  \n",
       "Zipcode_Group_Zipcode_Group_9                                   1.000000  \n",
       "\n",
       "[31 rows x 31 columns]"
      ]
     },
     "execution_count": 63,
     "metadata": {},
     "output_type": "execute_result"
    }
   ],
   "source": [
    "Housing_Prices.corr()"
   ]
  },
  {
   "cell_type": "markdown",
   "metadata": {},
   "source": [
    "### Muliticollinearity(correlation>0.5), removing it through VIF"
   ]
  },
  {
   "cell_type": "code",
   "execution_count": 64,
   "metadata": {},
   "outputs": [
    {
     "data": {
      "text/plain": [
       "([['Sale_Price', 'No of Bathrooms'],\n",
       "  ['Sale_Price', 'Flat Area (in Sqft)'],\n",
       "  ['Sale_Price', 'Overall Grade'],\n",
       "  ['Sale_Price', 'Area of the House from Basement (in Sqft)'],\n",
       "  ['Sale_Price', 'Living Area after Renovation (in Sqft)'],\n",
       "  ['No of Bedrooms', 'No of Bathrooms'],\n",
       "  ['No of Bedrooms', 'Flat Area (in Sqft)'],\n",
       "  ['No of Bathrooms', 'Sale_Price'],\n",
       "  ['No of Bathrooms', 'No of Bedrooms'],\n",
       "  ['No of Bathrooms', 'Flat Area (in Sqft)'],\n",
       "  ['No of Bathrooms', 'No of Floors'],\n",
       "  ['No of Bathrooms', 'Overall Grade'],\n",
       "  ['No of Bathrooms', 'Area of the House from Basement (in Sqft)'],\n",
       "  ['No of Bathrooms', 'Living Area after Renovation (in Sqft)'],\n",
       "  ['Flat Area (in Sqft)', 'Sale_Price'],\n",
       "  ['Flat Area (in Sqft)', 'No of Bedrooms'],\n",
       "  ['Flat Area (in Sqft)', 'No of Bathrooms'],\n",
       "  ['Flat Area (in Sqft)', 'Overall Grade'],\n",
       "  ['Flat Area (in Sqft)', 'Area of the House from Basement (in Sqft)'],\n",
       "  ['Flat Area (in Sqft)', 'Living Area after Renovation (in Sqft)'],\n",
       "  ['Lot Area (in Sqft)', 'Lot Area after Renovation (in Sqft)'],\n",
       "  ['No of Floors', 'No of Bathrooms'],\n",
       "  ['No of Floors', 'Area of the House from Basement (in Sqft)'],\n",
       "  ['Overall Grade', 'Sale_Price'],\n",
       "  ['Overall Grade', 'No of Bathrooms'],\n",
       "  ['Overall Grade', 'Flat Area (in Sqft)'],\n",
       "  ['Overall Grade', 'Area of the House from Basement (in Sqft)'],\n",
       "  ['Overall Grade', 'Living Area after Renovation (in Sqft)'],\n",
       "  ['Area of the House from Basement (in Sqft)', 'Sale_Price'],\n",
       "  ['Area of the House from Basement (in Sqft)', 'No of Bathrooms'],\n",
       "  ['Area of the House from Basement (in Sqft)', 'Flat Area (in Sqft)'],\n",
       "  ['Area of the House from Basement (in Sqft)', 'No of Floors'],\n",
       "  ['Area of the House from Basement (in Sqft)', 'Overall Grade'],\n",
       "  ['Area of the House from Basement (in Sqft)',\n",
       "   'Living Area after Renovation (in Sqft)'],\n",
       "  ['Living Area after Renovation (in Sqft)', 'Sale_Price'],\n",
       "  ['Living Area after Renovation (in Sqft)', 'No of Bathrooms'],\n",
       "  ['Living Area after Renovation (in Sqft)', 'Flat Area (in Sqft)'],\n",
       "  ['Living Area after Renovation (in Sqft)', 'Overall Grade'],\n",
       "  ['Living Area after Renovation (in Sqft)',\n",
       "   'Area of the House from Basement (in Sqft)'],\n",
       "  ['Lot Area after Renovation (in Sqft)', 'Lot Area (in Sqft)'],\n",
       "  ['years Since Renovation', 'Ever_Renovated_Yes'],\n",
       "  ['Ever_Renovated_Yes', 'years Since Renovation']],\n",
       " 42)"
      ]
     },
     "execution_count": 64,
     "metadata": {},
     "output_type": "execute_result"
    }
   ],
   "source": [
    "#:Checking and removing multicollinearity\n",
    "k=Housing_Prices.corr()\n",
    "z=[[str(i),str(j)] for i in k.columns for j in k.columns if(k.loc[i,j]>abs(0.5))&(i!=j)]\n",
    "z,len(z)"
   ]
  },
  {
   "cell_type": "code",
   "execution_count": 65,
   "metadata": {},
   "outputs": [
    {
     "data": {
      "text/plain": [
       "No of Bedrooms                                  1.639470\n",
       "No of Bathrooms                                 3.374992\n",
       "Flat Area (in Sqft)                          1481.681648\n",
       "Lot Area (in Sqft)                              2.108079\n",
       "No of Floors                                    2.127787\n",
       "No of Times Visited                             1.432385\n",
       "Overall Grade                                   2.967448\n",
       "Area of the House from Basement (in Sqft)    1205.549115\n",
       "Basement Area (in Sqft)                       345.465009\n",
       "Age of House (in Years)                         2.629539\n",
       "Latitude                                        2.471442\n",
       "Longitude                                       1.672691\n",
       "Living Area after Renovation (in Sqft)          3.068139\n",
       "Lot Area after Renovation (in Sqft)             2.144347\n",
       "years Since Renovation                          2.788098\n",
       "Condition_of_the_House_Excellent               53.578111\n",
       "Condition_of_the_House_Fair                   166.129930\n",
       "Condition_of_the_House_Good                   141.324536\n",
       "Condition_of_the_House_Okay                     6.703057\n",
       "Waterfront_View_Yes                             1.208439\n",
       "Ever_Renovated_Yes                              2.955790\n",
       "Zipcode_Group_Zipcode_Group_1                   1.538226\n",
       "Zipcode_Group_Zipcode_Group_2                   2.570591\n",
       "Zipcode_Group_Zipcode_Group_3                   2.818579\n",
       "Zipcode_Group_Zipcode_Group_4                   3.193051\n",
       "Zipcode_Group_Zipcode_Group_5                   1.728330\n",
       "Zipcode_Group_Zipcode_Group_6                   2.015017\n",
       "Zipcode_Group_Zipcode_Group_7                   1.233754\n",
       "Zipcode_Group_Zipcode_Group_8                   1.389653\n",
       "Zipcode_Group_Zipcode_Group_9                   1.048579\n",
       "dtype: float64"
      ]
     },
     "execution_count": 65,
     "metadata": {},
     "output_type": "execute_result"
    }
   ],
   "source": [
    "#Calculating  VIF(Varaince Inflation Parameter) to remove the variables(>0.5)(multicollinearity)\n",
    "from statsmodels.stats.outliers_influence import variance_inflation_factor\n",
    "vif_data=X\n",
    "VIF=pd.Series([variance_inflation_factor(vif_data.values,i) for i in range(vif_data.shape[1])],index=vif_data.columns)\n",
    "VIF"
   ]
  },
  {
   "cell_type": "code",
   "execution_count": 66,
   "metadata": {},
   "outputs": [
    {
     "data": {
      "text/plain": [
       "'Flat Area (in Sqft)'"
      ]
     },
     "execution_count": 66,
     "metadata": {},
     "output_type": "execute_result"
    }
   ],
   "source": [
    "VIF[VIF==VIF.max()].index[0]"
   ]
  },
  {
   "cell_type": "code",
   "execution_count": 67,
   "metadata": {},
   "outputs": [],
   "source": [
    "def MC_remover(data):\n",
    "    vif=pd.Series([variance_inflation_factor(data.values,i) for i in range(data.shape[1])],index=data.columns)\n",
    "    if vif.max()>5:\n",
    "        print(vif[vif==vif.max()].index[0],'has been removed')\n",
    "        data=data.drop(columns=[vif[vif==vif.max()].index[0]])\n",
    "        return data\n",
    "    else:\n",
    "        print('no multicollinearity present anymore')\n",
    "        return data"
   ]
  },
  {
   "cell_type": "code",
   "execution_count": 68,
   "metadata": {},
   "outputs": [
    {
     "name": "stdout",
     "output_type": "stream",
     "text": [
      "Flat Area (in Sqft) has been removed\n",
      "Condition_of_the_House_Fair has been removed\n",
      "no multicollinearity present anymore\n",
      "no multicollinearity present anymore\n",
      "no multicollinearity present anymore\n",
      "no multicollinearity present anymore\n",
      "no multicollinearity present anymore\n"
     ]
    },
    {
     "data": {
      "text/html": [
       "<div>\n",
       "<style scoped>\n",
       "    .dataframe tbody tr th:only-of-type {\n",
       "        vertical-align: middle;\n",
       "    }\n",
       "\n",
       "    .dataframe tbody tr th {\n",
       "        vertical-align: top;\n",
       "    }\n",
       "\n",
       "    .dataframe thead th {\n",
       "        text-align: right;\n",
       "    }\n",
       "</style>\n",
       "<table border=\"1\" class=\"dataframe\">\n",
       "  <thead>\n",
       "    <tr style=\"text-align: right;\">\n",
       "      <th></th>\n",
       "      <th>No of Bedrooms</th>\n",
       "      <th>No of Bathrooms</th>\n",
       "      <th>Lot Area (in Sqft)</th>\n",
       "      <th>No of Floors</th>\n",
       "      <th>No of Times Visited</th>\n",
       "      <th>Overall Grade</th>\n",
       "      <th>Area of the House from Basement (in Sqft)</th>\n",
       "      <th>Basement Area (in Sqft)</th>\n",
       "      <th>Age of House (in Years)</th>\n",
       "      <th>Latitude</th>\n",
       "      <th>...</th>\n",
       "      <th>Ever_Renovated_Yes</th>\n",
       "      <th>Zipcode_Group_Zipcode_Group_1</th>\n",
       "      <th>Zipcode_Group_Zipcode_Group_2</th>\n",
       "      <th>Zipcode_Group_Zipcode_Group_3</th>\n",
       "      <th>Zipcode_Group_Zipcode_Group_4</th>\n",
       "      <th>Zipcode_Group_Zipcode_Group_5</th>\n",
       "      <th>Zipcode_Group_Zipcode_Group_6</th>\n",
       "      <th>Zipcode_Group_Zipcode_Group_7</th>\n",
       "      <th>Zipcode_Group_Zipcode_Group_8</th>\n",
       "      <th>Zipcode_Group_Zipcode_Group_9</th>\n",
       "    </tr>\n",
       "  </thead>\n",
       "  <tbody>\n",
       "    <tr>\n",
       "      <th>0</th>\n",
       "      <td>-0.398724</td>\n",
       "      <td>-1.447526</td>\n",
       "      <td>-0.228291</td>\n",
       "      <td>-0.915389</td>\n",
       "      <td>-0.30579</td>\n",
       "      <td>-0.563993</td>\n",
       "      <td>-0.734722</td>\n",
       "      <td>-0.658697</td>\n",
       "      <td>0.544734</td>\n",
       "      <td>-0.352576</td>\n",
       "      <td>...</td>\n",
       "      <td>-0.210155</td>\n",
       "      <td>-0.350481</td>\n",
       "      <td>-0.482158</td>\n",
       "      <td>-0.419600</td>\n",
       "      <td>-0.479094</td>\n",
       "      <td>-0.214086</td>\n",
       "      <td>-0.287712</td>\n",
       "      <td>-0.112274</td>\n",
       "      <td>-0.16885</td>\n",
       "      <td>-0.048158</td>\n",
       "    </tr>\n",
       "    <tr>\n",
       "      <th>1</th>\n",
       "      <td>-0.398724</td>\n",
       "      <td>0.175684</td>\n",
       "      <td>-0.189858</td>\n",
       "      <td>0.936817</td>\n",
       "      <td>-0.30579</td>\n",
       "      <td>-0.563993</td>\n",
       "      <td>0.460990</td>\n",
       "      <td>0.245134</td>\n",
       "      <td>0.680915</td>\n",
       "      <td>1.161645</td>\n",
       "      <td>...</td>\n",
       "      <td>4.758385</td>\n",
       "      <td>-0.350481</td>\n",
       "      <td>2.074011</td>\n",
       "      <td>-0.419600</td>\n",
       "      <td>-0.479094</td>\n",
       "      <td>-0.214086</td>\n",
       "      <td>-0.287712</td>\n",
       "      <td>-0.112274</td>\n",
       "      <td>-0.16885</td>\n",
       "      <td>-0.048158</td>\n",
       "    </tr>\n",
       "    <tr>\n",
       "      <th>2</th>\n",
       "      <td>-1.474115</td>\n",
       "      <td>-1.447526</td>\n",
       "      <td>-0.123276</td>\n",
       "      <td>-0.915389</td>\n",
       "      <td>-0.30579</td>\n",
       "      <td>-1.468566</td>\n",
       "      <td>-1.229916</td>\n",
       "      <td>-0.658697</td>\n",
       "      <td>1.293731</td>\n",
       "      <td>1.283619</td>\n",
       "      <td>...</td>\n",
       "      <td>-0.210155</td>\n",
       "      <td>-0.350481</td>\n",
       "      <td>2.074011</td>\n",
       "      <td>-0.419600</td>\n",
       "      <td>-0.479094</td>\n",
       "      <td>-0.214086</td>\n",
       "      <td>-0.287712</td>\n",
       "      <td>-0.112274</td>\n",
       "      <td>-0.16885</td>\n",
       "      <td>-0.048158</td>\n",
       "    </tr>\n",
       "    <tr>\n",
       "      <th>3</th>\n",
       "      <td>0.676667</td>\n",
       "      <td>1.149611</td>\n",
       "      <td>-0.243983</td>\n",
       "      <td>-0.915389</td>\n",
       "      <td>-0.30579</td>\n",
       "      <td>-0.563993</td>\n",
       "      <td>-0.891735</td>\n",
       "      <td>1.397518</td>\n",
       "      <td>0.204281</td>\n",
       "      <td>-0.283288</td>\n",
       "      <td>...</td>\n",
       "      <td>-0.210155</td>\n",
       "      <td>-0.350481</td>\n",
       "      <td>-0.482158</td>\n",
       "      <td>2.383223</td>\n",
       "      <td>-0.479094</td>\n",
       "      <td>-0.214086</td>\n",
       "      <td>-0.287712</td>\n",
       "      <td>-0.112274</td>\n",
       "      <td>-0.16885</td>\n",
       "      <td>-0.048158</td>\n",
       "    </tr>\n",
       "    <tr>\n",
       "      <th>4</th>\n",
       "      <td>-0.398724</td>\n",
       "      <td>-0.148958</td>\n",
       "      <td>-0.169628</td>\n",
       "      <td>-0.915389</td>\n",
       "      <td>-0.30579</td>\n",
       "      <td>0.340581</td>\n",
       "      <td>-0.130827</td>\n",
       "      <td>-0.658697</td>\n",
       "      <td>-0.544715</td>\n",
       "      <td>0.409587</td>\n",
       "      <td>...</td>\n",
       "      <td>-0.210155</td>\n",
       "      <td>-0.350481</td>\n",
       "      <td>-0.482158</td>\n",
       "      <td>-0.419600</td>\n",
       "      <td>2.087275</td>\n",
       "      <td>-0.214086</td>\n",
       "      <td>-0.287712</td>\n",
       "      <td>-0.112274</td>\n",
       "      <td>-0.16885</td>\n",
       "      <td>-0.048158</td>\n",
       "    </tr>\n",
       "  </tbody>\n",
       "</table>\n",
       "<p>5 rows × 28 columns</p>\n",
       "</div>"
      ],
      "text/plain": [
       "   No of Bedrooms  No of Bathrooms  Lot Area (in Sqft)  No of Floors  \\\n",
       "0       -0.398724        -1.447526           -0.228291     -0.915389   \n",
       "1       -0.398724         0.175684           -0.189858      0.936817   \n",
       "2       -1.474115        -1.447526           -0.123276     -0.915389   \n",
       "3        0.676667         1.149611           -0.243983     -0.915389   \n",
       "4       -0.398724        -0.148958           -0.169628     -0.915389   \n",
       "\n",
       "   No of Times Visited  Overall Grade  \\\n",
       "0             -0.30579      -0.563993   \n",
       "1             -0.30579      -0.563993   \n",
       "2             -0.30579      -1.468566   \n",
       "3             -0.30579      -0.563993   \n",
       "4             -0.30579       0.340581   \n",
       "\n",
       "   Area of the House from Basement (in Sqft)  Basement Area (in Sqft)  \\\n",
       "0                                  -0.734722                -0.658697   \n",
       "1                                   0.460990                 0.245134   \n",
       "2                                  -1.229916                -0.658697   \n",
       "3                                  -0.891735                 1.397518   \n",
       "4                                  -0.130827                -0.658697   \n",
       "\n",
       "   Age of House (in Years)  Latitude  ...  Ever_Renovated_Yes  \\\n",
       "0                 0.544734 -0.352576  ...           -0.210155   \n",
       "1                 0.680915  1.161645  ...            4.758385   \n",
       "2                 1.293731  1.283619  ...           -0.210155   \n",
       "3                 0.204281 -0.283288  ...           -0.210155   \n",
       "4                -0.544715  0.409587  ...           -0.210155   \n",
       "\n",
       "   Zipcode_Group_Zipcode_Group_1  Zipcode_Group_Zipcode_Group_2  \\\n",
       "0                      -0.350481                      -0.482158   \n",
       "1                      -0.350481                       2.074011   \n",
       "2                      -0.350481                       2.074011   \n",
       "3                      -0.350481                      -0.482158   \n",
       "4                      -0.350481                      -0.482158   \n",
       "\n",
       "   Zipcode_Group_Zipcode_Group_3  Zipcode_Group_Zipcode_Group_4  \\\n",
       "0                      -0.419600                      -0.479094   \n",
       "1                      -0.419600                      -0.479094   \n",
       "2                      -0.419600                      -0.479094   \n",
       "3                       2.383223                      -0.479094   \n",
       "4                      -0.419600                       2.087275   \n",
       "\n",
       "   Zipcode_Group_Zipcode_Group_5  Zipcode_Group_Zipcode_Group_6  \\\n",
       "0                      -0.214086                      -0.287712   \n",
       "1                      -0.214086                      -0.287712   \n",
       "2                      -0.214086                      -0.287712   \n",
       "3                      -0.214086                      -0.287712   \n",
       "4                      -0.214086                      -0.287712   \n",
       "\n",
       "   Zipcode_Group_Zipcode_Group_7  Zipcode_Group_Zipcode_Group_8  \\\n",
       "0                      -0.112274                       -0.16885   \n",
       "1                      -0.112274                       -0.16885   \n",
       "2                      -0.112274                       -0.16885   \n",
       "3                      -0.112274                       -0.16885   \n",
       "4                      -0.112274                       -0.16885   \n",
       "\n",
       "   Zipcode_Group_Zipcode_Group_9  \n",
       "0                      -0.048158  \n",
       "1                      -0.048158  \n",
       "2                      -0.048158  \n",
       "3                      -0.048158  \n",
       "4                      -0.048158  \n",
       "\n",
       "[5 rows x 28 columns]"
      ]
     },
     "execution_count": 68,
     "metadata": {},
     "output_type": "execute_result"
    }
   ],
   "source": [
    "for i in range(7):\n",
    "    vif_data=MC_remover(vif_data)\n",
    "    \n",
    "    \n",
    "vif_data.head()"
   ]
  },
  {
   "cell_type": "code",
   "execution_count": 69,
   "metadata": {},
   "outputs": [
    {
     "data": {
      "text/plain": [
       "(No of Bedrooms                               1.638990\n",
       " No of Bathrooms                              3.373805\n",
       " Lot Area (in Sqft)                           2.107495\n",
       " No of Floors                                 2.127703\n",
       " No of Times Visited                          1.432363\n",
       " Overall Grade                                2.956967\n",
       " Area of the House from Basement (in Sqft)    4.580042\n",
       " Basement Area (in Sqft)                      1.974981\n",
       " Age of House (in Years)                      2.626504\n",
       " Latitude                                     2.471343\n",
       " Longitude                                    1.672667\n",
       " Living Area after Renovation (in Sqft)       3.063886\n",
       " Lot Area after Renovation (in Sqft)          2.144068\n",
       " years Since Renovation                       2.788064\n",
       " Condition_of_the_House_Excellent             1.206487\n",
       " Condition_of_the_House_Good                  1.251488\n",
       " Condition_of_the_House_Okay                  1.025386\n",
       " Waterfront_View_Yes                          1.208288\n",
       " Ever_Renovated_Yes                           2.955539\n",
       " Zipcode_Group_Zipcode_Group_1                1.538211\n",
       " Zipcode_Group_Zipcode_Group_2                2.570583\n",
       " Zipcode_Group_Zipcode_Group_3                2.818509\n",
       " Zipcode_Group_Zipcode_Group_4                3.192429\n",
       " Zipcode_Group_Zipcode_Group_5                1.728047\n",
       " Zipcode_Group_Zipcode_Group_6                2.014775\n",
       " Zipcode_Group_Zipcode_Group_7                1.233626\n",
       " Zipcode_Group_Zipcode_Group_8                1.389355\n",
       " Zipcode_Group_Zipcode_Group_9                1.048571\n",
       " dtype: float64,\n",
       " 28)"
      ]
     },
     "execution_count": 69,
     "metadata": {},
     "output_type": "execute_result"
    }
   ],
   "source": [
    "#calculating vif for remaining columns\n",
    "VIF=pd.Series([variance_inflation_factor(vif_data.values,i) for i in range(vif_data.shape[1])],index=vif_data.columns)\n",
    "VIF,len(vif_data.columns)"
   ]
  },
  {
   "cell_type": "markdown",
   "metadata": {},
   "source": [
    "### splitting the data into train and test datasets"
   ]
  },
  {
   "cell_type": "code",
   "execution_count": 70,
   "metadata": {},
   "outputs": [
    {
     "data": {
      "text/plain": [
       "((15126, 28), (6483, 28), (15126,), (6483,))"
      ]
     },
     "execution_count": 70,
     "metadata": {},
     "output_type": "execute_result"
    }
   ],
   "source": [
    "#Splitting the data in to train and test data of ration 70:30\n",
    "X=vif_data\n",
    "Y=Housing_Prices['Sale_Price']\n",
    "from sklearn.model_selection import train_test_split\n",
    "X_train,X_test,Y_train,Y_test=train_test_split(X,Y,test_size=0.3,random_state=101)\n",
    "X_train.shape,X_test.shape,Y_train.shape,Y_test.shape"
   ]
  },
  {
   "cell_type": "markdown",
   "metadata": {},
   "source": [
    "### Implementing LinearRegression Model"
   ]
  },
  {
   "cell_type": "code",
   "execution_count": 72,
   "metadata": {},
   "outputs": [
    {
     "data": {
      "text/plain": [
       "0.8112795201608751"
      ]
     },
     "execution_count": 72,
     "metadata": {},
     "output_type": "execute_result"
    }
   ],
   "source": [
    "#Implenmenting the LinearRegression model\n",
    "from sklearn.linear_model import LinearRegression\n",
    "from sklearn.metrics import r2_score, mean_squared_error\n",
    "lr=LinearRegression(normalize=True)\n",
    "lr.fit(X_train,Y_train) #training the model\n",
    "r2_score(lr.predict(X_train),Y_train)"
   ]
  },
  {
   "cell_type": "code",
   "execution_count": 73,
   "metadata": {},
   "outputs": [],
   "source": [
    "#cross validation score\n",
    "from sklearn.model_selection import cross_val_score"
   ]
  },
  {
   "cell_type": "code",
   "execution_count": 74,
   "metadata": {},
   "outputs": [
    {
     "data": {
      "text/plain": [
       "array([0.83127022, 0.85002092, 0.84492408, 0.82883874, 0.84611314,\n",
       "       0.84456049, 0.83591104, 0.84477126, 0.82716284, 0.84237872])"
      ]
     },
     "execution_count": 74,
     "metadata": {},
     "output_type": "execute_result"
    }
   ],
   "source": [
    "cross_val_score(lr, X_train,Y_train, cv=10)"
   ]
  },
  {
   "cell_type": "code",
   "execution_count": 75,
   "metadata": {},
   "outputs": [],
   "source": [
    "reg_score = r2_score(lr.predict(X_test),Y_test)"
   ]
  },
  {
   "cell_type": "code",
   "execution_count": 76,
   "metadata": {},
   "outputs": [
    {
     "data": {
      "text/plain": [
       "0.8207178272835264"
      ]
     },
     "execution_count": 76,
     "metadata": {},
     "output_type": "execute_result"
    }
   ],
   "source": [
    "reg_score"
   ]
  },
  {
   "cell_type": "code",
   "execution_count": 77,
   "metadata": {},
   "outputs": [
    {
     "data": {
      "text/plain": [
       "array([ -3928.66247639,  12028.44560689,  14967.00497585,   2697.55278605,\n",
       "        27220.31313417,  59965.44665815,  80697.80906997,  27729.56715434,\n",
       "        27873.90231343,  21397.40341959, -23854.32640243,  17943.26729788,\n",
       "        -2896.98542901, -10179.085198  ,  14239.3533334 ,   5095.97603572,\n",
       "        -2296.64888137,  10761.77007875,  14594.33847962,  12165.83372082,\n",
       "        33842.29544383,  63269.82875283,  81086.08553213,  50718.63947886,\n",
       "        73274.09568028,  40153.03595158,  67405.70271285,  22113.74944051])"
      ]
     },
     "execution_count": 77,
     "metadata": {},
     "output_type": "execute_result"
    }
   ],
   "source": [
    "lr.coef_   #y=c+m1x1+m2x2+m3x3+m4x4+..........."
   ]
  },
  {
   "cell_type": "code",
   "execution_count": 78,
   "metadata": {},
   "outputs": [
    {
     "data": {
      "text/plain": [
       "511909.21015944774"
      ]
     },
     "execution_count": 78,
     "metadata": {},
     "output_type": "execute_result"
    }
   ],
   "source": [
    "lr.intercept_"
   ]
  },
  {
   "cell_type": "markdown",
   "metadata": {},
   "source": [
    "### Generating Predictions over the test data"
   ]
  },
  {
   "cell_type": "code",
   "execution_count": 79,
   "metadata": {},
   "outputs": [],
   "source": [
    "#step6:Generating the Predictions\n",
    "predictions=lr.predict(X_test)"
   ]
  },
  {
   "cell_type": "code",
   "execution_count": 80,
   "metadata": {},
   "outputs": [
    {
     "data": {
      "text/plain": [
       "0.8461987715586199"
      ]
     },
     "execution_count": 80,
     "metadata": {},
     "output_type": "execute_result"
    }
   ],
   "source": [
    "#accuracy of test score\n",
    "lr.score(X_test,Y_test)"
   ]
  },
  {
   "cell_type": "code",
   "execution_count": 81,
   "metadata": {},
   "outputs": [
    {
     "data": {
      "text/plain": [
       "0.8412406591458191"
      ]
     },
     "execution_count": 81,
     "metadata": {},
     "output_type": "execute_result"
    }
   ],
   "source": [
    "#accuracy of trian score\n",
    "lr.score(X_train,Y_train)"
   ]
  },
  {
   "cell_type": "markdown",
   "metadata": {},
   "source": [
    "### Residuals and Plotting it"
   ]
  },
  {
   "cell_type": "code",
   "execution_count": 82,
   "metadata": {},
   "outputs": [],
   "source": [
    "#residuals calculations and plotting the residuals\n",
    "residuals=predictions-Y_test\n",
    "residual_table=pd.DataFrame({'residuals':residuals,\n",
    "                            'predictions':predictions})\n",
    "residual_table=residual_table.sort_values(by='predictions')"
   ]
  },
  {
   "cell_type": "code",
   "execution_count": 83,
   "metadata": {},
   "outputs": [],
   "source": [
    "z=[i for i in range(int(residual_table['predictions'].max()))]\n",
    "k=[0 for i in range(int(residual_table['predictions'].max()))]"
   ]
  },
  {
   "cell_type": "code",
   "execution_count": 84,
   "metadata": {},
   "outputs": [
    {
     "data": {
      "image/png": "[encoded data removed]",
      "text/plain": [
       "<Figure size 432x288 with 1 Axes>"
      ]
     },
     "metadata": {
      "needs_background": "light"
     },
     "output_type": "display_data"
    }
   ],
   "source": [
    "plt.scatter(residual_table['predictions'],residual_table['residuals'],color='red',s=2)\n",
    "plt.plot(z,k,color='yellow',linewidth=3,label='regression line')\n",
    "plt.legend()\n",
    "plt.show()"
   ]
  },
  {
   "cell_type": "markdown",
   "metadata": {},
   "source": [
    "# Verifying the assumptions of Linear Regression\n",
    "### 1)Target and Independent variables have a linear Relation\n",
    "### 2)from residual plot,there is constant variance of error(no Heteroscedasticity)\n",
    "### 3) from the below,distribution of errors plots,we say that the distribution is normal\n",
    "### 4) we've removed Multicollinearity using VIF, before applying of the model"
   ]
  },
  {
   "cell_type": "code",
   "execution_count": 85,
   "metadata": {},
   "outputs": [
    {
     "data": {
      "text/plain": [
       "(array([  2.,   0.,   0.,   0.,   1.,   0.,   0.,   0.,   0.,   0.,   0.,\n",
       "          1.,   1.,   1.,   0.,   1.,   0.,   2.,   0.,   1.,   0.,   0.,\n",
       "          1.,   3.,   1.,   4.,   4.,   2.,   3.,   3.,   5.,   0.,   6.,\n",
       "          2.,   5.,   2.,   6.,   8.,   7.,   6.,   5.,   3.,   3.,   4.,\n",
       "          7.,   3.,  16.,   7.,  14.,  12.,   8.,  14.,  11.,   8.,  17.,\n",
       "         15.,  22.,  13.,  28.,  15.,  17.,  22.,  19.,  23.,  35.,  28.,\n",
       "         26.,  26.,  29.,  23.,  40.,  49.,  59.,  50.,  70.,  67.,  74.,\n",
       "         82.,  79.,  86., 109.,  97., 126., 109., 131., 133., 147., 160.,\n",
       "        160., 186., 168., 167., 184., 186., 215., 179., 180., 179., 155.,\n",
       "        162., 151., 150., 161., 149., 115., 130.,  97., 104., 109., 105.,\n",
       "         80.,  82.,  73.,  59.,  53.,  52.,  43.,  46.,  36.,  34.,  40.,\n",
       "         29.,  31.,  15.,  24.,  18.,  19.,  12.,  18.,  10.,  10.,   5.,\n",
       "          9.,   9.,   4.,   6.,   6.,   1.,   6.,   4.,   1.,   4.,   5.,\n",
       "          3.,   1.,   1.,   2.,   0.,   0.,   0.,   1.,   2.,   2.,   1.,\n",
       "          1.,   0.,   1.,   0.,   0.,   0.,   1.,   1.,   0.,   0.,   1.,\n",
       "          1.,   0.,   0.,   1.,   0.,   1.,   0.,   0.,   2.,   0.,   0.,\n",
       "          0.,   0.,   0.,   0.,   0.,   0.,   0.,   1.,   0.,   0.,   0.,\n",
       "          0.,   1.,   0.,   0.,   0.,   0.,   2.,   0.,   0.,   0.,   0.,\n",
       "          0.,   1.]),\n",
       " array([-507951.98198446, -502471.38067229, -496990.77936013,\n",
       "        -491510.17804797, -486029.5767358 , -480548.97542364,\n",
       "        -475068.37411147, -469587.77279931, -464107.17148715,\n",
       "        -458626.57017498, -453145.96886282, -447665.36755065,\n",
       "        -442184.76623849, -436704.16492633, -431223.56361416,\n",
       "        -425742.962302  , -420262.36098983, -414781.75967767,\n",
       "        -409301.1583655 , -403820.55705334, -398339.95574118,\n",
       "        -392859.35442901, -387378.75311685, -381898.15180468,\n",
       "        -376417.55049252, -370936.94918036, -365456.34786819,\n",
       "        -359975.74655603, -354495.14524386, -349014.5439317 ,\n",
       "        -343533.94261954, -338053.34130737, -332572.73999521,\n",
       "        -327092.13868304, -321611.53737088, -316130.93605872,\n",
       "        -310650.33474655, -305169.73343439, -299689.13212222,\n",
       "        -294208.53081006, -288727.92949789, -283247.32818573,\n",
       "        -277766.72687357, -272286.1255614 , -266805.52424924,\n",
       "        -261324.92293707, -255844.32162491, -250363.72031275,\n",
       "        -244883.11900058, -239402.51768842, -233921.91637625,\n",
       "        -228441.31506409, -222960.71375193, -217480.11243976,\n",
       "        -211999.5111276 , -206518.90981543, -201038.30850327,\n",
       "        -195557.70719111, -190077.10587894, -184596.50456678,\n",
       "        -179115.90325461, -173635.30194245, -168154.70063028,\n",
       "        -162674.09931812, -157193.49800596, -151712.89669379,\n",
       "        -146232.29538163, -140751.69406946, -135271.0927573 ,\n",
       "        -129790.49144514, -124309.89013297, -118829.28882081,\n",
       "        -113348.68750864, -107868.08619648, -102387.48488432,\n",
       "         -96906.88357215,  -91426.28225999,  -85945.68094782,\n",
       "         -80465.07963566,  -74984.4783235 ,  -69503.87701133,\n",
       "         -64023.27569917,  -58542.674387  ,  -53062.07307484,\n",
       "         -47581.47176268,  -42100.87045051,  -36620.26913835,\n",
       "         -31139.66782618,  -25659.06651402,  -20178.46520185,\n",
       "         -14697.86388969,   -9217.26257753,   -3736.66126536,\n",
       "           1743.9400468 ,    7224.54135897,   12705.14267113,\n",
       "          18185.74398329,   23666.34529546,   29146.94660762,\n",
       "          34627.54791979,   40108.14923195,   45588.75054411,\n",
       "          51069.35185628,   56549.95316844,   62030.55448061,\n",
       "          67511.15579277,   72991.75710493,   78472.3584171 ,\n",
       "          83952.95972926,   89433.56104143,   94914.16235359,\n",
       "         100394.76366576,  105875.36497792,  111355.96629008,\n",
       "         116836.56760225,  122317.16891441,  127797.77022658,\n",
       "         133278.37153874,  138758.9728509 ,  144239.57416307,\n",
       "         149720.17547523,  155200.7767874 ,  160681.37809956,\n",
       "         166161.97941172,  171642.58072389,  177123.18203605,\n",
       "         182603.78334822,  188084.38466038,  193564.98597254,\n",
       "         199045.58728471,  204526.18859687,  210006.78990904,\n",
       "         215487.3912212 ,  220967.99253337,  226448.59384553,\n",
       "         231929.19515769,  237409.79646986,  242890.39778202,\n",
       "         248370.99909419,  253851.60040635,  259332.20171851,\n",
       "         264812.80303068,  270293.40434284,  275774.00565501,\n",
       "         281254.60696717,  286735.20827933,  292215.8095915 ,\n",
       "         297696.41090366,  303177.01221583,  308657.61352799,\n",
       "         314138.21484015,  319618.81615232,  325099.41746448,\n",
       "         330580.01877665,  336060.62008881,  341541.22140097,\n",
       "         347021.82271314,  352502.4240253 ,  357983.02533747,\n",
       "         363463.62664963,  368944.2279618 ,  374424.82927396,\n",
       "         379905.43058612,  385386.03189829,  390866.63321045,\n",
       "         396347.23452262,  401827.83583478,  407308.43714694,\n",
       "         412789.03845911,  418269.63977127,  423750.24108344,\n",
       "         429230.8423956 ,  434711.44370776,  440192.04501993,\n",
       "         445672.64633209,  451153.24764426,  456633.84895642,\n",
       "         462114.45026858,  467595.05158075,  473075.65289291,\n",
       "         478556.25420508,  484036.85551724,  489517.45682941,\n",
       "         494998.05814157,  500478.65945373,  505959.2607659 ,\n",
       "         511439.86207806,  516920.46339023,  522401.06470239,\n",
       "         527881.66601455,  533362.26732672,  538842.86863888,\n",
       "         544323.46995105,  549804.07126321,  555284.67257537,\n",
       "         560765.27388754,  566245.8751997 ,  571726.47651187,\n",
       "         577207.07782403,  582687.67913619,  588168.28044836]),\n",
       " <a list of 200 Patch objects>)"
      ]
     },
     "execution_count": 85,
     "metadata": {},
     "output_type": "execute_result"
    },
    {
     "data": {
      "image/png": "[encoded data removed]",
      "text/plain": [
       "<Figure size 432x288 with 1 Axes>"
      ]
     },
     "metadata": {
      "needs_background": "light"
     },
     "output_type": "display_data"
    }
   ],
   "source": [
    "#Verifying the assumption of linear regression\n",
    "#Distribution of errors\n",
    "plt.hist(residual_table['residuals'],color='green',bins=200)"
   ]
  },
  {
   "cell_type": "markdown",
   "metadata": {},
   "source": [
    "### Visualizing the coefficeints to interpret the model results"
   ]
  },
  {
   "cell_type": "code",
   "execution_count": 86,
   "metadata": {},
   "outputs": [],
   "source": [
    "#Visualizing the coeffiencient of Interpret the model results.\n",
    "coefficients_table = pd.DataFrame({'column': X_train.columns,\n",
    "                                  'coefficients': lr.coef_})\n",
    "coefficient_table = coefficients_table.sort_values(by = 'coefficients')"
   ]
  },
  {
   "cell_type": "code",
   "execution_count": 87,
   "metadata": {},
   "outputs": [
    {
     "data": {
      "text/plain": [
       "<BarContainer object of 28 artists>"
      ]
     },
     "execution_count": 87,
     "metadata": {},
     "output_type": "execute_result"
    },
    {
     "data": {
      "image/png": "[encoded data removed]",
      "text/plain": [
       "<Figure size 3000x2100 with 1 Axes>"
      ]
     },
     "metadata": {
      "needs_background": "light"
     },
     "output_type": "display_data"
    }
   ],
   "source": [
    "plt.figure(figsize=(10, 7), dpi=300)\n",
    "x = coefficient_table['column']\n",
    "y = coefficient_table['coefficients']\n",
    "plt.barh( x, y,color='green')"
   ]
  },
  {
   "cell_type": "markdown",
   "metadata": {},
   "source": [
    "# Conclusion:\n",
    "#### The location plays a major role in the 'Sale_Price' of the house as per the natural intuition\n",
    "#### from the above, we can say that 'Area of the House from Basement (in Sqft)' plays a major role in 'sale_price'\n",
    "#### 'over all Grade' plays a significant role.\n",
    "#### our models says that older houses are more expensive than the newer ones(this is new knowledge)\n",
    "#### from latitude,northeast region have relatively higher prices than other prices."
   ]
  },
  {
   "cell_type": "markdown",
   "metadata": {},
   "source": [
    "# Applying other Regression Models"
   ]
  },
  {
   "cell_type": "markdown",
   "metadata": {},
   "source": [
    "### RANSAC Regression"
   ]
  },
  {
   "cell_type": "code",
   "execution_count": 88,
   "metadata": {},
   "outputs": [],
   "source": [
    "from sklearn import linear_model\n",
    "ransac_reg = linear_model.RANSACRegressor()"
   ]
  },
  {
   "cell_type": "code",
   "execution_count": 89,
   "metadata": {},
   "outputs": [
    {
     "data": {
      "text/plain": [
       "0.779111809022088"
      ]
     },
     "execution_count": 89,
     "metadata": {},
     "output_type": "execute_result"
    }
   ],
   "source": [
    "ransac_reg.fit(X_train,Y_train)\n",
    "r2_score(ransac_reg.predict(X_train),Y_train)"
   ]
  },
  {
   "cell_type": "code",
   "execution_count": 90,
   "metadata": {},
   "outputs": [],
   "source": [
    "ransac_score = r2_score(ransac_reg.predict(X_test),Y_test)"
   ]
  },
  {
   "cell_type": "code",
   "execution_count": 91,
   "metadata": {},
   "outputs": [
    {
     "data": {
      "text/plain": [
       "0.7817070306788432"
      ]
     },
     "execution_count": 91,
     "metadata": {},
     "output_type": "execute_result"
    }
   ],
   "source": [
    "ransac_score"
   ]
  },
  {
   "cell_type": "markdown",
   "metadata": {},
   "source": [
    "## Ridge Regressor"
   ]
  },
  {
   "cell_type": "code",
   "execution_count": 92,
   "metadata": {},
   "outputs": [
    {
     "data": {
      "text/plain": [
       "Ridge(random_state=19)"
      ]
     },
     "execution_count": 92,
     "metadata": {},
     "output_type": "execute_result"
    }
   ],
   "source": [
    "ridge_reg = linear_model.Ridge(random_state=19) \n",
    "ridge_reg.fit(X_train,Y_train)"
   ]
  },
  {
   "cell_type": "code",
   "execution_count": 93,
   "metadata": {},
   "outputs": [
    {
     "data": {
      "text/plain": [
       "0.8112598322748077"
      ]
     },
     "execution_count": 93,
     "metadata": {},
     "output_type": "execute_result"
    }
   ],
   "source": [
    "r2_score(ridge_reg.predict(X_train),Y_train)"
   ]
  },
  {
   "cell_type": "code",
   "execution_count": 94,
   "metadata": {},
   "outputs": [],
   "source": [
    "ridge_score = r2_score(ridge_reg.predict(X_test),Y_test) "
   ]
  },
  {
   "cell_type": "code",
   "execution_count": 95,
   "metadata": {},
   "outputs": [
    {
     "data": {
      "text/plain": [
       "0.8207017788199192"
      ]
     },
     "execution_count": 95,
     "metadata": {},
     "output_type": "execute_result"
    }
   ],
   "source": [
    "ridge_score"
   ]
  },
  {
   "cell_type": "code",
   "execution_count": 96,
   "metadata": {},
   "outputs": [
    {
     "data": {
      "text/plain": [
       "array([ -3925.80011478,  12036.67646638,  14964.94887625,   2706.06483852,\n",
       "        27221.17546824,  59969.28017547,  80674.58271911,  27724.5347515 ,\n",
       "        27879.58216701,  21429.13838421, -23842.26155449,  17955.560973  ,\n",
       "        -2894.71972912, -10175.80463813,  14240.068971  ,   5097.13229485,\n",
       "        -2296.22959929,  10761.41906199,  14592.22318822,  12144.35844258,\n",
       "        33804.24842052,  63227.96727427,  81039.47684196,  50691.90565296,\n",
       "        73241.7194884 ,  40138.43558475,  67385.64507984,  22107.42729345])"
      ]
     },
     "execution_count": 96,
     "metadata": {},
     "output_type": "execute_result"
    }
   ],
   "source": [
    "ridge_reg.coef_"
   ]
  },
  {
   "cell_type": "code",
   "execution_count": 97,
   "metadata": {},
   "outputs": [
    {
     "data": {
      "text/html": [
       "<div>\n",
       "<style scoped>\n",
       "    .dataframe tbody tr th:only-of-type {\n",
       "        vertical-align: middle;\n",
       "    }\n",
       "\n",
       "    .dataframe tbody tr th {\n",
       "        vertical-align: top;\n",
       "    }\n",
       "\n",
       "    .dataframe thead th {\n",
       "        text-align: right;\n",
       "    }\n",
       "</style>\n",
       "<table border=\"1\" class=\"dataframe\">\n",
       "  <thead>\n",
       "    <tr style=\"text-align: right;\">\n",
       "      <th></th>\n",
       "      <th>Coefficient</th>\n",
       "    </tr>\n",
       "  </thead>\n",
       "  <tbody>\n",
       "    <tr>\n",
       "      <th>Zipcode_Group_Zipcode_Group_4</th>\n",
       "      <td>81039.476842</td>\n",
       "    </tr>\n",
       "    <tr>\n",
       "      <th>Area of the House from Basement (in Sqft)</th>\n",
       "      <td>80674.582719</td>\n",
       "    </tr>\n",
       "    <tr>\n",
       "      <th>Zipcode_Group_Zipcode_Group_6</th>\n",
       "      <td>73241.719488</td>\n",
       "    </tr>\n",
       "    <tr>\n",
       "      <th>Zipcode_Group_Zipcode_Group_8</th>\n",
       "      <td>67385.645080</td>\n",
       "    </tr>\n",
       "    <tr>\n",
       "      <th>Zipcode_Group_Zipcode_Group_3</th>\n",
       "      <td>63227.967274</td>\n",
       "    </tr>\n",
       "    <tr>\n",
       "      <th>Overall Grade</th>\n",
       "      <td>59969.280175</td>\n",
       "    </tr>\n",
       "    <tr>\n",
       "      <th>Zipcode_Group_Zipcode_Group_5</th>\n",
       "      <td>50691.905653</td>\n",
       "    </tr>\n",
       "    <tr>\n",
       "      <th>Zipcode_Group_Zipcode_Group_7</th>\n",
       "      <td>40138.435585</td>\n",
       "    </tr>\n",
       "    <tr>\n",
       "      <th>Zipcode_Group_Zipcode_Group_2</th>\n",
       "      <td>33804.248421</td>\n",
       "    </tr>\n",
       "    <tr>\n",
       "      <th>Age of House (in Years)</th>\n",
       "      <td>27879.582167</td>\n",
       "    </tr>\n",
       "    <tr>\n",
       "      <th>Basement Area (in Sqft)</th>\n",
       "      <td>27724.534751</td>\n",
       "    </tr>\n",
       "    <tr>\n",
       "      <th>No of Times Visited</th>\n",
       "      <td>27221.175468</td>\n",
       "    </tr>\n",
       "    <tr>\n",
       "      <th>Zipcode_Group_Zipcode_Group_9</th>\n",
       "      <td>22107.427293</td>\n",
       "    </tr>\n",
       "    <tr>\n",
       "      <th>Latitude</th>\n",
       "      <td>21429.138384</td>\n",
       "    </tr>\n",
       "    <tr>\n",
       "      <th>Living Area after Renovation (in Sqft)</th>\n",
       "      <td>17955.560973</td>\n",
       "    </tr>\n",
       "    <tr>\n",
       "      <th>Lot Area (in Sqft)</th>\n",
       "      <td>14964.948876</td>\n",
       "    </tr>\n",
       "    <tr>\n",
       "      <th>Ever_Renovated_Yes</th>\n",
       "      <td>14592.223188</td>\n",
       "    </tr>\n",
       "    <tr>\n",
       "      <th>Condition_of_the_House_Excellent</th>\n",
       "      <td>14240.068971</td>\n",
       "    </tr>\n",
       "    <tr>\n",
       "      <th>Zipcode_Group_Zipcode_Group_1</th>\n",
       "      <td>12144.358443</td>\n",
       "    </tr>\n",
       "    <tr>\n",
       "      <th>No of Bathrooms</th>\n",
       "      <td>12036.676466</td>\n",
       "    </tr>\n",
       "    <tr>\n",
       "      <th>Waterfront_View_Yes</th>\n",
       "      <td>10761.419062</td>\n",
       "    </tr>\n",
       "    <tr>\n",
       "      <th>Condition_of_the_House_Good</th>\n",
       "      <td>5097.132295</td>\n",
       "    </tr>\n",
       "    <tr>\n",
       "      <th>No of Floors</th>\n",
       "      <td>2706.064839</td>\n",
       "    </tr>\n",
       "    <tr>\n",
       "      <th>Condition_of_the_House_Okay</th>\n",
       "      <td>-2296.229599</td>\n",
       "    </tr>\n",
       "    <tr>\n",
       "      <th>Lot Area after Renovation (in Sqft)</th>\n",
       "      <td>-2894.719729</td>\n",
       "    </tr>\n",
       "    <tr>\n",
       "      <th>No of Bedrooms</th>\n",
       "      <td>-3925.800115</td>\n",
       "    </tr>\n",
       "    <tr>\n",
       "      <th>years Since Renovation</th>\n",
       "      <td>-10175.804638</td>\n",
       "    </tr>\n",
       "    <tr>\n",
       "      <th>Longitude</th>\n",
       "      <td>-23842.261554</td>\n",
       "    </tr>\n",
       "  </tbody>\n",
       "</table>\n",
       "</div>"
      ],
      "text/plain": [
       "                                            Coefficient\n",
       "Zipcode_Group_Zipcode_Group_4              81039.476842\n",
       "Area of the House from Basement (in Sqft)  80674.582719\n",
       "Zipcode_Group_Zipcode_Group_6              73241.719488\n",
       "Zipcode_Group_Zipcode_Group_8              67385.645080\n",
       "Zipcode_Group_Zipcode_Group_3              63227.967274\n",
       "Overall Grade                              59969.280175\n",
       "Zipcode_Group_Zipcode_Group_5              50691.905653\n",
       "Zipcode_Group_Zipcode_Group_7              40138.435585\n",
       "Zipcode_Group_Zipcode_Group_2              33804.248421\n",
       "Age of House (in Years)                    27879.582167\n",
       "Basement Area (in Sqft)                    27724.534751\n",
       "No of Times Visited                        27221.175468\n",
       "Zipcode_Group_Zipcode_Group_9              22107.427293\n",
       "Latitude                                   21429.138384\n",
       "Living Area after Renovation (in Sqft)     17955.560973\n",
       "Lot Area (in Sqft)                         14964.948876\n",
       "Ever_Renovated_Yes                         14592.223188\n",
       "Condition_of_the_House_Excellent           14240.068971\n",
       "Zipcode_Group_Zipcode_Group_1              12144.358443\n",
       "No of Bathrooms                            12036.676466\n",
       "Waterfront_View_Yes                        10761.419062\n",
       "Condition_of_the_House_Good                 5097.132295\n",
       "No of Floors                                2706.064839\n",
       "Condition_of_the_House_Okay                -2296.229599\n",
       "Lot Area after Renovation (in Sqft)        -2894.719729\n",
       "No of Bedrooms                             -3925.800115\n",
       "years Since Renovation                    -10175.804638\n",
       "Longitude                                 -23842.261554"
      ]
     },
     "execution_count": 97,
     "metadata": {},
     "output_type": "execute_result"
    }
   ],
   "source": [
    "pd.DataFrame(ridge_reg.coef_, index=X.columns, columns=['Coefficient']).sort_values(ascending=False, by = 'Coefficient')"
   ]
  },
  {
   "cell_type": "markdown",
   "metadata": {},
   "source": [
    "### DecisionTree Regressor"
   ]
  },
  {
   "cell_type": "code",
   "execution_count": 98,
   "metadata": {},
   "outputs": [
    {
     "data": {
      "text/plain": [
       "DecisionTreeRegressor()"
      ]
     },
     "execution_count": 98,
     "metadata": {},
     "output_type": "execute_result"
    }
   ],
   "source": [
    "from sklearn.tree import DecisionTreeRegressor\n",
    "tree_reg = DecisionTreeRegressor()\n",
    "tree_reg.fit(X_train,Y_train)"
   ]
  },
  {
   "cell_type": "code",
   "execution_count": 99,
   "metadata": {},
   "outputs": [
    {
     "data": {
      "text/plain": [
       "0.9987472932872901"
      ]
     },
     "execution_count": 99,
     "metadata": {},
     "output_type": "execute_result"
    }
   ],
   "source": [
    "r2_score(tree_reg.predict(X_train),Y_train)"
   ]
  },
  {
   "cell_type": "code",
   "execution_count": 100,
   "metadata": {},
   "outputs": [
    {
     "data": {
      "text/plain": [
       "array([0.75371007, 0.78255156, 0.74742516, 0.75870502, 0.79646301,\n",
       "       0.74922789, 0.76736362, 0.78568821, 0.77595771, 0.76984778])"
      ]
     },
     "execution_count": 100,
     "metadata": {},
     "output_type": "execute_result"
    }
   ],
   "source": [
    "# 99% seems like overfitting. Let's cross validate it.\n",
    "\n",
    "cross_val_score(tree_reg, X_train, Y_train, cv=10)"
   ]
  },
  {
   "cell_type": "code",
   "execution_count": 101,
   "metadata": {},
   "outputs": [
    {
     "data": {
      "text/plain": [
       "0.7882307086515629"
      ]
     },
     "execution_count": 101,
     "metadata": {},
     "output_type": "execute_result"
    }
   ],
   "source": [
    "tree_score = r2_score(tree_reg.predict(X_test),Y_test) \n",
    "tree_score"
   ]
  },
  {
   "cell_type": "markdown",
   "metadata": {},
   "source": [
    "### Random Forest Regressor"
   ]
  },
  {
   "cell_type": "code",
   "execution_count": 102,
   "metadata": {},
   "outputs": [],
   "source": [
    "from sklearn.ensemble import RandomForestRegressor\n",
    "forest_reg = RandomForestRegressor()"
   ]
  },
  {
   "cell_type": "code",
   "execution_count": 103,
   "metadata": {},
   "outputs": [
    {
     "data": {
      "text/plain": [
       "RandomForestRegressor()"
      ]
     },
     "execution_count": 103,
     "metadata": {},
     "output_type": "execute_result"
    }
   ],
   "source": [
    "forest_reg.fit(X_train,Y_train)"
   ]
  },
  {
   "cell_type": "code",
   "execution_count": 104,
   "metadata": {},
   "outputs": [
    {
     "data": {
      "text/plain": [
       "0.9823262291751552"
      ]
     },
     "execution_count": 104,
     "metadata": {},
     "output_type": "execute_result"
    }
   ],
   "source": [
    "r2_score(forest_reg.predict(X_train),Y_train)"
   ]
  },
  {
   "cell_type": "code",
   "execution_count": 105,
   "metadata": {},
   "outputs": [],
   "source": [
    "# let's see how well the random forest regressor fits well with the test data\n",
    "forest_score = r2_score(forest_reg.predict(X_test),Y_test)"
   ]
  },
  {
   "cell_type": "code",
   "execution_count": 106,
   "metadata": {},
   "outputs": [
    {
     "data": {
      "text/plain": [
       "0.8786449611272196"
      ]
     },
     "execution_count": 106,
     "metadata": {},
     "output_type": "execute_result"
    }
   ],
   "source": [
    "forest_score"
   ]
  },
  {
   "cell_type": "code",
   "execution_count": 107,
   "metadata": {},
   "outputs": [
    {
     "data": {
      "text/html": [
       "<div>\n",
       "<style scoped>\n",
       "    .dataframe tbody tr th:only-of-type {\n",
       "        vertical-align: middle;\n",
       "    }\n",
       "\n",
       "    .dataframe tbody tr th {\n",
       "        vertical-align: top;\n",
       "    }\n",
       "\n",
       "    .dataframe thead th {\n",
       "        text-align: right;\n",
       "    }\n",
       "</style>\n",
       "<table border=\"1\" class=\"dataframe\">\n",
       "  <thead>\n",
       "    <tr style=\"text-align: right;\">\n",
       "      <th></th>\n",
       "      <th>Scores</th>\n",
       "    </tr>\n",
       "  </thead>\n",
       "  <tbody>\n",
       "    <tr>\n",
       "      <th>Random Forest Regressor</th>\n",
       "      <td>0.878645</td>\n",
       "    </tr>\n",
       "    <tr>\n",
       "      <th>Linear Regression</th>\n",
       "      <td>0.820718</td>\n",
       "    </tr>\n",
       "    <tr>\n",
       "      <th>Ridge Regression</th>\n",
       "      <td>0.820702</td>\n",
       "    </tr>\n",
       "    <tr>\n",
       "      <th>Decision Tree Regressor</th>\n",
       "      <td>0.788231</td>\n",
       "    </tr>\n",
       "    <tr>\n",
       "      <th>Ransac Regression</th>\n",
       "      <td>0.781707</td>\n",
       "    </tr>\n",
       "  </tbody>\n",
       "</table>\n",
       "</div>"
      ],
      "text/plain": [
       "                           Scores\n",
       "Random Forest Regressor  0.878645\n",
       "Linear Regression        0.820718\n",
       "Ridge Regression         0.820702\n",
       "Decision Tree Regressor  0.788231\n",
       "Ransac Regression        0.781707"
      ]
     },
     "execution_count": 107,
     "metadata": {},
     "output_type": "execute_result"
    }
   ],
   "source": [
    "data = [reg_score, ransac_score, ridge_score, tree_score, forest_score]\n",
    "index = ['Linear Regression', 'Ransac Regression', 'Ridge Regression', 'Decision Tree Regressor', 'Random Forest Regressor']\n",
    "pd.DataFrame(data, index=index, columns=['Scores']).sort_values(ascending = False, by=['Scores'])"
   ]
  },
  {
   "cell_type": "markdown",
   "metadata": {},
   "source": [
    "# Random Forest Regressor gives the good scores with accuracy of 87.8% of all the Regression Models."
   ]
  }
 ],
 "metadata": {
  "kernelspec": {
   "display_name": "Python 3",
   "language": "python",
   "name": "python3"
  },
  "language_info": {
   "codemirror_mode": {
    "name": "ipython",
    "version": 3
   },
   "file_extension": ".py",
   "mimetype": "text/x-python",
   "name": "python",
   "nbconvert_exporter": "python",
   "pygments_lexer": "ipython3",
   "version": "3.8.3"
  }
 },
 "nbformat": 4,
 "nbformat_minor": 4
}
